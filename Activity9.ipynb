{
  "nbformat": 4,
  "nbformat_minor": 0,
  "metadata": {
    "colab": {
      "provenance": [],
      "collapsed_sections": [
        "8KAZbv1XRm-M",
        "cFECvXQ_R6_-",
        "hkuNN4yDR_Ys",
        "qCPXxP7WSKhO",
        "06uGVS-1SP4e",
        "f8-tQBOaSTjw",
        "nL5Xfed0Snbg"
      ],
      "include_colab_link": true
    },
    "kernelspec": {
      "name": "python3",
      "display_name": "Python 3"
    },
    "language_info": {
      "name": "python"
    }
  },
  "cells": [
    {
      "cell_type": "markdown",
      "metadata": {
        "id": "view-in-github",
        "colab_type": "text"
      },
      "source": [
        "<a href=\"https://colab.research.google.com/github/keedjk7/Machine-Learning/blob/main/Activity9.ipynb\" target=\"_parent\"><img src=\"https://colab.research.google.com/assets/colab-badge.svg\" alt=\"Open In Colab\"/></a>"
      ]
    },
    {
      "cell_type": "code",
      "execution_count": null,
      "metadata": {
        "id": "czP3-HehRTzh"
      },
      "outputs": [],
      "source": [
        "import numpy as np\n",
        "import pandas as pd\n",
        "import matplotlib.pyplot as plt\n",
        "from sklearn.preprocessing import StandardScaler\n",
        "from sklearn.model_selection import train_test_split, cross_val_score, StratifiedKFold\n",
        "from sklearn.svm import SVC\n",
        "from sklearn import metrics\n",
        "from sklearn.model_selection import GridSearchCV, RandomizedSearchCV\n",
        "from sklearn.metrics import accuracy_score, classification_report, confusion_matrix\n",
        "import glob\n",
        "from scipy import stats\n",
        "import datetime as dt\n",
        "from sklearn.neural_network import MLPClassifier\n",
        "from keras.layers import Conv2D, MaxPooling2D, Dense, Dropout, Flatten\n",
        "from keras.models import Sequential\n",
        "import tensorflow as tf\n",
        "from sklearn.model_selection import train_test_split"
      ]
    },
    {
      "cell_type": "markdown",
      "source": [
        "#9.1.1"
      ],
      "metadata": {
        "id": "8KAZbv1XRm-M"
      }
    },
    {
      "cell_type": "markdown",
      "source": [
        "##9.1(a) Load and Prepare Data"
      ],
      "metadata": {
        "id": "cFECvXQ_R6_-"
      }
    },
    {
      "cell_type": "code",
      "source": [
        "# Load data from csv 3 files\n",
        "# acceleration.txt, heartrate.txt, labeled_sleep.txt\n",
        "ACC = pd.read_csv('/content/drive/MyDrive/Colab Data/acceleration.txt', sep = ' ',names=['timedelta', 'accX', 'accY', 'accZ'])\n",
        "HeartR = pd.read_csv('/content/drive/MyDrive/Colab Data/heartrate.txt', sep = ',',names=['timedelta', 'heartrate'])\n",
        "SleepL = pd.read_csv('/content/drive/MyDrive/Colab Data/labeled_sleep.txt', sep = ' ',names=['timedelta', 'sleep'])"
      ],
      "metadata": {
        "id": "BDck4JwlRpNB"
      },
      "execution_count": null,
      "outputs": []
    },
    {
      "cell_type": "code",
      "source": [
        "# Check ‘timedelta’ max(), min() of ACC, HeartR, SleepL (ช่วงเวลาที่มีข้อมูลใกล้กัน)\n",
        "ACC_max_date = ACC['timedelta'].max()\n",
        "ACC_min_date = ACC['timedelta'].min()\n",
        "\n",
        "HeartR_max_date = HeartR['timedelta'].max()\n",
        "HeartR_min_date = HeartR['timedelta'].min()\n",
        "\n",
        "SleepL_max_date = SleepL['timedelta'].max()\n",
        "SleepL_min_date = SleepL['timedelta'].min()\n",
        "\n",
        "\n",
        "print('ACC start: ',ACC_min_date ,'ACC end: ',ACC_max_date)\n",
        "print('HeartR start: ',HeartR_min_date ,'HeartR end: ',HeartR_max_date)\n",
        "print('SleepL start: ',SleepL_min_date ,'SleepL end: ',SleepL_max_date)"
      ],
      "metadata": {
        "colab": {
          "base_uri": "https://localhost:8080/"
        },
        "id": "kg78ti3zRy_A",
        "outputId": "215350bf-97f8-4f41-b1e7-3b2deef9e126"
      },
      "execution_count": null,
      "outputs": [
        {
          "output_type": "stream",
          "name": "stdout",
          "text": [
            "ACC start:  97.0 ACC end:  17643.046417\n",
            "HeartR start:  -556410.36066 HeartR end:  16980.47229\n",
            "SleepL start:  0 SleepL end:  16980\n"
          ]
        }
      ]
    },
    {
      "cell_type": "code",
      "source": [
        "#set start timedelta\n",
        "start_timedelta = 0\n",
        "#set end timedelta\n",
        "end_timedelta = 16980\n",
        "\n",
        "ACC_new = ACC[(ACC['timedelta'] >= start_timedelta) &(ACC['timedelta'] <= end_timedelta) ]\n",
        "HeartR_new = HeartR[(HeartR['timedelta'] >= start_timedelta) &(HeartR['timedelta'] <= end_timedelta) ]\n",
        "SleepL_new = SleepL[(SleepL['timedelta'] >= start_timedelta) &(SleepL['timedelta'] <= end_timedelta) ]"
      ],
      "metadata": {
        "id": "egtOc-brR0sk"
      },
      "execution_count": null,
      "outputs": []
    },
    {
      "cell_type": "code",
      "source": [
        "ACC_new"
      ],
      "metadata": {
        "colab": {
          "base_uri": "https://localhost:8080/",
          "height": 483
        },
        "id": "YRExW-n9R6Lf",
        "outputId": "525c2d53-6ad2-4da5-fe90-3c05a56136a0"
      },
      "execution_count": null,
      "outputs": [
        {
          "output_type": "execute_result",
          "data": {
            "text/plain": [
              "           timedelta      accX      accY      accZ\n",
              "0          97.000000  0.914566       NaN       NaN\n",
              "1        1218.423666 -0.256088 -0.303055  0.913590\n",
              "2        1218.443521 -0.257050 -0.304062  0.911636\n",
              "3        1218.463597 -0.255585 -0.303543  0.913590\n",
              "4        1218.483556 -0.256073 -0.302094  0.912125\n",
              "...              ...       ...       ...       ...\n",
              "788976  16979.905934 -0.442413 -0.527573  0.723450\n",
              "788977  16979.925889 -0.441925 -0.527573  0.721985\n",
              "788978  16979.945849 -0.441437 -0.526108  0.721985\n",
              "788979  16979.965927 -0.443405 -0.525116  0.723434\n",
              "788980  16979.985935 -0.441925 -0.524628  0.722458\n",
              "\n",
              "[788981 rows x 4 columns]"
            ],
            "text/html": [
              "\n",
              "  <div id=\"df-e6535151-6945-48d1-bbc8-5e939961ade2\">\n",
              "    <div class=\"colab-df-container\">\n",
              "      <div>\n",
              "<style scoped>\n",
              "    .dataframe tbody tr th:only-of-type {\n",
              "        vertical-align: middle;\n",
              "    }\n",
              "\n",
              "    .dataframe tbody tr th {\n",
              "        vertical-align: top;\n",
              "    }\n",
              "\n",
              "    .dataframe thead th {\n",
              "        text-align: right;\n",
              "    }\n",
              "</style>\n",
              "<table border=\"1\" class=\"dataframe\">\n",
              "  <thead>\n",
              "    <tr style=\"text-align: right;\">\n",
              "      <th></th>\n",
              "      <th>timedelta</th>\n",
              "      <th>accX</th>\n",
              "      <th>accY</th>\n",
              "      <th>accZ</th>\n",
              "    </tr>\n",
              "  </thead>\n",
              "  <tbody>\n",
              "    <tr>\n",
              "      <th>0</th>\n",
              "      <td>97.000000</td>\n",
              "      <td>0.914566</td>\n",
              "      <td>NaN</td>\n",
              "      <td>NaN</td>\n",
              "    </tr>\n",
              "    <tr>\n",
              "      <th>1</th>\n",
              "      <td>1218.423666</td>\n",
              "      <td>-0.256088</td>\n",
              "      <td>-0.303055</td>\n",
              "      <td>0.913590</td>\n",
              "    </tr>\n",
              "    <tr>\n",
              "      <th>2</th>\n",
              "      <td>1218.443521</td>\n",
              "      <td>-0.257050</td>\n",
              "      <td>-0.304062</td>\n",
              "      <td>0.911636</td>\n",
              "    </tr>\n",
              "    <tr>\n",
              "      <th>3</th>\n",
              "      <td>1218.463597</td>\n",
              "      <td>-0.255585</td>\n",
              "      <td>-0.303543</td>\n",
              "      <td>0.913590</td>\n",
              "    </tr>\n",
              "    <tr>\n",
              "      <th>4</th>\n",
              "      <td>1218.483556</td>\n",
              "      <td>-0.256073</td>\n",
              "      <td>-0.302094</td>\n",
              "      <td>0.912125</td>\n",
              "    </tr>\n",
              "    <tr>\n",
              "      <th>...</th>\n",
              "      <td>...</td>\n",
              "      <td>...</td>\n",
              "      <td>...</td>\n",
              "      <td>...</td>\n",
              "    </tr>\n",
              "    <tr>\n",
              "      <th>788976</th>\n",
              "      <td>16979.905934</td>\n",
              "      <td>-0.442413</td>\n",
              "      <td>-0.527573</td>\n",
              "      <td>0.723450</td>\n",
              "    </tr>\n",
              "    <tr>\n",
              "      <th>788977</th>\n",
              "      <td>16979.925889</td>\n",
              "      <td>-0.441925</td>\n",
              "      <td>-0.527573</td>\n",
              "      <td>0.721985</td>\n",
              "    </tr>\n",
              "    <tr>\n",
              "      <th>788978</th>\n",
              "      <td>16979.945849</td>\n",
              "      <td>-0.441437</td>\n",
              "      <td>-0.526108</td>\n",
              "      <td>0.721985</td>\n",
              "    </tr>\n",
              "    <tr>\n",
              "      <th>788979</th>\n",
              "      <td>16979.965927</td>\n",
              "      <td>-0.443405</td>\n",
              "      <td>-0.525116</td>\n",
              "      <td>0.723434</td>\n",
              "    </tr>\n",
              "    <tr>\n",
              "      <th>788980</th>\n",
              "      <td>16979.985935</td>\n",
              "      <td>-0.441925</td>\n",
              "      <td>-0.524628</td>\n",
              "      <td>0.722458</td>\n",
              "    </tr>\n",
              "  </tbody>\n",
              "</table>\n",
              "<p>788981 rows × 4 columns</p>\n",
              "</div>\n",
              "      <button class=\"colab-df-convert\" onclick=\"convertToInteractive('df-e6535151-6945-48d1-bbc8-5e939961ade2')\"\n",
              "              title=\"Convert this dataframe to an interactive table.\"\n",
              "              style=\"display:none;\">\n",
              "        \n",
              "  <svg xmlns=\"http://www.w3.org/2000/svg\" height=\"24px\"viewBox=\"0 0 24 24\"\n",
              "       width=\"24px\">\n",
              "    <path d=\"M0 0h24v24H0V0z\" fill=\"none\"/>\n",
              "    <path d=\"M18.56 5.44l.94 2.06.94-2.06 2.06-.94-2.06-.94-.94-2.06-.94 2.06-2.06.94zm-11 1L8.5 8.5l.94-2.06 2.06-.94-2.06-.94L8.5 2.5l-.94 2.06-2.06.94zm10 10l.94 2.06.94-2.06 2.06-.94-2.06-.94-.94-2.06-.94 2.06-2.06.94z\"/><path d=\"M17.41 7.96l-1.37-1.37c-.4-.4-.92-.59-1.43-.59-.52 0-1.04.2-1.43.59L10.3 9.45l-7.72 7.72c-.78.78-.78 2.05 0 2.83L4 21.41c.39.39.9.59 1.41.59.51 0 1.02-.2 1.41-.59l7.78-7.78 2.81-2.81c.8-.78.8-2.07 0-2.86zM5.41 20L4 18.59l7.72-7.72 1.47 1.35L5.41 20z\"/>\n",
              "  </svg>\n",
              "      </button>\n",
              "      \n",
              "  <style>\n",
              "    .colab-df-container {\n",
              "      display:flex;\n",
              "      flex-wrap:wrap;\n",
              "      gap: 12px;\n",
              "    }\n",
              "\n",
              "    .colab-df-convert {\n",
              "      background-color: #E8F0FE;\n",
              "      border: none;\n",
              "      border-radius: 50%;\n",
              "      cursor: pointer;\n",
              "      display: none;\n",
              "      fill: #1967D2;\n",
              "      height: 32px;\n",
              "      padding: 0 0 0 0;\n",
              "      width: 32px;\n",
              "    }\n",
              "\n",
              "    .colab-df-convert:hover {\n",
              "      background-color: #E2EBFA;\n",
              "      box-shadow: 0px 1px 2px rgba(60, 64, 67, 0.3), 0px 1px 3px 1px rgba(60, 64, 67, 0.15);\n",
              "      fill: #174EA6;\n",
              "    }\n",
              "\n",
              "    [theme=dark] .colab-df-convert {\n",
              "      background-color: #3B4455;\n",
              "      fill: #D2E3FC;\n",
              "    }\n",
              "\n",
              "    [theme=dark] .colab-df-convert:hover {\n",
              "      background-color: #434B5C;\n",
              "      box-shadow: 0px 1px 3px 1px rgba(0, 0, 0, 0.15);\n",
              "      filter: drop-shadow(0px 1px 2px rgba(0, 0, 0, 0.3));\n",
              "      fill: #FFFFFF;\n",
              "    }\n",
              "  </style>\n",
              "\n",
              "      <script>\n",
              "        const buttonEl =\n",
              "          document.querySelector('#df-e6535151-6945-48d1-bbc8-5e939961ade2 button.colab-df-convert');\n",
              "        buttonEl.style.display =\n",
              "          google.colab.kernel.accessAllowed ? 'block' : 'none';\n",
              "\n",
              "        async function convertToInteractive(key) {\n",
              "          const element = document.querySelector('#df-e6535151-6945-48d1-bbc8-5e939961ade2');\n",
              "          const dataTable =\n",
              "            await google.colab.kernel.invokeFunction('convertToInteractive',\n",
              "                                                     [key], {});\n",
              "          if (!dataTable) return;\n",
              "\n",
              "          const docLinkHtml = 'Like what you see? Visit the ' +\n",
              "            '<a target=\"_blank\" href=https://colab.research.google.com/notebooks/data_table.ipynb>data table notebook</a>'\n",
              "            + ' to learn more about interactive tables.';\n",
              "          element.innerHTML = '';\n",
              "          dataTable['output_type'] = 'display_data';\n",
              "          await google.colab.output.renderOutput(dataTable, element);\n",
              "          const docLink = document.createElement('div');\n",
              "          docLink.innerHTML = docLinkHtml;\n",
              "          element.appendChild(docLink);\n",
              "        }\n",
              "      </script>\n",
              "    </div>\n",
              "  </div>\n",
              "  "
            ]
          },
          "metadata": {},
          "execution_count": 10
        }
      ]
    },
    {
      "cell_type": "markdown",
      "source": [
        "##9.1(b) Load and Prepare Data (ACC)"
      ],
      "metadata": {
        "id": "hkuNN4yDR_Ys"
      }
    },
    {
      "cell_type": "code",
      "source": [
        "# ------------ Rounding ACC (Rounding to 1 sec) -------------------------------\n",
        "# Convert to datetime and round to second,\n",
        "ACC_new['timedelta'] = pd.DataFrame(pd.to_timedelta(ACC_new['timedelta'], unit='s').round('1s'))\n",
        "\n",
        "#เวลาที่ duplicate ให้ปัดเป็น mean \n",
        "df_acc_X = ACC_new.groupby('timedelta')['accX'].mean().reset_index()\n",
        "df_acc_Y = ACC_new.groupby('timedelta')['accY'].mean().reset_index()\n",
        "df_acc_Z = ACC_new.groupby('timedelta')['accZ'].mean().reset_index()\n",
        "\n",
        "ACC_new2 = pd.concat([df_acc_X, df_acc_Y['accY'], df_acc_Z['accZ']], axis=1)\n",
        "ACC_new2"
      ],
      "metadata": {
        "colab": {
          "base_uri": "https://localhost:8080/",
          "height": 755
        },
        "id": "KSZjyUv0SEI9",
        "outputId": "0506786b-cb21-40ec-f6c0-ff71008b8bd4"
      },
      "execution_count": null,
      "outputs": [
        {
          "output_type": "stream",
          "name": "stderr",
          "text": [
            "/usr/local/lib/python3.7/dist-packages/ipykernel_launcher.py:3: SettingWithCopyWarning: \n",
            "A value is trying to be set on a copy of a slice from a DataFrame.\n",
            "Try using .loc[row_indexer,col_indexer] = value instead\n",
            "\n",
            "See the caveats in the documentation: https://pandas.pydata.org/pandas-docs/stable/user_guide/indexing.html#returning-a-view-versus-a-copy\n",
            "  This is separate from the ipykernel package so we can avoid doing imports until\n"
          ]
        },
        {
          "output_type": "execute_result",
          "data": {
            "text/plain": [
              "            timedelta      accX      accY      accZ\n",
              "0     0 days 00:01:37  0.914566       NaN       NaN\n",
              "1     0 days 00:20:18 -0.256199 -0.303188  0.912735\n",
              "2     0 days 00:20:19 -0.256069 -0.302910  0.912509\n",
              "3     0 days 00:20:20 -0.255648 -0.302149  0.912890\n",
              "4     0 days 00:20:21 -0.255845 -0.302151  0.912779\n",
              "...               ...       ...       ...       ...\n",
              "15759 0 days 04:42:56 -0.442763 -0.525892  0.722950\n",
              "15760 0 days 04:42:57 -0.441990 -0.525476  0.723410\n",
              "15761 0 days 04:42:58 -0.441581 -0.525116  0.724003\n",
              "15762 0 days 04:42:59 -0.442283 -0.525849  0.723265\n",
              "15763 0 days 04:43:00 -0.442674 -0.525962  0.722678\n",
              "\n",
              "[15764 rows x 4 columns]"
            ],
            "text/html": [
              "\n",
              "  <div id=\"df-54ee224e-27a2-4f0e-a5f7-c284008072d4\">\n",
              "    <div class=\"colab-df-container\">\n",
              "      <div>\n",
              "<style scoped>\n",
              "    .dataframe tbody tr th:only-of-type {\n",
              "        vertical-align: middle;\n",
              "    }\n",
              "\n",
              "    .dataframe tbody tr th {\n",
              "        vertical-align: top;\n",
              "    }\n",
              "\n",
              "    .dataframe thead th {\n",
              "        text-align: right;\n",
              "    }\n",
              "</style>\n",
              "<table border=\"1\" class=\"dataframe\">\n",
              "  <thead>\n",
              "    <tr style=\"text-align: right;\">\n",
              "      <th></th>\n",
              "      <th>timedelta</th>\n",
              "      <th>accX</th>\n",
              "      <th>accY</th>\n",
              "      <th>accZ</th>\n",
              "    </tr>\n",
              "  </thead>\n",
              "  <tbody>\n",
              "    <tr>\n",
              "      <th>0</th>\n",
              "      <td>0 days 00:01:37</td>\n",
              "      <td>0.914566</td>\n",
              "      <td>NaN</td>\n",
              "      <td>NaN</td>\n",
              "    </tr>\n",
              "    <tr>\n",
              "      <th>1</th>\n",
              "      <td>0 days 00:20:18</td>\n",
              "      <td>-0.256199</td>\n",
              "      <td>-0.303188</td>\n",
              "      <td>0.912735</td>\n",
              "    </tr>\n",
              "    <tr>\n",
              "      <th>2</th>\n",
              "      <td>0 days 00:20:19</td>\n",
              "      <td>-0.256069</td>\n",
              "      <td>-0.302910</td>\n",
              "      <td>0.912509</td>\n",
              "    </tr>\n",
              "    <tr>\n",
              "      <th>3</th>\n",
              "      <td>0 days 00:20:20</td>\n",
              "      <td>-0.255648</td>\n",
              "      <td>-0.302149</td>\n",
              "      <td>0.912890</td>\n",
              "    </tr>\n",
              "    <tr>\n",
              "      <th>4</th>\n",
              "      <td>0 days 00:20:21</td>\n",
              "      <td>-0.255845</td>\n",
              "      <td>-0.302151</td>\n",
              "      <td>0.912779</td>\n",
              "    </tr>\n",
              "    <tr>\n",
              "      <th>...</th>\n",
              "      <td>...</td>\n",
              "      <td>...</td>\n",
              "      <td>...</td>\n",
              "      <td>...</td>\n",
              "    </tr>\n",
              "    <tr>\n",
              "      <th>15759</th>\n",
              "      <td>0 days 04:42:56</td>\n",
              "      <td>-0.442763</td>\n",
              "      <td>-0.525892</td>\n",
              "      <td>0.722950</td>\n",
              "    </tr>\n",
              "    <tr>\n",
              "      <th>15760</th>\n",
              "      <td>0 days 04:42:57</td>\n",
              "      <td>-0.441990</td>\n",
              "      <td>-0.525476</td>\n",
              "      <td>0.723410</td>\n",
              "    </tr>\n",
              "    <tr>\n",
              "      <th>15761</th>\n",
              "      <td>0 days 04:42:58</td>\n",
              "      <td>-0.441581</td>\n",
              "      <td>-0.525116</td>\n",
              "      <td>0.724003</td>\n",
              "    </tr>\n",
              "    <tr>\n",
              "      <th>15762</th>\n",
              "      <td>0 days 04:42:59</td>\n",
              "      <td>-0.442283</td>\n",
              "      <td>-0.525849</td>\n",
              "      <td>0.723265</td>\n",
              "    </tr>\n",
              "    <tr>\n",
              "      <th>15763</th>\n",
              "      <td>0 days 04:43:00</td>\n",
              "      <td>-0.442674</td>\n",
              "      <td>-0.525962</td>\n",
              "      <td>0.722678</td>\n",
              "    </tr>\n",
              "  </tbody>\n",
              "</table>\n",
              "<p>15764 rows × 4 columns</p>\n",
              "</div>\n",
              "      <button class=\"colab-df-convert\" onclick=\"convertToInteractive('df-54ee224e-27a2-4f0e-a5f7-c284008072d4')\"\n",
              "              title=\"Convert this dataframe to an interactive table.\"\n",
              "              style=\"display:none;\">\n",
              "        \n",
              "  <svg xmlns=\"http://www.w3.org/2000/svg\" height=\"24px\"viewBox=\"0 0 24 24\"\n",
              "       width=\"24px\">\n",
              "    <path d=\"M0 0h24v24H0V0z\" fill=\"none\"/>\n",
              "    <path d=\"M18.56 5.44l.94 2.06.94-2.06 2.06-.94-2.06-.94-.94-2.06-.94 2.06-2.06.94zm-11 1L8.5 8.5l.94-2.06 2.06-.94-2.06-.94L8.5 2.5l-.94 2.06-2.06.94zm10 10l.94 2.06.94-2.06 2.06-.94-2.06-.94-.94-2.06-.94 2.06-2.06.94z\"/><path d=\"M17.41 7.96l-1.37-1.37c-.4-.4-.92-.59-1.43-.59-.52 0-1.04.2-1.43.59L10.3 9.45l-7.72 7.72c-.78.78-.78 2.05 0 2.83L4 21.41c.39.39.9.59 1.41.59.51 0 1.02-.2 1.41-.59l7.78-7.78 2.81-2.81c.8-.78.8-2.07 0-2.86zM5.41 20L4 18.59l7.72-7.72 1.47 1.35L5.41 20z\"/>\n",
              "  </svg>\n",
              "      </button>\n",
              "      \n",
              "  <style>\n",
              "    .colab-df-container {\n",
              "      display:flex;\n",
              "      flex-wrap:wrap;\n",
              "      gap: 12px;\n",
              "    }\n",
              "\n",
              "    .colab-df-convert {\n",
              "      background-color: #E8F0FE;\n",
              "      border: none;\n",
              "      border-radius: 50%;\n",
              "      cursor: pointer;\n",
              "      display: none;\n",
              "      fill: #1967D2;\n",
              "      height: 32px;\n",
              "      padding: 0 0 0 0;\n",
              "      width: 32px;\n",
              "    }\n",
              "\n",
              "    .colab-df-convert:hover {\n",
              "      background-color: #E2EBFA;\n",
              "      box-shadow: 0px 1px 2px rgba(60, 64, 67, 0.3), 0px 1px 3px 1px rgba(60, 64, 67, 0.15);\n",
              "      fill: #174EA6;\n",
              "    }\n",
              "\n",
              "    [theme=dark] .colab-df-convert {\n",
              "      background-color: #3B4455;\n",
              "      fill: #D2E3FC;\n",
              "    }\n",
              "\n",
              "    [theme=dark] .colab-df-convert:hover {\n",
              "      background-color: #434B5C;\n",
              "      box-shadow: 0px 1px 3px 1px rgba(0, 0, 0, 0.15);\n",
              "      filter: drop-shadow(0px 1px 2px rgba(0, 0, 0, 0.3));\n",
              "      fill: #FFFFFF;\n",
              "    }\n",
              "  </style>\n",
              "\n",
              "      <script>\n",
              "        const buttonEl =\n",
              "          document.querySelector('#df-54ee224e-27a2-4f0e-a5f7-c284008072d4 button.colab-df-convert');\n",
              "        buttonEl.style.display =\n",
              "          google.colab.kernel.accessAllowed ? 'block' : 'none';\n",
              "\n",
              "        async function convertToInteractive(key) {\n",
              "          const element = document.querySelector('#df-54ee224e-27a2-4f0e-a5f7-c284008072d4');\n",
              "          const dataTable =\n",
              "            await google.colab.kernel.invokeFunction('convertToInteractive',\n",
              "                                                     [key], {});\n",
              "          if (!dataTable) return;\n",
              "\n",
              "          const docLinkHtml = 'Like what you see? Visit the ' +\n",
              "            '<a target=\"_blank\" href=https://colab.research.google.com/notebooks/data_table.ipynb>data table notebook</a>'\n",
              "            + ' to learn more about interactive tables.';\n",
              "          element.innerHTML = '';\n",
              "          dataTable['output_type'] = 'display_data';\n",
              "          await google.colab.output.renderOutput(dataTable, element);\n",
              "          const docLink = document.createElement('div');\n",
              "          docLink.innerHTML = docLinkHtml;\n",
              "          element.appendChild(docLink);\n",
              "        }\n",
              "      </script>\n",
              "    </div>\n",
              "  </div>\n",
              "  "
            ]
          },
          "metadata": {},
          "execution_count": 11
        }
      ]
    },
    {
      "cell_type": "markdown",
      "source": [
        "##9.1 (c) Load and Prepare Data (Heart rate)"
      ],
      "metadata": {
        "id": "qCPXxP7WSKhO"
      }
    },
    {
      "cell_type": "code",
      "source": [
        "HeartR_new['timedelta'] = pd.DataFrame(pd.to_timedelta(HeartR_new['timedelta'],unit='s').round('1s'))\n",
        "\n",
        "resample_rule = '1s'\n",
        "HeartR_new2 = HeartR_new.set_index('timedelta').resample(resample_rule,).median().ffill()\n",
        "HeartR_new2"
      ],
      "metadata": {
        "colab": {
          "base_uri": "https://localhost:8080/",
          "height": 786
        },
        "id": "bvMQg5qiSK_l",
        "outputId": "11163e9d-7f78-4fe6-d667-509e5196ca46"
      },
      "execution_count": null,
      "outputs": [
        {
          "output_type": "stream",
          "name": "stderr",
          "text": [
            "/usr/local/lib/python3.7/dist-packages/ipykernel_launcher.py:1: SettingWithCopyWarning: \n",
            "A value is trying to be set on a copy of a slice from a DataFrame.\n",
            "Try using .loc[row_indexer,col_indexer] = value instead\n",
            "\n",
            "See the caveats in the documentation: https://pandas.pydata.org/pandas-docs/stable/user_guide/indexing.html#returning-a-view-versus-a-copy\n",
            "  \"\"\"Entry point for launching an IPython kernel.\n"
          ]
        },
        {
          "output_type": "execute_result",
          "data": {
            "text/plain": [
              "                 heartrate\n",
              "timedelta                 \n",
              "0 days 00:00:08       97.0\n",
              "0 days 00:00:09       97.0\n",
              "0 days 00:00:10       97.0\n",
              "0 days 00:00:11       97.0\n",
              "0 days 00:00:12       97.0\n",
              "...                    ...\n",
              "0 days 04:42:51       75.0\n",
              "0 days 04:42:52       75.0\n",
              "0 days 04:42:53       75.0\n",
              "0 days 04:42:54       75.0\n",
              "0 days 04:42:55       76.0\n",
              "\n",
              "[16968 rows x 1 columns]"
            ],
            "text/html": [
              "\n",
              "  <div id=\"df-4855495a-64ea-4de3-a366-3cdb4bac01c4\">\n",
              "    <div class=\"colab-df-container\">\n",
              "      <div>\n",
              "<style scoped>\n",
              "    .dataframe tbody tr th:only-of-type {\n",
              "        vertical-align: middle;\n",
              "    }\n",
              "\n",
              "    .dataframe tbody tr th {\n",
              "        vertical-align: top;\n",
              "    }\n",
              "\n",
              "    .dataframe thead th {\n",
              "        text-align: right;\n",
              "    }\n",
              "</style>\n",
              "<table border=\"1\" class=\"dataframe\">\n",
              "  <thead>\n",
              "    <tr style=\"text-align: right;\">\n",
              "      <th></th>\n",
              "      <th>heartrate</th>\n",
              "    </tr>\n",
              "    <tr>\n",
              "      <th>timedelta</th>\n",
              "      <th></th>\n",
              "    </tr>\n",
              "  </thead>\n",
              "  <tbody>\n",
              "    <tr>\n",
              "      <th>0 days 00:00:08</th>\n",
              "      <td>97.0</td>\n",
              "    </tr>\n",
              "    <tr>\n",
              "      <th>0 days 00:00:09</th>\n",
              "      <td>97.0</td>\n",
              "    </tr>\n",
              "    <tr>\n",
              "      <th>0 days 00:00:10</th>\n",
              "      <td>97.0</td>\n",
              "    </tr>\n",
              "    <tr>\n",
              "      <th>0 days 00:00:11</th>\n",
              "      <td>97.0</td>\n",
              "    </tr>\n",
              "    <tr>\n",
              "      <th>0 days 00:00:12</th>\n",
              "      <td>97.0</td>\n",
              "    </tr>\n",
              "    <tr>\n",
              "      <th>...</th>\n",
              "      <td>...</td>\n",
              "    </tr>\n",
              "    <tr>\n",
              "      <th>0 days 04:42:51</th>\n",
              "      <td>75.0</td>\n",
              "    </tr>\n",
              "    <tr>\n",
              "      <th>0 days 04:42:52</th>\n",
              "      <td>75.0</td>\n",
              "    </tr>\n",
              "    <tr>\n",
              "      <th>0 days 04:42:53</th>\n",
              "      <td>75.0</td>\n",
              "    </tr>\n",
              "    <tr>\n",
              "      <th>0 days 04:42:54</th>\n",
              "      <td>75.0</td>\n",
              "    </tr>\n",
              "    <tr>\n",
              "      <th>0 days 04:42:55</th>\n",
              "      <td>76.0</td>\n",
              "    </tr>\n",
              "  </tbody>\n",
              "</table>\n",
              "<p>16968 rows × 1 columns</p>\n",
              "</div>\n",
              "      <button class=\"colab-df-convert\" onclick=\"convertToInteractive('df-4855495a-64ea-4de3-a366-3cdb4bac01c4')\"\n",
              "              title=\"Convert this dataframe to an interactive table.\"\n",
              "              style=\"display:none;\">\n",
              "        \n",
              "  <svg xmlns=\"http://www.w3.org/2000/svg\" height=\"24px\"viewBox=\"0 0 24 24\"\n",
              "       width=\"24px\">\n",
              "    <path d=\"M0 0h24v24H0V0z\" fill=\"none\"/>\n",
              "    <path d=\"M18.56 5.44l.94 2.06.94-2.06 2.06-.94-2.06-.94-.94-2.06-.94 2.06-2.06.94zm-11 1L8.5 8.5l.94-2.06 2.06-.94-2.06-.94L8.5 2.5l-.94 2.06-2.06.94zm10 10l.94 2.06.94-2.06 2.06-.94-2.06-.94-.94-2.06-.94 2.06-2.06.94z\"/><path d=\"M17.41 7.96l-1.37-1.37c-.4-.4-.92-.59-1.43-.59-.52 0-1.04.2-1.43.59L10.3 9.45l-7.72 7.72c-.78.78-.78 2.05 0 2.83L4 21.41c.39.39.9.59 1.41.59.51 0 1.02-.2 1.41-.59l7.78-7.78 2.81-2.81c.8-.78.8-2.07 0-2.86zM5.41 20L4 18.59l7.72-7.72 1.47 1.35L5.41 20z\"/>\n",
              "  </svg>\n",
              "      </button>\n",
              "      \n",
              "  <style>\n",
              "    .colab-df-container {\n",
              "      display:flex;\n",
              "      flex-wrap:wrap;\n",
              "      gap: 12px;\n",
              "    }\n",
              "\n",
              "    .colab-df-convert {\n",
              "      background-color: #E8F0FE;\n",
              "      border: none;\n",
              "      border-radius: 50%;\n",
              "      cursor: pointer;\n",
              "      display: none;\n",
              "      fill: #1967D2;\n",
              "      height: 32px;\n",
              "      padding: 0 0 0 0;\n",
              "      width: 32px;\n",
              "    }\n",
              "\n",
              "    .colab-df-convert:hover {\n",
              "      background-color: #E2EBFA;\n",
              "      box-shadow: 0px 1px 2px rgba(60, 64, 67, 0.3), 0px 1px 3px 1px rgba(60, 64, 67, 0.15);\n",
              "      fill: #174EA6;\n",
              "    }\n",
              "\n",
              "    [theme=dark] .colab-df-convert {\n",
              "      background-color: #3B4455;\n",
              "      fill: #D2E3FC;\n",
              "    }\n",
              "\n",
              "    [theme=dark] .colab-df-convert:hover {\n",
              "      background-color: #434B5C;\n",
              "      box-shadow: 0px 1px 3px 1px rgba(0, 0, 0, 0.15);\n",
              "      filter: drop-shadow(0px 1px 2px rgba(0, 0, 0, 0.3));\n",
              "      fill: #FFFFFF;\n",
              "    }\n",
              "  </style>\n",
              "\n",
              "      <script>\n",
              "        const buttonEl =\n",
              "          document.querySelector('#df-4855495a-64ea-4de3-a366-3cdb4bac01c4 button.colab-df-convert');\n",
              "        buttonEl.style.display =\n",
              "          google.colab.kernel.accessAllowed ? 'block' : 'none';\n",
              "\n",
              "        async function convertToInteractive(key) {\n",
              "          const element = document.querySelector('#df-4855495a-64ea-4de3-a366-3cdb4bac01c4');\n",
              "          const dataTable =\n",
              "            await google.colab.kernel.invokeFunction('convertToInteractive',\n",
              "                                                     [key], {});\n",
              "          if (!dataTable) return;\n",
              "\n",
              "          const docLinkHtml = 'Like what you see? Visit the ' +\n",
              "            '<a target=\"_blank\" href=https://colab.research.google.com/notebooks/data_table.ipynb>data table notebook</a>'\n",
              "            + ' to learn more about interactive tables.';\n",
              "          element.innerHTML = '';\n",
              "          dataTable['output_type'] = 'display_data';\n",
              "          await google.colab.output.renderOutput(dataTable, element);\n",
              "          const docLink = document.createElement('div');\n",
              "          docLink.innerHTML = docLinkHtml;\n",
              "          element.appendChild(docLink);\n",
              "        }\n",
              "      </script>\n",
              "    </div>\n",
              "  </div>\n",
              "  "
            ]
          },
          "metadata": {},
          "execution_count": 12
        }
      ]
    },
    {
      "cell_type": "markdown",
      "source": [
        "##9.1 (d) Load and Prepare Data (Sleep Label)"
      ],
      "metadata": {
        "id": "06uGVS-1SP4e"
      }
    },
    {
      "cell_type": "code",
      "source": [
        "SleepL_new['timedelta'] = pd.DataFrame(pd.to_timedelta(SleepL_new['timedelta'],unit='s').round('1s'))\n",
        "\n",
        "# Resampling every 1s with median with ffill\n",
        "resample_rule = '1s'\n",
        "SleepL_new2 = SleepL_new.set_index('timedelta').resample(resample_rule,).median().ffill()\n",
        "SleepL_new2"
      ],
      "metadata": {
        "colab": {
          "base_uri": "https://localhost:8080/",
          "height": 701
        },
        "id": "cqaNNIqASLUx",
        "outputId": "d9756aa6-bb2b-46c0-df2d-7d1c09a89d9d"
      },
      "execution_count": null,
      "outputs": [
        {
          "output_type": "execute_result",
          "data": {
            "text/plain": [
              "                 sleep\n",
              "timedelta             \n",
              "0 days 00:00:00   -1.0\n",
              "0 days 00:00:01   -1.0\n",
              "0 days 00:00:02   -1.0\n",
              "0 days 00:00:03   -1.0\n",
              "0 days 00:00:04   -1.0\n",
              "...                ...\n",
              "0 days 04:42:56    0.0\n",
              "0 days 04:42:57    0.0\n",
              "0 days 04:42:58    0.0\n",
              "0 days 04:42:59    0.0\n",
              "0 days 04:43:00    0.0\n",
              "\n",
              "[16981 rows x 1 columns]"
            ],
            "text/html": [
              "\n",
              "  <div id=\"df-937b1dfe-e849-4407-962f-5cae718702d1\">\n",
              "    <div class=\"colab-df-container\">\n",
              "      <div>\n",
              "<style scoped>\n",
              "    .dataframe tbody tr th:only-of-type {\n",
              "        vertical-align: middle;\n",
              "    }\n",
              "\n",
              "    .dataframe tbody tr th {\n",
              "        vertical-align: top;\n",
              "    }\n",
              "\n",
              "    .dataframe thead th {\n",
              "        text-align: right;\n",
              "    }\n",
              "</style>\n",
              "<table border=\"1\" class=\"dataframe\">\n",
              "  <thead>\n",
              "    <tr style=\"text-align: right;\">\n",
              "      <th></th>\n",
              "      <th>sleep</th>\n",
              "    </tr>\n",
              "    <tr>\n",
              "      <th>timedelta</th>\n",
              "      <th></th>\n",
              "    </tr>\n",
              "  </thead>\n",
              "  <tbody>\n",
              "    <tr>\n",
              "      <th>0 days 00:00:00</th>\n",
              "      <td>-1.0</td>\n",
              "    </tr>\n",
              "    <tr>\n",
              "      <th>0 days 00:00:01</th>\n",
              "      <td>-1.0</td>\n",
              "    </tr>\n",
              "    <tr>\n",
              "      <th>0 days 00:00:02</th>\n",
              "      <td>-1.0</td>\n",
              "    </tr>\n",
              "    <tr>\n",
              "      <th>0 days 00:00:03</th>\n",
              "      <td>-1.0</td>\n",
              "    </tr>\n",
              "    <tr>\n",
              "      <th>0 days 00:00:04</th>\n",
              "      <td>-1.0</td>\n",
              "    </tr>\n",
              "    <tr>\n",
              "      <th>...</th>\n",
              "      <td>...</td>\n",
              "    </tr>\n",
              "    <tr>\n",
              "      <th>0 days 04:42:56</th>\n",
              "      <td>0.0</td>\n",
              "    </tr>\n",
              "    <tr>\n",
              "      <th>0 days 04:42:57</th>\n",
              "      <td>0.0</td>\n",
              "    </tr>\n",
              "    <tr>\n",
              "      <th>0 days 04:42:58</th>\n",
              "      <td>0.0</td>\n",
              "    </tr>\n",
              "    <tr>\n",
              "      <th>0 days 04:42:59</th>\n",
              "      <td>0.0</td>\n",
              "    </tr>\n",
              "    <tr>\n",
              "      <th>0 days 04:43:00</th>\n",
              "      <td>0.0</td>\n",
              "    </tr>\n",
              "  </tbody>\n",
              "</table>\n",
              "<p>16981 rows × 1 columns</p>\n",
              "</div>\n",
              "      <button class=\"colab-df-convert\" onclick=\"convertToInteractive('df-937b1dfe-e849-4407-962f-5cae718702d1')\"\n",
              "              title=\"Convert this dataframe to an interactive table.\"\n",
              "              style=\"display:none;\">\n",
              "        \n",
              "  <svg xmlns=\"http://www.w3.org/2000/svg\" height=\"24px\"viewBox=\"0 0 24 24\"\n",
              "       width=\"24px\">\n",
              "    <path d=\"M0 0h24v24H0V0z\" fill=\"none\"/>\n",
              "    <path d=\"M18.56 5.44l.94 2.06.94-2.06 2.06-.94-2.06-.94-.94-2.06-.94 2.06-2.06.94zm-11 1L8.5 8.5l.94-2.06 2.06-.94-2.06-.94L8.5 2.5l-.94 2.06-2.06.94zm10 10l.94 2.06.94-2.06 2.06-.94-2.06-.94-.94-2.06-.94 2.06-2.06.94z\"/><path d=\"M17.41 7.96l-1.37-1.37c-.4-.4-.92-.59-1.43-.59-.52 0-1.04.2-1.43.59L10.3 9.45l-7.72 7.72c-.78.78-.78 2.05 0 2.83L4 21.41c.39.39.9.59 1.41.59.51 0 1.02-.2 1.41-.59l7.78-7.78 2.81-2.81c.8-.78.8-2.07 0-2.86zM5.41 20L4 18.59l7.72-7.72 1.47 1.35L5.41 20z\"/>\n",
              "  </svg>\n",
              "      </button>\n",
              "      \n",
              "  <style>\n",
              "    .colab-df-container {\n",
              "      display:flex;\n",
              "      flex-wrap:wrap;\n",
              "      gap: 12px;\n",
              "    }\n",
              "\n",
              "    .colab-df-convert {\n",
              "      background-color: #E8F0FE;\n",
              "      border: none;\n",
              "      border-radius: 50%;\n",
              "      cursor: pointer;\n",
              "      display: none;\n",
              "      fill: #1967D2;\n",
              "      height: 32px;\n",
              "      padding: 0 0 0 0;\n",
              "      width: 32px;\n",
              "    }\n",
              "\n",
              "    .colab-df-convert:hover {\n",
              "      background-color: #E2EBFA;\n",
              "      box-shadow: 0px 1px 2px rgba(60, 64, 67, 0.3), 0px 1px 3px 1px rgba(60, 64, 67, 0.15);\n",
              "      fill: #174EA6;\n",
              "    }\n",
              "\n",
              "    [theme=dark] .colab-df-convert {\n",
              "      background-color: #3B4455;\n",
              "      fill: #D2E3FC;\n",
              "    }\n",
              "\n",
              "    [theme=dark] .colab-df-convert:hover {\n",
              "      background-color: #434B5C;\n",
              "      box-shadow: 0px 1px 3px 1px rgba(0, 0, 0, 0.15);\n",
              "      filter: drop-shadow(0px 1px 2px rgba(0, 0, 0, 0.3));\n",
              "      fill: #FFFFFF;\n",
              "    }\n",
              "  </style>\n",
              "\n",
              "      <script>\n",
              "        const buttonEl =\n",
              "          document.querySelector('#df-937b1dfe-e849-4407-962f-5cae718702d1 button.colab-df-convert');\n",
              "        buttonEl.style.display =\n",
              "          google.colab.kernel.accessAllowed ? 'block' : 'none';\n",
              "\n",
              "        async function convertToInteractive(key) {\n",
              "          const element = document.querySelector('#df-937b1dfe-e849-4407-962f-5cae718702d1');\n",
              "          const dataTable =\n",
              "            await google.colab.kernel.invokeFunction('convertToInteractive',\n",
              "                                                     [key], {});\n",
              "          if (!dataTable) return;\n",
              "\n",
              "          const docLinkHtml = 'Like what you see? Visit the ' +\n",
              "            '<a target=\"_blank\" href=https://colab.research.google.com/notebooks/data_table.ipynb>data table notebook</a>'\n",
              "            + ' to learn more about interactive tables.';\n",
              "          element.innerHTML = '';\n",
              "          dataTable['output_type'] = 'display_data';\n",
              "          await google.colab.output.renderOutput(dataTable, element);\n",
              "          const docLink = document.createElement('div');\n",
              "          docLink.innerHTML = docLinkHtml;\n",
              "          element.appendChild(docLink);\n",
              "        }\n",
              "      </script>\n",
              "    </div>\n",
              "  </div>\n",
              "  "
            ]
          },
          "metadata": {},
          "execution_count": 13
        }
      ]
    },
    {
      "cell_type": "markdown",
      "source": [
        "##9.1(e) Merge Data and Standardized data"
      ],
      "metadata": {
        "id": "f8-tQBOaSTjw"
      }
    },
    {
      "cell_type": "code",
      "source": [
        "df = []\n",
        "df = pd.merge_asof(ACC_new2, HeartR_new2, on='timedelta')\n",
        "df = pd.merge_asof(df, SleepL_new2, on = 'timedelta')"
      ],
      "metadata": {
        "id": "1FrFxxPbSVRc"
      },
      "execution_count": null,
      "outputs": []
    },
    {
      "cell_type": "code",
      "source": [
        "count_check =df.isnull().sum()\n",
        "count_check"
      ],
      "metadata": {
        "colab": {
          "base_uri": "https://localhost:8080/"
        },
        "id": "mmtD-jKsSW5r",
        "outputId": "43b6eeae-4c31-43bb-da9d-766510075df4"
      },
      "execution_count": null,
      "outputs": [
        {
          "output_type": "execute_result",
          "data": {
            "text/plain": [
              "timedelta    0\n",
              "accX         0\n",
              "accY         1\n",
              "accZ         1\n",
              "heartrate    0\n",
              "sleep        0\n",
              "dtype: int64"
            ]
          },
          "metadata": {},
          "execution_count": 15
        }
      ]
    },
    {
      "cell_type": "code",
      "source": [
        "fillAccX= df['accX'].median()\n",
        "df['accX']=df['accX'].fillna(fillAccX)\n",
        "fillAccY = df['accY'].median()\n",
        "df['accY']=df['accY'].fillna(fillAccY)\n",
        "fillAccZ = df['accZ'].median()\n",
        "df['accZ']=df['accZ'].fillna(fillAccY)\n",
        "fillHeartRate = df['heartrate'].median()\n",
        "df['heartrate']=df['heartrate'].fillna(fillHeartRate)\n",
        "fillSleep = df['sleep'].median()\n",
        "df['sleep']=df['sleep'].fillna(fillSleep)"
      ],
      "metadata": {
        "id": "Mqze1PpaSYmJ"
      },
      "execution_count": null,
      "outputs": []
    },
    {
      "cell_type": "code",
      "source": [
        "re_check =df.isnull().sum()\n",
        "re_check"
      ],
      "metadata": {
        "colab": {
          "base_uri": "https://localhost:8080/"
        },
        "id": "bOfPou3DSZ-0",
        "outputId": "61eb0388-b0cc-4c1c-9461-9f8945df2509"
      },
      "execution_count": null,
      "outputs": [
        {
          "output_type": "execute_result",
          "data": {
            "text/plain": [
              "timedelta    0\n",
              "accX         0\n",
              "accY         0\n",
              "accZ         0\n",
              "heartrate    0\n",
              "sleep        0\n",
              "dtype: int64"
            ]
          },
          "metadata": {},
          "execution_count": 17
        }
      ]
    },
    {
      "cell_type": "code",
      "source": [
        "df = df.drop(columns = ['timedelta'])\n",
        "df"
      ],
      "metadata": {
        "colab": {
          "base_uri": "https://localhost:8080/",
          "height": 419
        },
        "id": "uSNtB41TScMc",
        "outputId": "f6d6fe16-3bdc-4d8c-8abd-8c58c3400e7c"
      },
      "execution_count": null,
      "outputs": [
        {
          "output_type": "execute_result",
          "data": {
            "text/plain": [
              "           accX      accY      accZ  heartrate  sleep\n",
              "0      0.914566 -0.132058 -0.132058       84.0   -1.0\n",
              "1     -0.256199 -0.303188  0.912735       85.0    0.0\n",
              "2     -0.256069 -0.302910  0.912509       85.0    0.0\n",
              "3     -0.255648 -0.302149  0.912890       85.0    0.0\n",
              "4     -0.255845 -0.302151  0.912779       88.0    0.0\n",
              "...         ...       ...       ...        ...    ...\n",
              "15759 -0.442763 -0.525892  0.722950       76.0    0.0\n",
              "15760 -0.441990 -0.525476  0.723410       76.0    0.0\n",
              "15761 -0.441581 -0.525116  0.724003       76.0    0.0\n",
              "15762 -0.442283 -0.525849  0.723265       76.0    0.0\n",
              "15763 -0.442674 -0.525962  0.722678       76.0    0.0\n",
              "\n",
              "[15764 rows x 5 columns]"
            ],
            "text/html": [
              "\n",
              "  <div id=\"df-7a758158-0a2d-4f06-817a-c341040e720e\">\n",
              "    <div class=\"colab-df-container\">\n",
              "      <div>\n",
              "<style scoped>\n",
              "    .dataframe tbody tr th:only-of-type {\n",
              "        vertical-align: middle;\n",
              "    }\n",
              "\n",
              "    .dataframe tbody tr th {\n",
              "        vertical-align: top;\n",
              "    }\n",
              "\n",
              "    .dataframe thead th {\n",
              "        text-align: right;\n",
              "    }\n",
              "</style>\n",
              "<table border=\"1\" class=\"dataframe\">\n",
              "  <thead>\n",
              "    <tr style=\"text-align: right;\">\n",
              "      <th></th>\n",
              "      <th>accX</th>\n",
              "      <th>accY</th>\n",
              "      <th>accZ</th>\n",
              "      <th>heartrate</th>\n",
              "      <th>sleep</th>\n",
              "    </tr>\n",
              "  </thead>\n",
              "  <tbody>\n",
              "    <tr>\n",
              "      <th>0</th>\n",
              "      <td>0.914566</td>\n",
              "      <td>-0.132058</td>\n",
              "      <td>-0.132058</td>\n",
              "      <td>84.0</td>\n",
              "      <td>-1.0</td>\n",
              "    </tr>\n",
              "    <tr>\n",
              "      <th>1</th>\n",
              "      <td>-0.256199</td>\n",
              "      <td>-0.303188</td>\n",
              "      <td>0.912735</td>\n",
              "      <td>85.0</td>\n",
              "      <td>0.0</td>\n",
              "    </tr>\n",
              "    <tr>\n",
              "      <th>2</th>\n",
              "      <td>-0.256069</td>\n",
              "      <td>-0.302910</td>\n",
              "      <td>0.912509</td>\n",
              "      <td>85.0</td>\n",
              "      <td>0.0</td>\n",
              "    </tr>\n",
              "    <tr>\n",
              "      <th>3</th>\n",
              "      <td>-0.255648</td>\n",
              "      <td>-0.302149</td>\n",
              "      <td>0.912890</td>\n",
              "      <td>85.0</td>\n",
              "      <td>0.0</td>\n",
              "    </tr>\n",
              "    <tr>\n",
              "      <th>4</th>\n",
              "      <td>-0.255845</td>\n",
              "      <td>-0.302151</td>\n",
              "      <td>0.912779</td>\n",
              "      <td>88.0</td>\n",
              "      <td>0.0</td>\n",
              "    </tr>\n",
              "    <tr>\n",
              "      <th>...</th>\n",
              "      <td>...</td>\n",
              "      <td>...</td>\n",
              "      <td>...</td>\n",
              "      <td>...</td>\n",
              "      <td>...</td>\n",
              "    </tr>\n",
              "    <tr>\n",
              "      <th>15759</th>\n",
              "      <td>-0.442763</td>\n",
              "      <td>-0.525892</td>\n",
              "      <td>0.722950</td>\n",
              "      <td>76.0</td>\n",
              "      <td>0.0</td>\n",
              "    </tr>\n",
              "    <tr>\n",
              "      <th>15760</th>\n",
              "      <td>-0.441990</td>\n",
              "      <td>-0.525476</td>\n",
              "      <td>0.723410</td>\n",
              "      <td>76.0</td>\n",
              "      <td>0.0</td>\n",
              "    </tr>\n",
              "    <tr>\n",
              "      <th>15761</th>\n",
              "      <td>-0.441581</td>\n",
              "      <td>-0.525116</td>\n",
              "      <td>0.724003</td>\n",
              "      <td>76.0</td>\n",
              "      <td>0.0</td>\n",
              "    </tr>\n",
              "    <tr>\n",
              "      <th>15762</th>\n",
              "      <td>-0.442283</td>\n",
              "      <td>-0.525849</td>\n",
              "      <td>0.723265</td>\n",
              "      <td>76.0</td>\n",
              "      <td>0.0</td>\n",
              "    </tr>\n",
              "    <tr>\n",
              "      <th>15763</th>\n",
              "      <td>-0.442674</td>\n",
              "      <td>-0.525962</td>\n",
              "      <td>0.722678</td>\n",
              "      <td>76.0</td>\n",
              "      <td>0.0</td>\n",
              "    </tr>\n",
              "  </tbody>\n",
              "</table>\n",
              "<p>15764 rows × 5 columns</p>\n",
              "</div>\n",
              "      <button class=\"colab-df-convert\" onclick=\"convertToInteractive('df-7a758158-0a2d-4f06-817a-c341040e720e')\"\n",
              "              title=\"Convert this dataframe to an interactive table.\"\n",
              "              style=\"display:none;\">\n",
              "        \n",
              "  <svg xmlns=\"http://www.w3.org/2000/svg\" height=\"24px\"viewBox=\"0 0 24 24\"\n",
              "       width=\"24px\">\n",
              "    <path d=\"M0 0h24v24H0V0z\" fill=\"none\"/>\n",
              "    <path d=\"M18.56 5.44l.94 2.06.94-2.06 2.06-.94-2.06-.94-.94-2.06-.94 2.06-2.06.94zm-11 1L8.5 8.5l.94-2.06 2.06-.94-2.06-.94L8.5 2.5l-.94 2.06-2.06.94zm10 10l.94 2.06.94-2.06 2.06-.94-2.06-.94-.94-2.06-.94 2.06-2.06.94z\"/><path d=\"M17.41 7.96l-1.37-1.37c-.4-.4-.92-.59-1.43-.59-.52 0-1.04.2-1.43.59L10.3 9.45l-7.72 7.72c-.78.78-.78 2.05 0 2.83L4 21.41c.39.39.9.59 1.41.59.51 0 1.02-.2 1.41-.59l7.78-7.78 2.81-2.81c.8-.78.8-2.07 0-2.86zM5.41 20L4 18.59l7.72-7.72 1.47 1.35L5.41 20z\"/>\n",
              "  </svg>\n",
              "      </button>\n",
              "      \n",
              "  <style>\n",
              "    .colab-df-container {\n",
              "      display:flex;\n",
              "      flex-wrap:wrap;\n",
              "      gap: 12px;\n",
              "    }\n",
              "\n",
              "    .colab-df-convert {\n",
              "      background-color: #E8F0FE;\n",
              "      border: none;\n",
              "      border-radius: 50%;\n",
              "      cursor: pointer;\n",
              "      display: none;\n",
              "      fill: #1967D2;\n",
              "      height: 32px;\n",
              "      padding: 0 0 0 0;\n",
              "      width: 32px;\n",
              "    }\n",
              "\n",
              "    .colab-df-convert:hover {\n",
              "      background-color: #E2EBFA;\n",
              "      box-shadow: 0px 1px 2px rgba(60, 64, 67, 0.3), 0px 1px 3px 1px rgba(60, 64, 67, 0.15);\n",
              "      fill: #174EA6;\n",
              "    }\n",
              "\n",
              "    [theme=dark] .colab-df-convert {\n",
              "      background-color: #3B4455;\n",
              "      fill: #D2E3FC;\n",
              "    }\n",
              "\n",
              "    [theme=dark] .colab-df-convert:hover {\n",
              "      background-color: #434B5C;\n",
              "      box-shadow: 0px 1px 3px 1px rgba(0, 0, 0, 0.15);\n",
              "      filter: drop-shadow(0px 1px 2px rgba(0, 0, 0, 0.3));\n",
              "      fill: #FFFFFF;\n",
              "    }\n",
              "  </style>\n",
              "\n",
              "      <script>\n",
              "        const buttonEl =\n",
              "          document.querySelector('#df-7a758158-0a2d-4f06-817a-c341040e720e button.colab-df-convert');\n",
              "        buttonEl.style.display =\n",
              "          google.colab.kernel.accessAllowed ? 'block' : 'none';\n",
              "\n",
              "        async function convertToInteractive(key) {\n",
              "          const element = document.querySelector('#df-7a758158-0a2d-4f06-817a-c341040e720e');\n",
              "          const dataTable =\n",
              "            await google.colab.kernel.invokeFunction('convertToInteractive',\n",
              "                                                     [key], {});\n",
              "          if (!dataTable) return;\n",
              "\n",
              "          const docLinkHtml = 'Like what you see? Visit the ' +\n",
              "            '<a target=\"_blank\" href=https://colab.research.google.com/notebooks/data_table.ipynb>data table notebook</a>'\n",
              "            + ' to learn more about interactive tables.';\n",
              "          element.innerHTML = '';\n",
              "          dataTable['output_type'] = 'display_data';\n",
              "          await google.colab.output.renderOutput(dataTable, element);\n",
              "          const docLink = document.createElement('div');\n",
              "          docLink.innerHTML = docLinkHtml;\n",
              "          element.appendChild(docLink);\n",
              "        }\n",
              "      </script>\n",
              "    </div>\n",
              "  </div>\n",
              "  "
            ]
          },
          "metadata": {},
          "execution_count": 18
        }
      ]
    },
    {
      "cell_type": "code",
      "source": [
        "feature_columns = ['accX','accY','accZ','heartrate']\n",
        "label_columns = ['sleep']\n",
        "\n",
        "df_feature = df[feature_columns]\n",
        "df_label = df[label_columns]\n",
        "#standardized\n",
        "standard_scaler = StandardScaler()\n",
        "afterScaler = standard_scaler.fit_transform(df_feature)\n",
        "\n",
        "afterScaler"
      ],
      "metadata": {
        "colab": {
          "base_uri": "https://localhost:8080/"
        },
        "id": "Qr-nGfLpSdiM",
        "outputId": "aa7b81a8-d911-4a46-ba76-75eb4f382807"
      },
      "execution_count": null,
      "outputs": [
        {
          "output_type": "execute_result",
          "data": {
            "text/plain": [
              "array([[ 2.20608726,  0.10679683,  0.14514424,  0.46065692],\n",
              "       [-0.6599218 , -0.42288241,  1.45326813,  0.58966149],\n",
              "       [-0.65960312, -0.42202237,  1.45298498,  0.58966149],\n",
              "       ...,\n",
              "       [-1.11373226, -1.10978677,  1.21696745, -0.57137957],\n",
              "       [-1.11545123, -1.11205754,  1.21604355, -0.57137957],\n",
              "       [-1.11640897, -1.1124061 ,  1.2153084 , -0.57137957]])"
            ]
          },
          "metadata": {},
          "execution_count": 19
        }
      ]
    },
    {
      "cell_type": "code",
      "source": [
        "df_feature = pd.DataFrame(data = afterScaler, index = df_feature.index, columns = feature_columns)\n",
        "\n",
        "df_feature.plot(), df_label.plot()"
      ],
      "metadata": {
        "colab": {
          "base_uri": "https://localhost:8080/",
          "height": 547
        },
        "id": "EbjO0NusShZl",
        "outputId": "ccf65529-2e24-4e90-a807-18644aee4a02"
      },
      "execution_count": null,
      "outputs": [
        {
          "output_type": "execute_result",
          "data": {
            "text/plain": [
              "(<matplotlib.axes._subplots.AxesSubplot at 0x7f6a3924ffd0>,\n",
              " <matplotlib.axes._subplots.AxesSubplot at 0x7f6a39185410>)"
            ]
          },
          "metadata": {},
          "execution_count": 20
        },
        {
          "output_type": "display_data",
          "data": {
            "text/plain": [
              "<Figure size 432x288 with 1 Axes>"
            ],
            "image/png": "[encoded data removed]"
          },
          "metadata": {
            "needs_background": "light"
          }
        },
        {
          "output_type": "display_data",
          "data": {
            "text/plain": [
              "<Figure size 432x288 with 1 Axes>"
            ],
            "image/png": "[encoded data removed]"
          },
          "metadata": {
            "needs_background": "light"
          }
        }
      ]
    },
    {
      "cell_type": "markdown",
      "source": [
        "#9.1.2 Train Test Split"
      ],
      "metadata": {
        "id": "nL5Xfed0Snbg"
      }
    },
    {
      "cell_type": "code",
      "source": [
        "Rseed = 42\n",
        "x_train_set, x_test, y_train_set, y_test = train_test_split(df_feature, df_label, test_size = 0.3, random_state = Rseed)\n",
        "x_train, x_validate, y_train, y_validate = train_test_split(x_train_set, y_train_set, test_size = 0.3, random_state = Rseed)"
      ],
      "metadata": {
        "id": "RvTuj5blS7_8"
      },
      "execution_count": null,
      "outputs": []
    },
    {
      "cell_type": "markdown",
      "source": [
        "#9.2 NN Model Train and Test"
      ],
      "metadata": {
        "id": "-E4I1S9iTCeq"
      }
    },
    {
      "cell_type": "markdown",
      "source": [
        "###NN Model Train Test"
      ],
      "metadata": {
        "id": "G1KCI6zITMXW"
      }
    },
    {
      "cell_type": "code",
      "source": [
        "# ------------ NN Architecture parameter -------------------------------\n",
        "Hidden_Layer_param = (30, 30, 30)\n",
        "#create object model(Multi-layer Perceptron classifier.)\n",
        "mlp = MLPClassifier(hidden_layer_sizes = Hidden_Layer_param)\n",
        "# View NN model parameters"
      ],
      "metadata": {
        "id": "HKSVA3IaS8F3"
      },
      "execution_count": null,
      "outputs": []
    },
    {
      "cell_type": "code",
      "source": [
        "# ------------ Training NN using 1D features -------------------------------\n",
        "mlp.fit(x_train,y_train)\n",
        "mlp_pred = mlp.predict(x_test)"
      ],
      "metadata": {
        "colab": {
          "base_uri": "https://localhost:8080/"
        },
        "id": "LlFGtPuhb0Sc",
        "outputId": "06cb384c-5e93-4f39-8f29-8c091026d846"
      },
      "execution_count": null,
      "outputs": [
        {
          "output_type": "stream",
          "name": "stderr",
          "text": [
            "/usr/local/lib/python3.7/dist-packages/sklearn/neural_network/_multilayer_perceptron.py:1109: DataConversionWarning: A column-vector y was passed when a 1d array was expected. Please change the shape of y to (n_samples, ), for example using ravel().\n",
            "  y = column_or_1d(y, warn=True)\n",
            "/usr/local/lib/python3.7/dist-packages/sklearn/neural_network/_multilayer_perceptron.py:696: ConvergenceWarning: Stochastic Optimizer: Maximum iterations (200) reached and the optimization hasn't converged yet.\n",
            "  ConvergenceWarning,\n"
          ]
        }
      ]
    },
    {
      "cell_type": "code",
      "source": [
        "#View Confusion Matrix and Classification Report\n",
        "print('Confusion Matrix')\n",
        "confusion_matrix(y_test,mlp_pred)"
      ],
      "metadata": {
        "colab": {
          "base_uri": "https://localhost:8080/"
        },
        "id": "p587n4ZPcKb1",
        "outputId": "2707bf60-5f06-423a-f451-b2467449f975"
      },
      "execution_count": null,
      "outputs": [
        {
          "output_type": "stream",
          "name": "stdout",
          "text": [
            "Confusion Matrix\n"
          ]
        },
        {
          "output_type": "execute_result",
          "data": {
            "text/plain": [
              "array([[   0,    1,    0,    0,    0,    0],\n",
              "       [   0,  424,   36,   26,   17,    1],\n",
              "       [   0,   66,  114,   86,    4,    3],\n",
              "       [   0,  115,   43, 1219,   79,   60],\n",
              "       [   0,    6,    0,   62, 1332,    0],\n",
              "       [   0,    0,    6,   20,    0, 1010]])"
            ]
          },
          "metadata": {},
          "execution_count": 28
        }
      ]
    },
    {
      "cell_type": "code",
      "source": [
        "print('Classification RBF')\n",
        "print(classification_report(y_test,mlp_pred))"
      ],
      "metadata": {
        "colab": {
          "base_uri": "https://localhost:8080/"
        },
        "id": "YP1-7G8rcVrb",
        "outputId": "a77a7e49-e1eb-4e56-9f2d-cc075a350f86"
      },
      "execution_count": null,
      "outputs": [
        {
          "output_type": "stream",
          "name": "stdout",
          "text": [
            "Classification RBF\n",
            "              precision    recall  f1-score   support\n",
            "\n",
            "        -1.0       0.00      0.00      0.00         1\n",
            "         0.0       0.69      0.84      0.76       504\n",
            "         1.0       0.57      0.42      0.48       273\n",
            "         2.0       0.86      0.80      0.83      1516\n",
            "         3.0       0.93      0.95      0.94      1400\n",
            "         5.0       0.94      0.97      0.96      1036\n",
            "\n",
            "    accuracy                           0.87      4730\n",
            "   macro avg       0.67      0.66      0.66      4730\n",
            "weighted avg       0.86      0.87      0.86      4730\n",
            "\n"
          ]
        },
        {
          "output_type": "stream",
          "name": "stderr",
          "text": [
            "/usr/local/lib/python3.7/dist-packages/sklearn/metrics/_classification.py:1318: UndefinedMetricWarning: Precision and F-score are ill-defined and being set to 0.0 in labels with no predicted samples. Use `zero_division` parameter to control this behavior.\n",
            "  _warn_prf(average, modifier, msg_start, len(result))\n",
            "/usr/local/lib/python3.7/dist-packages/sklearn/metrics/_classification.py:1318: UndefinedMetricWarning: Precision and F-score are ill-defined and being set to 0.0 in labels with no predicted samples. Use `zero_division` parameter to control this behavior.\n",
            "  _warn_prf(average, modifier, msg_start, len(result))\n",
            "/usr/local/lib/python3.7/dist-packages/sklearn/metrics/_classification.py:1318: UndefinedMetricWarning: Precision and F-score are ill-defined and being set to 0.0 in labels with no predicted samples. Use `zero_division` parameter to control this behavior.\n",
            "  _warn_prf(average, modifier, msg_start, len(result))\n"
          ]
        }
      ]
    },
    {
      "cell_type": "markdown",
      "source": [
        "##9.3.1CNN Model Train and Test"
      ],
      "metadata": {
        "id": "XFDTS7gNcdTV"
      }
    },
    {
      "cell_type": "code",
      "source": [
        "# ------------ CNN Architecture parameter -------------------------------\n",
        "# Nlayer (CNN, dense), Nnode, Activation\n",
        "CNN_L1 = 16\n",
        "CNN_L2 = 64\n",
        "CNN_L3 = 128\n",
        "D_L1 = 512\n",
        "D_out = 6\n",
        "Activation = \"relu\"\n",
        "Ker_size = (3,3)\n",
        "Pooling_size = (2,1)\n",
        "slidingW = 100\n",
        "n_feature = 4\n",
        "Input_shape = (slidingW, n_feature, 1)"
      ],
      "metadata": {
        "id": "PlTL70l2cfFz"
      },
      "execution_count": null,
      "outputs": []
    },
    {
      "cell_type": "code",
      "source": [
        "# ------------ Create CNN Model -------------------------------\n",
        "model= Sequential()\n",
        "model.add(Conv2D(CNN_L1, kernel_size=Ker_size, activation=Activation,input_shape=Input_shape,padding='same'))\n",
        "model.add(MaxPooling2D(pool_size=Pooling_size))\n",
        "model.add(Dropout(0.4))\n",
        "model.add(Conv2D(CNN_L2, kernel_size=Ker_size, activation= Activation, padding='same'))\n",
        "model.add(MaxPooling2D(pool_size= Pooling_size))\n",
        "model.add(Dropout(0.4))\n",
        "model.add(Conv2D(CNN_L3, kernel_size=Ker_size, activation= Activation,padding='same'))\n",
        "model.add(MaxPooling2D(pool_size= Pooling_size))\n",
        "model.add(Dropout(0.4))\n",
        "model.add(Flatten())\n",
        "model.add(Dense(D_L1 , activation= Activation ))\n",
        "model.add(Dense(D_out, activation='sigmoid'))\n",
        "model.compile(optimizer='adam', metrics=['accuracy'])\n",
        "model.summary()"
      ],
      "metadata": {
        "colab": {
          "base_uri": "https://localhost:8080/"
        },
        "id": "szdseIm_my7K",
        "outputId": "b56cd82a-afdb-4ef4-c32c-104d713131e8"
      },
      "execution_count": null,
      "outputs": [
        {
          "output_type": "stream",
          "name": "stdout",
          "text": [
            "Model: \"sequential_2\"\n",
            "_________________________________________________________________\n",
            " Layer (type)                Output Shape              Param #   \n",
            "=================================================================\n",
            " conv2d (Conv2D)             (None, 100, 4, 16)        160       \n",
            "                                                                 \n",
            " max_pooling2d (MaxPooling2D  (None, 50, 4, 16)        0         \n",
            " )                                                               \n",
            "                                                                 \n",
            " dropout (Dropout)           (None, 50, 4, 16)         0         \n",
            "                                                                 \n",
            " conv2d_1 (Conv2D)           (None, 50, 4, 64)         9280      \n",
            "                                                                 \n",
            " max_pooling2d_1 (MaxPooling  (None, 25, 4, 64)        0         \n",
            " 2D)                                                             \n",
            "                                                                 \n",
            " dropout_1 (Dropout)         (None, 25, 4, 64)         0         \n",
            "                                                                 \n",
            " conv2d_2 (Conv2D)           (None, 25, 4, 128)        73856     \n",
            "                                                                 \n",
            " max_pooling2d_2 (MaxPooling  (None, 12, 4, 128)       0         \n",
            " 2D)                                                             \n",
            "                                                                 \n",
            " dropout_2 (Dropout)         (None, 12, 4, 128)        0         \n",
            "                                                                 \n",
            " flatten (Flatten)           (None, 6144)              0         \n",
            "                                                                 \n",
            " dense (Dense)               (None, 512)               3146240   \n",
            "                                                                 \n",
            " dense_1 (Dense)             (None, 6)                 3078      \n",
            "                                                                 \n",
            "=================================================================\n",
            "Total params: 3,232,614\n",
            "Trainable params: 3,232,614\n",
            "Non-trainable params: 0\n",
            "_________________________________________________________________\n"
          ]
        }
      ]
    },
    {
      "cell_type": "code",
      "source": [
        "# ------------ Create Optimizer -------------------------------\n",
        "model.compile(optimizer='adam',\n",
        "loss= tf.keras.losses.SparseCategoricalCrossentropy(from_logits=True),\n",
        "metrics=[\"acc\"])"
      ],
      "metadata": {
        "id": "WVFMWoxgrCJ_"
      },
      "execution_count": null,
      "outputs": []
    },
    {
      "cell_type": "code",
      "source": [
        "#split train test 3d\n",
        "Stride_step = 5\n",
        "df_feature3D = np.array([],ndmin=2)\n",
        "df_label_new = np.array([])\n",
        "\n",
        "for t in range(0 , len(df_feature), Stride_step ):\n",
        "    F3d = np.array(df_feature[t:t+slidingW],ndmin=2)\n",
        "    if len(F3d) <slidingW:\n",
        "        break\n",
        "    F3d.reshape(slidingW, n_feature,1)\n",
        "    if df_feature3D.size == 0 :\n",
        "        df_feature3D = F3d\n",
        "    else:\n",
        "        df_feature3D = np.dstack((df_feature3D,F3d))\n",
        "    Labels = stats.mode(df_label[t : t+slidingW])\n",
        "    df_label_new = np.append(df_label_new,Labels[0])\n",
        "\n",
        "df_feature3D = np.swapaxes(df_feature3D,0,2)\n",
        "df_feature3D = np.swapaxes(df_feature3D,1,2)\n",
        "df_feature3D = df_feature3D[..., np.newaxis]\n",
        "x3D_train, x3D_test, y3D_train, y3D_test = train_test_split( df_feature3D , df_label_new,test_size = 0.33 ,random_state=2)"
      ],
      "metadata": {
        "id": "aueFgam7ubxA"
      },
      "execution_count": null,
      "outputs": []
    },
    {
      "cell_type": "code",
      "source": [
        "# ------ Train CNN using 3D feature--------------------------------------------\n",
        "history = model.fit(x3D_train, y3D_train, epochs=50, batch_size=64,\n",
        "validation_data=(x3D_test, y3D_test))"
      ],
      "metadata": {
        "colab": {
          "base_uri": "https://localhost:8080/"
        },
        "id": "5-Rmoiryub40",
        "outputId": "0a7c21b2-56aa-4b77-c7a0-d190714b4503"
      },
      "execution_count": null,
      "outputs": [
        {
          "output_type": "stream",
          "name": "stdout",
          "text": [
            "Epoch 1/50\n"
          ]
        },
        {
          "output_type": "stream",
          "name": "stderr",
          "text": [
            "/usr/local/lib/python3.7/dist-packages/tensorflow/python/util/dispatch.py:1082: UserWarning: \"`sparse_categorical_crossentropy` received `from_logits=True`, but the `output` argument was produced by a sigmoid or softmax activation and thus does not represent logits. Was this intended?\"\n",
            "  return dispatch_target(*args, **kwargs)\n"
          ]
        },
        {
          "output_type": "stream",
          "name": "stdout",
          "text": [
            "33/33 [==============================] - 5s 131ms/step - loss: 1.1239 - acc: 0.5145 - val_loss: 0.8483 - val_acc: 0.6731\n",
            "Epoch 2/50\n",
            "33/33 [==============================] - 4s 126ms/step - loss: 0.7320 - acc: 0.6670 - val_loss: 0.6753 - val_acc: 0.7099\n",
            "Epoch 3/50\n",
            "33/33 [==============================] - 4s 126ms/step - loss: 0.5691 - acc: 0.7480 - val_loss: 0.5301 - val_acc: 0.7901\n",
            "Epoch 4/50\n",
            "33/33 [==============================] - 4s 125ms/step - loss: 0.5134 - acc: 0.7866 - val_loss: 0.5517 - val_acc: 0.8182\n",
            "Epoch 5/50\n",
            "33/33 [==============================] - 4s 124ms/step - loss: 0.4758 - acc: 0.8104 - val_loss: 0.4910 - val_acc: 0.7892\n",
            "Epoch 6/50\n",
            "33/33 [==============================] - 4s 126ms/step - loss: 0.4178 - acc: 0.8290 - val_loss: 0.4373 - val_acc: 0.8317\n",
            "Epoch 7/50\n",
            "33/33 [==============================] - 4s 124ms/step - loss: 0.4008 - acc: 0.8294 - val_loss: 0.4485 - val_acc: 0.8259\n",
            "Epoch 8/50\n",
            "33/33 [==============================] - 4s 126ms/step - loss: 0.3821 - acc: 0.8466 - val_loss: 0.4589 - val_acc: 0.8066\n",
            "Epoch 9/50\n",
            "33/33 [==============================] - 4s 137ms/step - loss: 0.3862 - acc: 0.8452 - val_loss: 0.3780 - val_acc: 0.8549\n",
            "Epoch 10/50\n",
            "33/33 [==============================] - 4s 126ms/step - loss: 0.3383 - acc: 0.8623 - val_loss: 0.3765 - val_acc: 0.8288\n",
            "Epoch 11/50\n",
            "33/33 [==============================] - 4s 126ms/step - loss: 0.3196 - acc: 0.8695 - val_loss: 0.3538 - val_acc: 0.8540\n",
            "Epoch 12/50\n",
            "33/33 [==============================] - 4s 125ms/step - loss: 0.3121 - acc: 0.8766 - val_loss: 0.3615 - val_acc: 0.8530\n",
            "Epoch 13/50\n",
            "33/33 [==============================] - 4s 125ms/step - loss: 0.3053 - acc: 0.8780 - val_loss: 0.3106 - val_acc: 0.8559\n",
            "Epoch 14/50\n",
            "33/33 [==============================] - 4s 125ms/step - loss: 0.3161 - acc: 0.8637 - val_loss: 0.3476 - val_acc: 0.8501\n",
            "Epoch 15/50\n",
            "33/33 [==============================] - 4s 126ms/step - loss: 0.2894 - acc: 0.8785 - val_loss: 0.3085 - val_acc: 0.8607\n",
            "Epoch 16/50\n",
            "33/33 [==============================] - 4s 127ms/step - loss: 0.2624 - acc: 0.8928 - val_loss: 0.3120 - val_acc: 0.8482\n",
            "Epoch 17/50\n",
            "33/33 [==============================] - 6s 171ms/step - loss: 0.2361 - acc: 0.9061 - val_loss: 0.2508 - val_acc: 0.8839\n",
            "Epoch 18/50\n",
            "33/33 [==============================] - 4s 128ms/step - loss: 0.2506 - acc: 0.8890 - val_loss: 0.2443 - val_acc: 0.9052\n",
            "Epoch 19/50\n",
            "33/33 [==============================] - 4s 128ms/step - loss: 0.2641 - acc: 0.8899 - val_loss: 0.2709 - val_acc: 0.8926\n",
            "Epoch 20/50\n",
            "33/33 [==============================] - 4s 130ms/step - loss: 0.2259 - acc: 0.9090 - val_loss: 0.2453 - val_acc: 0.9014\n",
            "Epoch 21/50\n",
            "33/33 [==============================] - 4s 128ms/step - loss: 0.2364 - acc: 0.9047 - val_loss: 0.2434 - val_acc: 0.9043\n",
            "Epoch 22/50\n",
            "33/33 [==============================] - 5s 150ms/step - loss: 0.2176 - acc: 0.9095 - val_loss: 0.2513 - val_acc: 0.8994\n",
            "Epoch 23/50\n",
            "33/33 [==============================] - 4s 128ms/step - loss: 0.2241 - acc: 0.9019 - val_loss: 0.2301 - val_acc: 0.9014\n",
            "Epoch 24/50\n",
            "33/33 [==============================] - 4s 127ms/step - loss: 0.2330 - acc: 0.8980 - val_loss: 0.2456 - val_acc: 0.9043\n",
            "Epoch 25/50\n",
            "33/33 [==============================] - 4s 128ms/step - loss: 0.2132 - acc: 0.9119 - val_loss: 0.2670 - val_acc: 0.8743\n",
            "Epoch 26/50\n",
            "33/33 [==============================] - 4s 127ms/step - loss: 0.1915 - acc: 0.9166 - val_loss: 0.1756 - val_acc: 0.9352\n",
            "Epoch 27/50\n",
            "33/33 [==============================] - 4s 129ms/step - loss: 0.1838 - acc: 0.9176 - val_loss: 0.2014 - val_acc: 0.9217\n",
            "Epoch 28/50\n",
            "33/33 [==============================] - 4s 127ms/step - loss: 0.1792 - acc: 0.9238 - val_loss: 0.1868 - val_acc: 0.9178\n",
            "Epoch 29/50\n",
            "33/33 [==============================] - 4s 127ms/step - loss: 0.2062 - acc: 0.9100 - val_loss: 0.2170 - val_acc: 0.9197\n",
            "Epoch 30/50\n",
            "33/33 [==============================] - 4s 128ms/step - loss: 0.1932 - acc: 0.9171 - val_loss: 0.2080 - val_acc: 0.9023\n",
            "Epoch 31/50\n",
            "33/33 [==============================] - 4s 127ms/step - loss: 0.1898 - acc: 0.9257 - val_loss: 0.1710 - val_acc: 0.9400\n",
            "Epoch 32/50\n",
            "33/33 [==============================] - 4s 127ms/step - loss: 0.1527 - acc: 0.9385 - val_loss: 0.1706 - val_acc: 0.9255\n",
            "Epoch 33/50\n",
            "33/33 [==============================] - 4s 128ms/step - loss: 0.1624 - acc: 0.9271 - val_loss: 0.1786 - val_acc: 0.9294\n",
            "Epoch 34/50\n",
            "33/33 [==============================] - 4s 127ms/step - loss: 0.1727 - acc: 0.9295 - val_loss: 0.1909 - val_acc: 0.9110\n",
            "Epoch 35/50\n",
            "33/33 [==============================] - 5s 146ms/step - loss: 0.1516 - acc: 0.9257 - val_loss: 0.1604 - val_acc: 0.9478\n",
            "Epoch 36/50\n",
            "33/33 [==============================] - 5s 167ms/step - loss: 0.1505 - acc: 0.9352 - val_loss: 0.2117 - val_acc: 0.9101\n",
            "Epoch 37/50\n",
            "33/33 [==============================] - 5s 143ms/step - loss: 0.1759 - acc: 0.9209 - val_loss: 0.1892 - val_acc: 0.9188\n",
            "Epoch 38/50\n",
            "33/33 [==============================] - 4s 128ms/step - loss: 0.1550 - acc: 0.9338 - val_loss: 0.3036 - val_acc: 0.8636\n",
            "Epoch 39/50\n",
            "33/33 [==============================] - 5s 155ms/step - loss: 0.1667 - acc: 0.9314 - val_loss: 0.2144 - val_acc: 0.9149\n",
            "Epoch 40/50\n",
            "33/33 [==============================] - 5s 144ms/step - loss: 0.1650 - acc: 0.9233 - val_loss: 0.1911 - val_acc: 0.9265\n",
            "Epoch 41/50\n",
            "33/33 [==============================] - 4s 127ms/step - loss: 0.1379 - acc: 0.9452 - val_loss: 0.1599 - val_acc: 0.9275\n",
            "Epoch 42/50\n",
            "33/33 [==============================] - 5s 142ms/step - loss: 0.1453 - acc: 0.9376 - val_loss: 0.1858 - val_acc: 0.9197\n",
            "Epoch 43/50\n",
            "33/33 [==============================] - 4s 130ms/step - loss: 0.1371 - acc: 0.9462 - val_loss: 0.1444 - val_acc: 0.9410\n",
            "Epoch 44/50\n",
            "33/33 [==============================] - 6s 183ms/step - loss: 0.1258 - acc: 0.9466 - val_loss: 0.1473 - val_acc: 0.9333\n",
            "Epoch 45/50\n",
            "33/33 [==============================] - 4s 128ms/step - loss: 0.1330 - acc: 0.9419 - val_loss: 0.1518 - val_acc: 0.9391\n",
            "Epoch 46/50\n",
            "33/33 [==============================] - 5s 148ms/step - loss: 0.1223 - acc: 0.9490 - val_loss: 0.1335 - val_acc: 0.9458\n",
            "Epoch 47/50\n",
            "33/33 [==============================] - 6s 173ms/step - loss: 0.1434 - acc: 0.9366 - val_loss: 0.2068 - val_acc: 0.9072\n",
            "Epoch 48/50\n",
            "33/33 [==============================] - 7s 229ms/step - loss: 0.1585 - acc: 0.9309 - val_loss: 0.1562 - val_acc: 0.9429\n",
            "Epoch 49/50\n",
            "33/33 [==============================] - 6s 193ms/step - loss: 0.1326 - acc: 0.9443 - val_loss: 0.1364 - val_acc: 0.9458\n",
            "Epoch 50/50\n",
            "33/33 [==============================] - 5s 152ms/step - loss: 0.1315 - acc: 0.9438 - val_loss: 0.1948 - val_acc: 0.9130\n"
          ]
        }
      ]
    },
    {
      "cell_type": "code",
      "source": [
        "# ------- Test CNN -------------------------------\n",
        "CNN_pred = model.predict(x3D_test)"
      ],
      "metadata": {
        "colab": {
          "base_uri": "https://localhost:8080/"
        },
        "id": "jwH_X_-Xwqwa",
        "outputId": "c8568a16-5016-4c40-ef7a-fc191cbfbb9f"
      },
      "execution_count": null,
      "outputs": [
        {
          "output_type": "stream",
          "name": "stdout",
          "text": [
            "33/33 [==============================] - 1s 28ms/step\n"
          ]
        }
      ]
    },
    {
      "cell_type": "markdown",
      "source": [
        "##Performnace of CNN Model"
      ],
      "metadata": {
        "id": "2NADuIZTxGAc"
      }
    },
    {
      "cell_type": "code",
      "source": [
        "#View Confusion Matrix and Classification Report\n",
        "print('Confusion Matrix')\n",
        "confusion_matrix(y_test,mlp_pred)"
      ],
      "metadata": {
        "colab": {
          "base_uri": "https://localhost:8080/"
        },
        "id": "ZnjH4xpUxHOi",
        "outputId": "6e4a0170-c762-4d91-f514-0a243b9be9b8"
      },
      "execution_count": null,
      "outputs": [
        {
          "output_type": "stream",
          "name": "stdout",
          "text": [
            "Confusion Matrix\n"
          ]
        },
        {
          "output_type": "execute_result",
          "data": {
            "text/plain": [
              "array([[   0,    1,    0,    0,    0,    0],\n",
              "       [   0,  424,   36,   26,   17,    1],\n",
              "       [   0,   66,  114,   86,    4,    3],\n",
              "       [   0,  115,   43, 1219,   79,   60],\n",
              "       [   0,    6,    0,   62, 1332,    0],\n",
              "       [   0,    0,    6,   20,    0, 1010]])"
            ]
          },
          "metadata": {},
          "execution_count": 59
        }
      ]
    },
    {
      "cell_type": "code",
      "source": [
        "print('Classification RBF')\n",
        "print(classification_report(y_test,mlp_pred))"
      ],
      "metadata": {
        "colab": {
          "base_uri": "https://localhost:8080/"
        },
        "id": "ZFObN6KkxQFh",
        "outputId": "fcefecdc-fc6d-4369-adc7-d19e705e8db5"
      },
      "execution_count": null,
      "outputs": [
        {
          "output_type": "stream",
          "name": "stdout",
          "text": [
            "Classification RBF\n",
            "              precision    recall  f1-score   support\n",
            "\n",
            "        -1.0       0.00      0.00      0.00         1\n",
            "         0.0       0.69      0.84      0.76       504\n",
            "         1.0       0.57      0.42      0.48       273\n",
            "         2.0       0.86      0.80      0.83      1516\n",
            "         3.0       0.93      0.95      0.94      1400\n",
            "         5.0       0.94      0.97      0.96      1036\n",
            "\n",
            "    accuracy                           0.87      4730\n",
            "   macro avg       0.67      0.66      0.66      4730\n",
            "weighted avg       0.86      0.87      0.86      4730\n",
            "\n"
          ]
        },
        {
          "output_type": "stream",
          "name": "stderr",
          "text": [
            "/usr/local/lib/python3.7/dist-packages/sklearn/metrics/_classification.py:1318: UndefinedMetricWarning: Precision and F-score are ill-defined and being set to 0.0 in labels with no predicted samples. Use `zero_division` parameter to control this behavior.\n",
            "  _warn_prf(average, modifier, msg_start, len(result))\n",
            "/usr/local/lib/python3.7/dist-packages/sklearn/metrics/_classification.py:1318: UndefinedMetricWarning: Precision and F-score are ill-defined and being set to 0.0 in labels with no predicted samples. Use `zero_division` parameter to control this behavior.\n",
            "  _warn_prf(average, modifier, msg_start, len(result))\n",
            "/usr/local/lib/python3.7/dist-packages/sklearn/metrics/_classification.py:1318: UndefinedMetricWarning: Precision and F-score are ill-defined and being set to 0.0 in labels with no predicted samples. Use `zero_division` parameter to control this behavior.\n",
            "  _warn_prf(average, modifier, msg_start, len(result))\n"
          ]
        }
      ]
    },
    {
      "cell_type": "code",
      "source": [
        "# ------ View History Graph -------------------------------------------\n",
        "# View Accuracy Graph\n",
        "# summarize history for accuracy\n",
        "plt.plot(history.history['acc'])\n",
        "plt.plot(history.history['val_acc'])\n",
        "plt.show()"
      ],
      "metadata": {
        "colab": {
          "base_uri": "https://localhost:8080/",
          "height": 265
        },
        "id": "x-zxxXz7xSp0",
        "outputId": "3db47760-1514-42c7-aa3f-a1e645408b6f"
      },
      "execution_count": null,
      "outputs": [
        {
          "output_type": "display_data",
          "data": {
            "text/plain": [
              "<Figure size 432x288 with 1 Axes>"
            ],
            "image/png": "[encoded data removed]"
          },
          "metadata": {
            "needs_background": "light"
          }
        }
      ]
    },
    {
      "cell_type": "code",
      "source": [
        "# View Loss Graph\n",
        "# summarize history for loss\n",
        "plt.plot(history.history['loss'])\n",
        "plt.plot(history.history['val_loss'])\n",
        "plt.show()"
      ],
      "metadata": {
        "colab": {
          "base_uri": "https://localhost:8080/",
          "height": 265
        },
        "id": "O14jW-2XxWD1",
        "outputId": "5803ca6e-a1ad-4536-f5bf-c8c024093c8d"
      },
      "execution_count": null,
      "outputs": [
        {
          "output_type": "display_data",
          "data": {
            "text/plain": [
              "<Figure size 432x288 with 1 Axes>"
            ],
            "image/png": "[encoded data removed]"
          },
          "metadata": {
            "needs_background": "light"
          }
        }
      ]
    }
  ]
}