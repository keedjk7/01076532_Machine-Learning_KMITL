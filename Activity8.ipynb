{
  "nbformat": 4,
  "nbformat_minor": 0,
  "metadata": {
    "colab": {
      "provenance": [],
      "collapsed_sections": [
        "RDQDRI2oy8Zg",
        "QxVZOcqky-4R",
        "Wh71ZIcq24rr",
        "b2DipWWC4HG3",
        "ZNOEjlsT41Oi",
        "-obN47kg7Hvi",
        "IQqywcDZ7BbA",
        "mUZmfOfq7TEf"
      ]
    },
    "kernelspec": {
      "name": "python3",
      "display_name": "Python 3"
    },
    "language_info": {
      "name": "python"
    },
    "accelerator": "GPU",
    "gpuClass": "standard"
  },
  "cells": [
    {
      "cell_type": "code",
      "execution_count": 62,
      "metadata": {
        "id": "oTIgcUzRyvcM"
      },
      "outputs": [],
      "source": [
        "import numpy as np\n",
        "import pandas as pd\n",
        "import matplotlib.pyplot as plt\n",
        "from sklearn.preprocessing import StandardScaler\n",
        "from sklearn.model_selection import train_test_split, cross_val_score, StratifiedKFold\n",
        "from sklearn.svm import SVC\n",
        "from sklearn import metrics\n",
        "from sklearn.model_selection import GridSearchCV, RandomizedSearchCV\n",
        "from sklearn.metrics import accuracy_score, classification_report, confusion_matrix\n",
        "import glob\n",
        "from scipy import stats\n",
        "import datetime as dt\n",
        "from matplotlib.pylab import rcParams"
      ]
    },
    {
      "cell_type": "code",
      "source": [
        "from google.colab import drive\n",
        "drive.mount('/content/drive')"
      ],
      "metadata": {
        "colab": {
          "base_uri": "https://localhost:8080/"
        },
        "id": "8aKxVfdUA21F",
        "outputId": "3ff8bd71-6d58-4142-e91c-e8fcab9bb3e6"
      },
      "execution_count": 63,
      "outputs": [
        {
          "output_type": "stream",
          "name": "stdout",
          "text": [
            "Drive already mounted at /content/drive; to attempt to forcibly remount, call drive.mount(\"/content/drive\", force_remount=True).\n"
          ]
        }
      ]
    },
    {
      "cell_type": "markdown",
      "source": [
        "#8.1"
      ],
      "metadata": {
        "id": "RDQDRI2oy8Zg"
      }
    },
    {
      "cell_type": "markdown",
      "source": [
        "##8.1(a) Load and Prepare Data"
      ],
      "metadata": {
        "id": "QxVZOcqky-4R"
      }
    },
    {
      "cell_type": "code",
      "source": [
        "# Load data from csv 3 files\n",
        "# acceleration.txt, heartrate.txt, labeled_sleep.txt\n",
        "ACC = pd.read_csv('/content/drive/MyDrive/Colab Data/acceleration.txt', sep = ' ',names=['timedelta', 'accX', 'accY', 'accZ'])\n",
        "HeartR = pd.read_csv('/content/drive/MyDrive/Colab Data/heartrate.txt', sep = ',',names=['timedelta', 'heartrate'])\n",
        "SleepL = pd.read_csv('/content/drive/MyDrive/Colab Data/labeled_sleep.txt', sep = ' ',names=['timedelta', 'sleep'])"
      ],
      "metadata": {
        "id": "iscvxk-8zETd"
      },
      "execution_count": 64,
      "outputs": []
    },
    {
      "cell_type": "code",
      "source": [
        "# Check ‘timedelta’ max(), min() of ACC, HeartR, SleepL (ช่วงเวลาที่มีข้อมูลใกล้กัน)\n",
        "ACC_max_date = ACC['timedelta'].max()\n",
        "ACC_min_date = ACC['timedelta'].min()\n",
        "\n",
        "HeartR_max_date = HeartR['timedelta'].max()\n",
        "HeartR_min_date = HeartR['timedelta'].min()\n",
        "\n",
        "SleepL_max_date = SleepL['timedelta'].max()\n",
        "SleepL_min_date = SleepL['timedelta'].min()\n",
        "\n",
        "\n",
        "print('ACC start: ',ACC_min_date ,'ACC end: ',ACC_max_date)\n",
        "print('HeartR start: ',HeartR_min_date ,'HeartR end: ',HeartR_max_date)\n",
        "print('SleepL start: ',SleepL_min_date ,'SleepL end: ',SleepL_max_date)"
      ],
      "metadata": {
        "colab": {
          "base_uri": "https://localhost:8080/"
        },
        "id": "cp4Nue1pzJLb",
        "outputId": "79b96105-9873-4701-af20-060b07b2ebce"
      },
      "execution_count": 65,
      "outputs": [
        {
          "output_type": "stream",
          "name": "stdout",
          "text": [
            "ACC start:  97.0 ACC end:  17643.046417\n",
            "HeartR start:  -556410.36066 HeartR end:  16980.47229\n",
            "SleepL start:  0 SleepL end:  16980\n"
          ]
        }
      ]
    },
    {
      "cell_type": "code",
      "source": [
        "#set start timedelta\n",
        "start_timedelta = 0\n",
        "#set end timedelta\n",
        "end_timedelta = 16980\n",
        "\n",
        "ACC_new = ACC[(ACC['timedelta'] >= start_timedelta) &(ACC['timedelta'] <= end_timedelta) ]\n",
        "HeartR_new = HeartR[(HeartR['timedelta'] >= start_timedelta) &(HeartR['timedelta'] <= end_timedelta) ]\n",
        "SleepL_new = SleepL[(SleepL['timedelta'] >= start_timedelta) &(SleepL['timedelta'] <= end_timedelta) ]"
      ],
      "metadata": {
        "id": "gllm--d-1d_x"
      },
      "execution_count": 66,
      "outputs": []
    },
    {
      "cell_type": "code",
      "source": [
        "ACC_new"
      ],
      "metadata": {
        "colab": {
          "base_uri": "https://localhost:8080/",
          "height": 483
        },
        "id": "ra9lF9Lp3LmJ",
        "outputId": "86b80b10-70cd-40c6-f297-87a779e9e9f1"
      },
      "execution_count": 67,
      "outputs": [
        {
          "output_type": "execute_result",
          "data": {
            "text/plain": [
              "           timedelta      accX      accY      accZ\n",
              "0          97.000000  0.914566       NaN       NaN\n",
              "1        1218.423666 -0.256088 -0.303055  0.913590\n",
              "2        1218.443521 -0.257050 -0.304062  0.911636\n",
              "3        1218.463597 -0.255585 -0.303543  0.913590\n",
              "4        1218.483556 -0.256073 -0.302094  0.912125\n",
              "...              ...       ...       ...       ...\n",
              "788976  16979.905934 -0.442413 -0.527573  0.723450\n",
              "788977  16979.925889 -0.441925 -0.527573  0.721985\n",
              "788978  16979.945849 -0.441437 -0.526108  0.721985\n",
              "788979  16979.965927 -0.443405 -0.525116  0.723434\n",
              "788980  16979.985935 -0.441925 -0.524628  0.722458\n",
              "\n",
              "[788981 rows x 4 columns]"
            ],
            "text/html": [
              "\n",
              "  <div id=\"df-ea3cd7dc-218c-4c78-8269-32176c82c251\">\n",
              "    <div class=\"colab-df-container\">\n",
              "      <div>\n",
              "<style scoped>\n",
              "    .dataframe tbody tr th:only-of-type {\n",
              "        vertical-align: middle;\n",
              "    }\n",
              "\n",
              "    .dataframe tbody tr th {\n",
              "        vertical-align: top;\n",
              "    }\n",
              "\n",
              "    .dataframe thead th {\n",
              "        text-align: right;\n",
              "    }\n",
              "</style>\n",
              "<table border=\"1\" class=\"dataframe\">\n",
              "  <thead>\n",
              "    <tr style=\"text-align: right;\">\n",
              "      <th></th>\n",
              "      <th>timedelta</th>\n",
              "      <th>accX</th>\n",
              "      <th>accY</th>\n",
              "      <th>accZ</th>\n",
              "    </tr>\n",
              "  </thead>\n",
              "  <tbody>\n",
              "    <tr>\n",
              "      <th>0</th>\n",
              "      <td>97.000000</td>\n",
              "      <td>0.914566</td>\n",
              "      <td>NaN</td>\n",
              "      <td>NaN</td>\n",
              "    </tr>\n",
              "    <tr>\n",
              "      <th>1</th>\n",
              "      <td>1218.423666</td>\n",
              "      <td>-0.256088</td>\n",
              "      <td>-0.303055</td>\n",
              "      <td>0.913590</td>\n",
              "    </tr>\n",
              "    <tr>\n",
              "      <th>2</th>\n",
              "      <td>1218.443521</td>\n",
              "      <td>-0.257050</td>\n",
              "      <td>-0.304062</td>\n",
              "      <td>0.911636</td>\n",
              "    </tr>\n",
              "    <tr>\n",
              "      <th>3</th>\n",
              "      <td>1218.463597</td>\n",
              "      <td>-0.255585</td>\n",
              "      <td>-0.303543</td>\n",
              "      <td>0.913590</td>\n",
              "    </tr>\n",
              "    <tr>\n",
              "      <th>4</th>\n",
              "      <td>1218.483556</td>\n",
              "      <td>-0.256073</td>\n",
              "      <td>-0.302094</td>\n",
              "      <td>0.912125</td>\n",
              "    </tr>\n",
              "    <tr>\n",
              "      <th>...</th>\n",
              "      <td>...</td>\n",
              "      <td>...</td>\n",
              "      <td>...</td>\n",
              "      <td>...</td>\n",
              "    </tr>\n",
              "    <tr>\n",
              "      <th>788976</th>\n",
              "      <td>16979.905934</td>\n",
              "      <td>-0.442413</td>\n",
              "      <td>-0.527573</td>\n",
              "      <td>0.723450</td>\n",
              "    </tr>\n",
              "    <tr>\n",
              "      <th>788977</th>\n",
              "      <td>16979.925889</td>\n",
              "      <td>-0.441925</td>\n",
              "      <td>-0.527573</td>\n",
              "      <td>0.721985</td>\n",
              "    </tr>\n",
              "    <tr>\n",
              "      <th>788978</th>\n",
              "      <td>16979.945849</td>\n",
              "      <td>-0.441437</td>\n",
              "      <td>-0.526108</td>\n",
              "      <td>0.721985</td>\n",
              "    </tr>\n",
              "    <tr>\n",
              "      <th>788979</th>\n",
              "      <td>16979.965927</td>\n",
              "      <td>-0.443405</td>\n",
              "      <td>-0.525116</td>\n",
              "      <td>0.723434</td>\n",
              "    </tr>\n",
              "    <tr>\n",
              "      <th>788980</th>\n",
              "      <td>16979.985935</td>\n",
              "      <td>-0.441925</td>\n",
              "      <td>-0.524628</td>\n",
              "      <td>0.722458</td>\n",
              "    </tr>\n",
              "  </tbody>\n",
              "</table>\n",
              "<p>788981 rows × 4 columns</p>\n",
              "</div>\n",
              "      <button class=\"colab-df-convert\" onclick=\"convertToInteractive('df-ea3cd7dc-218c-4c78-8269-32176c82c251')\"\n",
              "              title=\"Convert this dataframe to an interactive table.\"\n",
              "              style=\"display:none;\">\n",
              "        \n",
              "  <svg xmlns=\"http://www.w3.org/2000/svg\" height=\"24px\"viewBox=\"0 0 24 24\"\n",
              "       width=\"24px\">\n",
              "    <path d=\"M0 0h24v24H0V0z\" fill=\"none\"/>\n",
              "    <path d=\"M18.56 5.44l.94 2.06.94-2.06 2.06-.94-2.06-.94-.94-2.06-.94 2.06-2.06.94zm-11 1L8.5 8.5l.94-2.06 2.06-.94-2.06-.94L8.5 2.5l-.94 2.06-2.06.94zm10 10l.94 2.06.94-2.06 2.06-.94-2.06-.94-.94-2.06-.94 2.06-2.06.94z\"/><path d=\"M17.41 7.96l-1.37-1.37c-.4-.4-.92-.59-1.43-.59-.52 0-1.04.2-1.43.59L10.3 9.45l-7.72 7.72c-.78.78-.78 2.05 0 2.83L4 21.41c.39.39.9.59 1.41.59.51 0 1.02-.2 1.41-.59l7.78-7.78 2.81-2.81c.8-.78.8-2.07 0-2.86zM5.41 20L4 18.59l7.72-7.72 1.47 1.35L5.41 20z\"/>\n",
              "  </svg>\n",
              "      </button>\n",
              "      \n",
              "  <style>\n",
              "    .colab-df-container {\n",
              "      display:flex;\n",
              "      flex-wrap:wrap;\n",
              "      gap: 12px;\n",
              "    }\n",
              "\n",
              "    .colab-df-convert {\n",
              "      background-color: #E8F0FE;\n",
              "      border: none;\n",
              "      border-radius: 50%;\n",
              "      cursor: pointer;\n",
              "      display: none;\n",
              "      fill: #1967D2;\n",
              "      height: 32px;\n",
              "      padding: 0 0 0 0;\n",
              "      width: 32px;\n",
              "    }\n",
              "\n",
              "    .colab-df-convert:hover {\n",
              "      background-color: #E2EBFA;\n",
              "      box-shadow: 0px 1px 2px rgba(60, 64, 67, 0.3), 0px 1px 3px 1px rgba(60, 64, 67, 0.15);\n",
              "      fill: #174EA6;\n",
              "    }\n",
              "\n",
              "    [theme=dark] .colab-df-convert {\n",
              "      background-color: #3B4455;\n",
              "      fill: #D2E3FC;\n",
              "    }\n",
              "\n",
              "    [theme=dark] .colab-df-convert:hover {\n",
              "      background-color: #434B5C;\n",
              "      box-shadow: 0px 1px 3px 1px rgba(0, 0, 0, 0.15);\n",
              "      filter: drop-shadow(0px 1px 2px rgba(0, 0, 0, 0.3));\n",
              "      fill: #FFFFFF;\n",
              "    }\n",
              "  </style>\n",
              "\n",
              "      <script>\n",
              "        const buttonEl =\n",
              "          document.querySelector('#df-ea3cd7dc-218c-4c78-8269-32176c82c251 button.colab-df-convert');\n",
              "        buttonEl.style.display =\n",
              "          google.colab.kernel.accessAllowed ? 'block' : 'none';\n",
              "\n",
              "        async function convertToInteractive(key) {\n",
              "          const element = document.querySelector('#df-ea3cd7dc-218c-4c78-8269-32176c82c251');\n",
              "          const dataTable =\n",
              "            await google.colab.kernel.invokeFunction('convertToInteractive',\n",
              "                                                     [key], {});\n",
              "          if (!dataTable) return;\n",
              "\n",
              "          const docLinkHtml = 'Like what you see? Visit the ' +\n",
              "            '<a target=\"_blank\" href=https://colab.research.google.com/notebooks/data_table.ipynb>data table notebook</a>'\n",
              "            + ' to learn more about interactive tables.';\n",
              "          element.innerHTML = '';\n",
              "          dataTable['output_type'] = 'display_data';\n",
              "          await google.colab.output.renderOutput(dataTable, element);\n",
              "          const docLink = document.createElement('div');\n",
              "          docLink.innerHTML = docLinkHtml;\n",
              "          element.appendChild(docLink);\n",
              "        }\n",
              "      </script>\n",
              "    </div>\n",
              "  </div>\n",
              "  "
            ]
          },
          "metadata": {},
          "execution_count": 67
        }
      ]
    },
    {
      "cell_type": "markdown",
      "source": [
        "##8.1(b) Load and Prepare Data (ACC)"
      ],
      "metadata": {
        "id": "Wh71ZIcq24rr"
      }
    },
    {
      "cell_type": "code",
      "source": [
        "# ------------ Rounding ACC (Rounding to 1 sec) -------------------------------\n",
        "# Convert to datetime and round to second,\n",
        "ACC_new['timedelta'] = pd.DataFrame(pd.to_timedelta(ACC_new['timedelta'], unit='s').round('1s'))\n",
        "\n",
        "#เวลาที่ duplicate ให้ปัดเป็น mean \n",
        "df_acc_X = ACC_new.groupby('timedelta')['accX'].mean().reset_index()\n",
        "df_acc_Y = ACC_new.groupby('timedelta')['accY'].mean().reset_index()\n",
        "df_acc_Z = ACC_new.groupby('timedelta')['accZ'].mean().reset_index()\n",
        "\n",
        "ACC_new2 = pd.concat([df_acc_X, df_acc_Y['accY'], df_acc_Z['accZ']], axis=1)\n",
        "ACC_new2"
      ],
      "metadata": {
        "colab": {
          "base_uri": "https://localhost:8080/",
          "height": 755
        },
        "id": "Xr8LGEBl24M-",
        "outputId": "21c56157-72f2-4b38-b90a-f7b5e9e89bb5"
      },
      "execution_count": 68,
      "outputs": [
        {
          "output_type": "stream",
          "name": "stderr",
          "text": [
            "/usr/local/lib/python3.7/dist-packages/ipykernel_launcher.py:3: SettingWithCopyWarning: \n",
            "A value is trying to be set on a copy of a slice from a DataFrame.\n",
            "Try using .loc[row_indexer,col_indexer] = value instead\n",
            "\n",
            "See the caveats in the documentation: https://pandas.pydata.org/pandas-docs/stable/user_guide/indexing.html#returning-a-view-versus-a-copy\n",
            "  This is separate from the ipykernel package so we can avoid doing imports until\n"
          ]
        },
        {
          "output_type": "execute_result",
          "data": {
            "text/plain": [
              "            timedelta      accX      accY      accZ\n",
              "0     0 days 00:01:37  0.914566       NaN       NaN\n",
              "1     0 days 00:20:18 -0.256199 -0.303188  0.912735\n",
              "2     0 days 00:20:19 -0.256069 -0.302910  0.912509\n",
              "3     0 days 00:20:20 -0.255648 -0.302149  0.912890\n",
              "4     0 days 00:20:21 -0.255845 -0.302151  0.912779\n",
              "...               ...       ...       ...       ...\n",
              "15759 0 days 04:42:56 -0.442763 -0.525892  0.722950\n",
              "15760 0 days 04:42:57 -0.441990 -0.525476  0.723410\n",
              "15761 0 days 04:42:58 -0.441581 -0.525116  0.724003\n",
              "15762 0 days 04:42:59 -0.442283 -0.525849  0.723265\n",
              "15763 0 days 04:43:00 -0.442674 -0.525962  0.722678\n",
              "\n",
              "[15764 rows x 4 columns]"
            ],
            "text/html": [
              "\n",
              "  <div id=\"df-6d1c0dee-6880-4987-8f8c-944e05c51ef2\">\n",
              "    <div class=\"colab-df-container\">\n",
              "      <div>\n",
              "<style scoped>\n",
              "    .dataframe tbody tr th:only-of-type {\n",
              "        vertical-align: middle;\n",
              "    }\n",
              "\n",
              "    .dataframe tbody tr th {\n",
              "        vertical-align: top;\n",
              "    }\n",
              "\n",
              "    .dataframe thead th {\n",
              "        text-align: right;\n",
              "    }\n",
              "</style>\n",
              "<table border=\"1\" class=\"dataframe\">\n",
              "  <thead>\n",
              "    <tr style=\"text-align: right;\">\n",
              "      <th></th>\n",
              "      <th>timedelta</th>\n",
              "      <th>accX</th>\n",
              "      <th>accY</th>\n",
              "      <th>accZ</th>\n",
              "    </tr>\n",
              "  </thead>\n",
              "  <tbody>\n",
              "    <tr>\n",
              "      <th>0</th>\n",
              "      <td>0 days 00:01:37</td>\n",
              "      <td>0.914566</td>\n",
              "      <td>NaN</td>\n",
              "      <td>NaN</td>\n",
              "    </tr>\n",
              "    <tr>\n",
              "      <th>1</th>\n",
              "      <td>0 days 00:20:18</td>\n",
              "      <td>-0.256199</td>\n",
              "      <td>-0.303188</td>\n",
              "      <td>0.912735</td>\n",
              "    </tr>\n",
              "    <tr>\n",
              "      <th>2</th>\n",
              "      <td>0 days 00:20:19</td>\n",
              "      <td>-0.256069</td>\n",
              "      <td>-0.302910</td>\n",
              "      <td>0.912509</td>\n",
              "    </tr>\n",
              "    <tr>\n",
              "      <th>3</th>\n",
              "      <td>0 days 00:20:20</td>\n",
              "      <td>-0.255648</td>\n",
              "      <td>-0.302149</td>\n",
              "      <td>0.912890</td>\n",
              "    </tr>\n",
              "    <tr>\n",
              "      <th>4</th>\n",
              "      <td>0 days 00:20:21</td>\n",
              "      <td>-0.255845</td>\n",
              "      <td>-0.302151</td>\n",
              "      <td>0.912779</td>\n",
              "    </tr>\n",
              "    <tr>\n",
              "      <th>...</th>\n",
              "      <td>...</td>\n",
              "      <td>...</td>\n",
              "      <td>...</td>\n",
              "      <td>...</td>\n",
              "    </tr>\n",
              "    <tr>\n",
              "      <th>15759</th>\n",
              "      <td>0 days 04:42:56</td>\n",
              "      <td>-0.442763</td>\n",
              "      <td>-0.525892</td>\n",
              "      <td>0.722950</td>\n",
              "    </tr>\n",
              "    <tr>\n",
              "      <th>15760</th>\n",
              "      <td>0 days 04:42:57</td>\n",
              "      <td>-0.441990</td>\n",
              "      <td>-0.525476</td>\n",
              "      <td>0.723410</td>\n",
              "    </tr>\n",
              "    <tr>\n",
              "      <th>15761</th>\n",
              "      <td>0 days 04:42:58</td>\n",
              "      <td>-0.441581</td>\n",
              "      <td>-0.525116</td>\n",
              "      <td>0.724003</td>\n",
              "    </tr>\n",
              "    <tr>\n",
              "      <th>15762</th>\n",
              "      <td>0 days 04:42:59</td>\n",
              "      <td>-0.442283</td>\n",
              "      <td>-0.525849</td>\n",
              "      <td>0.723265</td>\n",
              "    </tr>\n",
              "    <tr>\n",
              "      <th>15763</th>\n",
              "      <td>0 days 04:43:00</td>\n",
              "      <td>-0.442674</td>\n",
              "      <td>-0.525962</td>\n",
              "      <td>0.722678</td>\n",
              "    </tr>\n",
              "  </tbody>\n",
              "</table>\n",
              "<p>15764 rows × 4 columns</p>\n",
              "</div>\n",
              "      <button class=\"colab-df-convert\" onclick=\"convertToInteractive('df-6d1c0dee-6880-4987-8f8c-944e05c51ef2')\"\n",
              "              title=\"Convert this dataframe to an interactive table.\"\n",
              "              style=\"display:none;\">\n",
              "        \n",
              "  <svg xmlns=\"http://www.w3.org/2000/svg\" height=\"24px\"viewBox=\"0 0 24 24\"\n",
              "       width=\"24px\">\n",
              "    <path d=\"M0 0h24v24H0V0z\" fill=\"none\"/>\n",
              "    <path d=\"M18.56 5.44l.94 2.06.94-2.06 2.06-.94-2.06-.94-.94-2.06-.94 2.06-2.06.94zm-11 1L8.5 8.5l.94-2.06 2.06-.94-2.06-.94L8.5 2.5l-.94 2.06-2.06.94zm10 10l.94 2.06.94-2.06 2.06-.94-2.06-.94-.94-2.06-.94 2.06-2.06.94z\"/><path d=\"M17.41 7.96l-1.37-1.37c-.4-.4-.92-.59-1.43-.59-.52 0-1.04.2-1.43.59L10.3 9.45l-7.72 7.72c-.78.78-.78 2.05 0 2.83L4 21.41c.39.39.9.59 1.41.59.51 0 1.02-.2 1.41-.59l7.78-7.78 2.81-2.81c.8-.78.8-2.07 0-2.86zM5.41 20L4 18.59l7.72-7.72 1.47 1.35L5.41 20z\"/>\n",
              "  </svg>\n",
              "      </button>\n",
              "      \n",
              "  <style>\n",
              "    .colab-df-container {\n",
              "      display:flex;\n",
              "      flex-wrap:wrap;\n",
              "      gap: 12px;\n",
              "    }\n",
              "\n",
              "    .colab-df-convert {\n",
              "      background-color: #E8F0FE;\n",
              "      border: none;\n",
              "      border-radius: 50%;\n",
              "      cursor: pointer;\n",
              "      display: none;\n",
              "      fill: #1967D2;\n",
              "      height: 32px;\n",
              "      padding: 0 0 0 0;\n",
              "      width: 32px;\n",
              "    }\n",
              "\n",
              "    .colab-df-convert:hover {\n",
              "      background-color: #E2EBFA;\n",
              "      box-shadow: 0px 1px 2px rgba(60, 64, 67, 0.3), 0px 1px 3px 1px rgba(60, 64, 67, 0.15);\n",
              "      fill: #174EA6;\n",
              "    }\n",
              "\n",
              "    [theme=dark] .colab-df-convert {\n",
              "      background-color: #3B4455;\n",
              "      fill: #D2E3FC;\n",
              "    }\n",
              "\n",
              "    [theme=dark] .colab-df-convert:hover {\n",
              "      background-color: #434B5C;\n",
              "      box-shadow: 0px 1px 3px 1px rgba(0, 0, 0, 0.15);\n",
              "      filter: drop-shadow(0px 1px 2px rgba(0, 0, 0, 0.3));\n",
              "      fill: #FFFFFF;\n",
              "    }\n",
              "  </style>\n",
              "\n",
              "      <script>\n",
              "        const buttonEl =\n",
              "          document.querySelector('#df-6d1c0dee-6880-4987-8f8c-944e05c51ef2 button.colab-df-convert');\n",
              "        buttonEl.style.display =\n",
              "          google.colab.kernel.accessAllowed ? 'block' : 'none';\n",
              "\n",
              "        async function convertToInteractive(key) {\n",
              "          const element = document.querySelector('#df-6d1c0dee-6880-4987-8f8c-944e05c51ef2');\n",
              "          const dataTable =\n",
              "            await google.colab.kernel.invokeFunction('convertToInteractive',\n",
              "                                                     [key], {});\n",
              "          if (!dataTable) return;\n",
              "\n",
              "          const docLinkHtml = 'Like what you see? Visit the ' +\n",
              "            '<a target=\"_blank\" href=https://colab.research.google.com/notebooks/data_table.ipynb>data table notebook</a>'\n",
              "            + ' to learn more about interactive tables.';\n",
              "          element.innerHTML = '';\n",
              "          dataTable['output_type'] = 'display_data';\n",
              "          await google.colab.output.renderOutput(dataTable, element);\n",
              "          const docLink = document.createElement('div');\n",
              "          docLink.innerHTML = docLinkHtml;\n",
              "          element.appendChild(docLink);\n",
              "        }\n",
              "      </script>\n",
              "    </div>\n",
              "  </div>\n",
              "  "
            ]
          },
          "metadata": {},
          "execution_count": 68
        }
      ]
    },
    {
      "cell_type": "markdown",
      "source": [
        "##8.1 (c) Load and Prepare Data (Heart rate)"
      ],
      "metadata": {
        "id": "b2DipWWC4HG3"
      }
    },
    {
      "cell_type": "code",
      "source": [
        "HeartR_new['timedelta'] = pd.DataFrame(pd.to_timedelta(HeartR_new['timedelta'],unit='s').round('1s'))\n",
        "\n",
        "resample_rule = '1s'\n",
        "HeartR_new2 = HeartR_new.set_index('timedelta').resample(resample_rule,).median().ffill()\n",
        "HeartR_new2"
      ],
      "metadata": {
        "colab": {
          "base_uri": "https://localhost:8080/",
          "height": 786
        },
        "id": "SLQ_vZ7_4ZQp",
        "outputId": "f12e0d0e-3e92-4036-9dbe-6407ab29d069"
      },
      "execution_count": 69,
      "outputs": [
        {
          "output_type": "stream",
          "name": "stderr",
          "text": [
            "/usr/local/lib/python3.7/dist-packages/ipykernel_launcher.py:1: SettingWithCopyWarning: \n",
            "A value is trying to be set on a copy of a slice from a DataFrame.\n",
            "Try using .loc[row_indexer,col_indexer] = value instead\n",
            "\n",
            "See the caveats in the documentation: https://pandas.pydata.org/pandas-docs/stable/user_guide/indexing.html#returning-a-view-versus-a-copy\n",
            "  \"\"\"Entry point for launching an IPython kernel.\n"
          ]
        },
        {
          "output_type": "execute_result",
          "data": {
            "text/plain": [
              "                 heartrate\n",
              "timedelta                 \n",
              "0 days 00:00:08       97.0\n",
              "0 days 00:00:09       97.0\n",
              "0 days 00:00:10       97.0\n",
              "0 days 00:00:11       97.0\n",
              "0 days 00:00:12       97.0\n",
              "...                    ...\n",
              "0 days 04:42:51       75.0\n",
              "0 days 04:42:52       75.0\n",
              "0 days 04:42:53       75.0\n",
              "0 days 04:42:54       75.0\n",
              "0 days 04:42:55       76.0\n",
              "\n",
              "[16968 rows x 1 columns]"
            ],
            "text/html": [
              "\n",
              "  <div id=\"df-84beec68-8a52-4f13-9129-f6daa5e9e185\">\n",
              "    <div class=\"colab-df-container\">\n",
              "      <div>\n",
              "<style scoped>\n",
              "    .dataframe tbody tr th:only-of-type {\n",
              "        vertical-align: middle;\n",
              "    }\n",
              "\n",
              "    .dataframe tbody tr th {\n",
              "        vertical-align: top;\n",
              "    }\n",
              "\n",
              "    .dataframe thead th {\n",
              "        text-align: right;\n",
              "    }\n",
              "</style>\n",
              "<table border=\"1\" class=\"dataframe\">\n",
              "  <thead>\n",
              "    <tr style=\"text-align: right;\">\n",
              "      <th></th>\n",
              "      <th>heartrate</th>\n",
              "    </tr>\n",
              "    <tr>\n",
              "      <th>timedelta</th>\n",
              "      <th></th>\n",
              "    </tr>\n",
              "  </thead>\n",
              "  <tbody>\n",
              "    <tr>\n",
              "      <th>0 days 00:00:08</th>\n",
              "      <td>97.0</td>\n",
              "    </tr>\n",
              "    <tr>\n",
              "      <th>0 days 00:00:09</th>\n",
              "      <td>97.0</td>\n",
              "    </tr>\n",
              "    <tr>\n",
              "      <th>0 days 00:00:10</th>\n",
              "      <td>97.0</td>\n",
              "    </tr>\n",
              "    <tr>\n",
              "      <th>0 days 00:00:11</th>\n",
              "      <td>97.0</td>\n",
              "    </tr>\n",
              "    <tr>\n",
              "      <th>0 days 00:00:12</th>\n",
              "      <td>97.0</td>\n",
              "    </tr>\n",
              "    <tr>\n",
              "      <th>...</th>\n",
              "      <td>...</td>\n",
              "    </tr>\n",
              "    <tr>\n",
              "      <th>0 days 04:42:51</th>\n",
              "      <td>75.0</td>\n",
              "    </tr>\n",
              "    <tr>\n",
              "      <th>0 days 04:42:52</th>\n",
              "      <td>75.0</td>\n",
              "    </tr>\n",
              "    <tr>\n",
              "      <th>0 days 04:42:53</th>\n",
              "      <td>75.0</td>\n",
              "    </tr>\n",
              "    <tr>\n",
              "      <th>0 days 04:42:54</th>\n",
              "      <td>75.0</td>\n",
              "    </tr>\n",
              "    <tr>\n",
              "      <th>0 days 04:42:55</th>\n",
              "      <td>76.0</td>\n",
              "    </tr>\n",
              "  </tbody>\n",
              "</table>\n",
              "<p>16968 rows × 1 columns</p>\n",
              "</div>\n",
              "      <button class=\"colab-df-convert\" onclick=\"convertToInteractive('df-84beec68-8a52-4f13-9129-f6daa5e9e185')\"\n",
              "              title=\"Convert this dataframe to an interactive table.\"\n",
              "              style=\"display:none;\">\n",
              "        \n",
              "  <svg xmlns=\"http://www.w3.org/2000/svg\" height=\"24px\"viewBox=\"0 0 24 24\"\n",
              "       width=\"24px\">\n",
              "    <path d=\"M0 0h24v24H0V0z\" fill=\"none\"/>\n",
              "    <path d=\"M18.56 5.44l.94 2.06.94-2.06 2.06-.94-2.06-.94-.94-2.06-.94 2.06-2.06.94zm-11 1L8.5 8.5l.94-2.06 2.06-.94-2.06-.94L8.5 2.5l-.94 2.06-2.06.94zm10 10l.94 2.06.94-2.06 2.06-.94-2.06-.94-.94-2.06-.94 2.06-2.06.94z\"/><path d=\"M17.41 7.96l-1.37-1.37c-.4-.4-.92-.59-1.43-.59-.52 0-1.04.2-1.43.59L10.3 9.45l-7.72 7.72c-.78.78-.78 2.05 0 2.83L4 21.41c.39.39.9.59 1.41.59.51 0 1.02-.2 1.41-.59l7.78-7.78 2.81-2.81c.8-.78.8-2.07 0-2.86zM5.41 20L4 18.59l7.72-7.72 1.47 1.35L5.41 20z\"/>\n",
              "  </svg>\n",
              "      </button>\n",
              "      \n",
              "  <style>\n",
              "    .colab-df-container {\n",
              "      display:flex;\n",
              "      flex-wrap:wrap;\n",
              "      gap: 12px;\n",
              "    }\n",
              "\n",
              "    .colab-df-convert {\n",
              "      background-color: #E8F0FE;\n",
              "      border: none;\n",
              "      border-radius: 50%;\n",
              "      cursor: pointer;\n",
              "      display: none;\n",
              "      fill: #1967D2;\n",
              "      height: 32px;\n",
              "      padding: 0 0 0 0;\n",
              "      width: 32px;\n",
              "    }\n",
              "\n",
              "    .colab-df-convert:hover {\n",
              "      background-color: #E2EBFA;\n",
              "      box-shadow: 0px 1px 2px rgba(60, 64, 67, 0.3), 0px 1px 3px 1px rgba(60, 64, 67, 0.15);\n",
              "      fill: #174EA6;\n",
              "    }\n",
              "\n",
              "    [theme=dark] .colab-df-convert {\n",
              "      background-color: #3B4455;\n",
              "      fill: #D2E3FC;\n",
              "    }\n",
              "\n",
              "    [theme=dark] .colab-df-convert:hover {\n",
              "      background-color: #434B5C;\n",
              "      box-shadow: 0px 1px 3px 1px rgba(0, 0, 0, 0.15);\n",
              "      filter: drop-shadow(0px 1px 2px rgba(0, 0, 0, 0.3));\n",
              "      fill: #FFFFFF;\n",
              "    }\n",
              "  </style>\n",
              "\n",
              "      <script>\n",
              "        const buttonEl =\n",
              "          document.querySelector('#df-84beec68-8a52-4f13-9129-f6daa5e9e185 button.colab-df-convert');\n",
              "        buttonEl.style.display =\n",
              "          google.colab.kernel.accessAllowed ? 'block' : 'none';\n",
              "\n",
              "        async function convertToInteractive(key) {\n",
              "          const element = document.querySelector('#df-84beec68-8a52-4f13-9129-f6daa5e9e185');\n",
              "          const dataTable =\n",
              "            await google.colab.kernel.invokeFunction('convertToInteractive',\n",
              "                                                     [key], {});\n",
              "          if (!dataTable) return;\n",
              "\n",
              "          const docLinkHtml = 'Like what you see? Visit the ' +\n",
              "            '<a target=\"_blank\" href=https://colab.research.google.com/notebooks/data_table.ipynb>data table notebook</a>'\n",
              "            + ' to learn more about interactive tables.';\n",
              "          element.innerHTML = '';\n",
              "          dataTable['output_type'] = 'display_data';\n",
              "          await google.colab.output.renderOutput(dataTable, element);\n",
              "          const docLink = document.createElement('div');\n",
              "          docLink.innerHTML = docLinkHtml;\n",
              "          element.appendChild(docLink);\n",
              "        }\n",
              "      </script>\n",
              "    </div>\n",
              "  </div>\n",
              "  "
            ]
          },
          "metadata": {},
          "execution_count": 69
        }
      ]
    },
    {
      "cell_type": "markdown",
      "source": [
        "##8.1 (d) Load and Prepare Data (Sleep Label)"
      ],
      "metadata": {
        "id": "ZNOEjlsT41Oi"
      }
    },
    {
      "cell_type": "code",
      "source": [
        "SleepL_new['timedelta'] = pd.DataFrame(pd.to_timedelta(SleepL_new['timedelta'],unit='s').round('1s'))\n",
        "\n",
        "# Resampling every 1s with median with ffill\n",
        "resample_rule = '1s'\n",
        "SleepL_new2 = SleepL_new.set_index('timedelta').resample(resample_rule,).median().ffill()\n",
        "SleepL_new2"
      ],
      "metadata": {
        "colab": {
          "base_uri": "https://localhost:8080/",
          "height": 701
        },
        "id": "KnZLd0oz42t0",
        "outputId": "e36e05fe-6fda-436d-ec0c-f43b6e7eac0a"
      },
      "execution_count": 70,
      "outputs": [
        {
          "output_type": "execute_result",
          "data": {
            "text/plain": [
              "                 sleep\n",
              "timedelta             \n",
              "0 days 00:00:00   -1.0\n",
              "0 days 00:00:01   -1.0\n",
              "0 days 00:00:02   -1.0\n",
              "0 days 00:00:03   -1.0\n",
              "0 days 00:00:04   -1.0\n",
              "...                ...\n",
              "0 days 04:42:56    0.0\n",
              "0 days 04:42:57    0.0\n",
              "0 days 04:42:58    0.0\n",
              "0 days 04:42:59    0.0\n",
              "0 days 04:43:00    0.0\n",
              "\n",
              "[16981 rows x 1 columns]"
            ],
            "text/html": [
              "\n",
              "  <div id=\"df-cc10bab3-fb84-463f-a641-e21f429354ac\">\n",
              "    <div class=\"colab-df-container\">\n",
              "      <div>\n",
              "<style scoped>\n",
              "    .dataframe tbody tr th:only-of-type {\n",
              "        vertical-align: middle;\n",
              "    }\n",
              "\n",
              "    .dataframe tbody tr th {\n",
              "        vertical-align: top;\n",
              "    }\n",
              "\n",
              "    .dataframe thead th {\n",
              "        text-align: right;\n",
              "    }\n",
              "</style>\n",
              "<table border=\"1\" class=\"dataframe\">\n",
              "  <thead>\n",
              "    <tr style=\"text-align: right;\">\n",
              "      <th></th>\n",
              "      <th>sleep</th>\n",
              "    </tr>\n",
              "    <tr>\n",
              "      <th>timedelta</th>\n",
              "      <th></th>\n",
              "    </tr>\n",
              "  </thead>\n",
              "  <tbody>\n",
              "    <tr>\n",
              "      <th>0 days 00:00:00</th>\n",
              "      <td>-1.0</td>\n",
              "    </tr>\n",
              "    <tr>\n",
              "      <th>0 days 00:00:01</th>\n",
              "      <td>-1.0</td>\n",
              "    </tr>\n",
              "    <tr>\n",
              "      <th>0 days 00:00:02</th>\n",
              "      <td>-1.0</td>\n",
              "    </tr>\n",
              "    <tr>\n",
              "      <th>0 days 00:00:03</th>\n",
              "      <td>-1.0</td>\n",
              "    </tr>\n",
              "    <tr>\n",
              "      <th>0 days 00:00:04</th>\n",
              "      <td>-1.0</td>\n",
              "    </tr>\n",
              "    <tr>\n",
              "      <th>...</th>\n",
              "      <td>...</td>\n",
              "    </tr>\n",
              "    <tr>\n",
              "      <th>0 days 04:42:56</th>\n",
              "      <td>0.0</td>\n",
              "    </tr>\n",
              "    <tr>\n",
              "      <th>0 days 04:42:57</th>\n",
              "      <td>0.0</td>\n",
              "    </tr>\n",
              "    <tr>\n",
              "      <th>0 days 04:42:58</th>\n",
              "      <td>0.0</td>\n",
              "    </tr>\n",
              "    <tr>\n",
              "      <th>0 days 04:42:59</th>\n",
              "      <td>0.0</td>\n",
              "    </tr>\n",
              "    <tr>\n",
              "      <th>0 days 04:43:00</th>\n",
              "      <td>0.0</td>\n",
              "    </tr>\n",
              "  </tbody>\n",
              "</table>\n",
              "<p>16981 rows × 1 columns</p>\n",
              "</div>\n",
              "      <button class=\"colab-df-convert\" onclick=\"convertToInteractive('df-cc10bab3-fb84-463f-a641-e21f429354ac')\"\n",
              "              title=\"Convert this dataframe to an interactive table.\"\n",
              "              style=\"display:none;\">\n",
              "        \n",
              "  <svg xmlns=\"http://www.w3.org/2000/svg\" height=\"24px\"viewBox=\"0 0 24 24\"\n",
              "       width=\"24px\">\n",
              "    <path d=\"M0 0h24v24H0V0z\" fill=\"none\"/>\n",
              "    <path d=\"M18.56 5.44l.94 2.06.94-2.06 2.06-.94-2.06-.94-.94-2.06-.94 2.06-2.06.94zm-11 1L8.5 8.5l.94-2.06 2.06-.94-2.06-.94L8.5 2.5l-.94 2.06-2.06.94zm10 10l.94 2.06.94-2.06 2.06-.94-2.06-.94-.94-2.06-.94 2.06-2.06.94z\"/><path d=\"M17.41 7.96l-1.37-1.37c-.4-.4-.92-.59-1.43-.59-.52 0-1.04.2-1.43.59L10.3 9.45l-7.72 7.72c-.78.78-.78 2.05 0 2.83L4 21.41c.39.39.9.59 1.41.59.51 0 1.02-.2 1.41-.59l7.78-7.78 2.81-2.81c.8-.78.8-2.07 0-2.86zM5.41 20L4 18.59l7.72-7.72 1.47 1.35L5.41 20z\"/>\n",
              "  </svg>\n",
              "      </button>\n",
              "      \n",
              "  <style>\n",
              "    .colab-df-container {\n",
              "      display:flex;\n",
              "      flex-wrap:wrap;\n",
              "      gap: 12px;\n",
              "    }\n",
              "\n",
              "    .colab-df-convert {\n",
              "      background-color: #E8F0FE;\n",
              "      border: none;\n",
              "      border-radius: 50%;\n",
              "      cursor: pointer;\n",
              "      display: none;\n",
              "      fill: #1967D2;\n",
              "      height: 32px;\n",
              "      padding: 0 0 0 0;\n",
              "      width: 32px;\n",
              "    }\n",
              "\n",
              "    .colab-df-convert:hover {\n",
              "      background-color: #E2EBFA;\n",
              "      box-shadow: 0px 1px 2px rgba(60, 64, 67, 0.3), 0px 1px 3px 1px rgba(60, 64, 67, 0.15);\n",
              "      fill: #174EA6;\n",
              "    }\n",
              "\n",
              "    [theme=dark] .colab-df-convert {\n",
              "      background-color: #3B4455;\n",
              "      fill: #D2E3FC;\n",
              "    }\n",
              "\n",
              "    [theme=dark] .colab-df-convert:hover {\n",
              "      background-color: #434B5C;\n",
              "      box-shadow: 0px 1px 3px 1px rgba(0, 0, 0, 0.15);\n",
              "      filter: drop-shadow(0px 1px 2px rgba(0, 0, 0, 0.3));\n",
              "      fill: #FFFFFF;\n",
              "    }\n",
              "  </style>\n",
              "\n",
              "      <script>\n",
              "        const buttonEl =\n",
              "          document.querySelector('#df-cc10bab3-fb84-463f-a641-e21f429354ac button.colab-df-convert');\n",
              "        buttonEl.style.display =\n",
              "          google.colab.kernel.accessAllowed ? 'block' : 'none';\n",
              "\n",
              "        async function convertToInteractive(key) {\n",
              "          const element = document.querySelector('#df-cc10bab3-fb84-463f-a641-e21f429354ac');\n",
              "          const dataTable =\n",
              "            await google.colab.kernel.invokeFunction('convertToInteractive',\n",
              "                                                     [key], {});\n",
              "          if (!dataTable) return;\n",
              "\n",
              "          const docLinkHtml = 'Like what you see? Visit the ' +\n",
              "            '<a target=\"_blank\" href=https://colab.research.google.com/notebooks/data_table.ipynb>data table notebook</a>'\n",
              "            + ' to learn more about interactive tables.';\n",
              "          element.innerHTML = '';\n",
              "          dataTable['output_type'] = 'display_data';\n",
              "          await google.colab.output.renderOutput(dataTable, element);\n",
              "          const docLink = document.createElement('div');\n",
              "          docLink.innerHTML = docLinkHtml;\n",
              "          element.appendChild(docLink);\n",
              "        }\n",
              "      </script>\n",
              "    </div>\n",
              "  </div>\n",
              "  "
            ]
          },
          "metadata": {},
          "execution_count": 70
        }
      ]
    },
    {
      "cell_type": "markdown",
      "source": [
        "##8.1(e) Merge Data and Standardized data"
      ],
      "metadata": {
        "id": "2qBQ9DpA5IXQ"
      }
    },
    {
      "cell_type": "code",
      "source": [
        "df = []\n",
        "df = pd.merge_asof(ACC_new2, HeartR_new2, on='timedelta')\n",
        "df = pd.merge_asof(df, SleepL_new2, on = 'timedelta')"
      ],
      "metadata": {
        "id": "A4bkObAJ5JqK"
      },
      "execution_count": 71,
      "outputs": []
    },
    {
      "cell_type": "code",
      "source": [
        "count_check =df.isnull().sum()\n",
        "count_check"
      ],
      "metadata": {
        "colab": {
          "base_uri": "https://localhost:8080/"
        },
        "id": "tFDcmPKc5Y83",
        "outputId": "821b0050-4208-41d7-e6b2-1770bccf5c4c"
      },
      "execution_count": 72,
      "outputs": [
        {
          "output_type": "execute_result",
          "data": {
            "text/plain": [
              "timedelta    0\n",
              "accX         0\n",
              "accY         1\n",
              "accZ         1\n",
              "heartrate    0\n",
              "sleep        0\n",
              "dtype: int64"
            ]
          },
          "metadata": {},
          "execution_count": 72
        }
      ]
    },
    {
      "cell_type": "code",
      "source": [
        "fillAccX= df['accX'].median()\n",
        "df['accX']=df['accX'].fillna(fillAccX)\n",
        "fillAccY = df['accY'].median()\n",
        "df['accY']=df['accY'].fillna(fillAccY)\n",
        "fillAccZ = df['accZ'].median()\n",
        "df['accZ']=df['accZ'].fillna(fillAccY)\n",
        "fillHeartRate = df['heartrate'].median()\n",
        "df['heartrate']=df['heartrate'].fillna(fillHeartRate)\n",
        "fillSleep = df['sleep'].median()\n",
        "df['sleep']=df['sleep'].fillna(fillSleep)"
      ],
      "metadata": {
        "id": "udJG_A0W5v0l"
      },
      "execution_count": 73,
      "outputs": []
    },
    {
      "cell_type": "code",
      "source": [
        "re_check =df.isnull().sum()\n",
        "re_check"
      ],
      "metadata": {
        "colab": {
          "base_uri": "https://localhost:8080/"
        },
        "id": "AHgmkFzk6Zcm",
        "outputId": "050f8c7b-f445-456b-902c-4b7110abb8bc"
      },
      "execution_count": 74,
      "outputs": [
        {
          "output_type": "execute_result",
          "data": {
            "text/plain": [
              "timedelta    0\n",
              "accX         0\n",
              "accY         0\n",
              "accZ         0\n",
              "heartrate    0\n",
              "sleep        0\n",
              "dtype: int64"
            ]
          },
          "metadata": {},
          "execution_count": 74
        }
      ]
    },
    {
      "cell_type": "code",
      "source": [
        "df = df.drop(columns = ['timedelta'])\n",
        "df"
      ],
      "metadata": {
        "colab": {
          "base_uri": "https://localhost:8080/",
          "height": 483
        },
        "id": "0OqBPmez5fLm",
        "outputId": "0d5103af-7975-4f5d-a59c-4ee3e96b03f3"
      },
      "execution_count": 75,
      "outputs": [
        {
          "output_type": "execute_result",
          "data": {
            "text/plain": [
              "           accX      accY      accZ  heartrate  sleep\n",
              "0      0.914566 -0.132058 -0.132058       84.0   -1.0\n",
              "1     -0.256199 -0.303188  0.912735       85.0    0.0\n",
              "2     -0.256069 -0.302910  0.912509       85.0    0.0\n",
              "3     -0.255648 -0.302149  0.912890       85.0    0.0\n",
              "4     -0.255845 -0.302151  0.912779       88.0    0.0\n",
              "...         ...       ...       ...        ...    ...\n",
              "15759 -0.442763 -0.525892  0.722950       76.0    0.0\n",
              "15760 -0.441990 -0.525476  0.723410       76.0    0.0\n",
              "15761 -0.441581 -0.525116  0.724003       76.0    0.0\n",
              "15762 -0.442283 -0.525849  0.723265       76.0    0.0\n",
              "15763 -0.442674 -0.525962  0.722678       76.0    0.0\n",
              "\n",
              "[15764 rows x 5 columns]"
            ],
            "text/html": [
              "\n",
              "  <div id=\"df-b5077525-1178-4baf-9a4b-0763717b09b5\">\n",
              "    <div class=\"colab-df-container\">\n",
              "      <div>\n",
              "<style scoped>\n",
              "    .dataframe tbody tr th:only-of-type {\n",
              "        vertical-align: middle;\n",
              "    }\n",
              "\n",
              "    .dataframe tbody tr th {\n",
              "        vertical-align: top;\n",
              "    }\n",
              "\n",
              "    .dataframe thead th {\n",
              "        text-align: right;\n",
              "    }\n",
              "</style>\n",
              "<table border=\"1\" class=\"dataframe\">\n",
              "  <thead>\n",
              "    <tr style=\"text-align: right;\">\n",
              "      <th></th>\n",
              "      <th>accX</th>\n",
              "      <th>accY</th>\n",
              "      <th>accZ</th>\n",
              "      <th>heartrate</th>\n",
              "      <th>sleep</th>\n",
              "    </tr>\n",
              "  </thead>\n",
              "  <tbody>\n",
              "    <tr>\n",
              "      <th>0</th>\n",
              "      <td>0.914566</td>\n",
              "      <td>-0.132058</td>\n",
              "      <td>-0.132058</td>\n",
              "      <td>84.0</td>\n",
              "      <td>-1.0</td>\n",
              "    </tr>\n",
              "    <tr>\n",
              "      <th>1</th>\n",
              "      <td>-0.256199</td>\n",
              "      <td>-0.303188</td>\n",
              "      <td>0.912735</td>\n",
              "      <td>85.0</td>\n",
              "      <td>0.0</td>\n",
              "    </tr>\n",
              "    <tr>\n",
              "      <th>2</th>\n",
              "      <td>-0.256069</td>\n",
              "      <td>-0.302910</td>\n",
              "      <td>0.912509</td>\n",
              "      <td>85.0</td>\n",
              "      <td>0.0</td>\n",
              "    </tr>\n",
              "    <tr>\n",
              "      <th>3</th>\n",
              "      <td>-0.255648</td>\n",
              "      <td>-0.302149</td>\n",
              "      <td>0.912890</td>\n",
              "      <td>85.0</td>\n",
              "      <td>0.0</td>\n",
              "    </tr>\n",
              "    <tr>\n",
              "      <th>4</th>\n",
              "      <td>-0.255845</td>\n",
              "      <td>-0.302151</td>\n",
              "      <td>0.912779</td>\n",
              "      <td>88.0</td>\n",
              "      <td>0.0</td>\n",
              "    </tr>\n",
              "    <tr>\n",
              "      <th>...</th>\n",
              "      <td>...</td>\n",
              "      <td>...</td>\n",
              "      <td>...</td>\n",
              "      <td>...</td>\n",
              "      <td>...</td>\n",
              "    </tr>\n",
              "    <tr>\n",
              "      <th>15759</th>\n",
              "      <td>-0.442763</td>\n",
              "      <td>-0.525892</td>\n",
              "      <td>0.722950</td>\n",
              "      <td>76.0</td>\n",
              "      <td>0.0</td>\n",
              "    </tr>\n",
              "    <tr>\n",
              "      <th>15760</th>\n",
              "      <td>-0.441990</td>\n",
              "      <td>-0.525476</td>\n",
              "      <td>0.723410</td>\n",
              "      <td>76.0</td>\n",
              "      <td>0.0</td>\n",
              "    </tr>\n",
              "    <tr>\n",
              "      <th>15761</th>\n",
              "      <td>-0.441581</td>\n",
              "      <td>-0.525116</td>\n",
              "      <td>0.724003</td>\n",
              "      <td>76.0</td>\n",
              "      <td>0.0</td>\n",
              "    </tr>\n",
              "    <tr>\n",
              "      <th>15762</th>\n",
              "      <td>-0.442283</td>\n",
              "      <td>-0.525849</td>\n",
              "      <td>0.723265</td>\n",
              "      <td>76.0</td>\n",
              "      <td>0.0</td>\n",
              "    </tr>\n",
              "    <tr>\n",
              "      <th>15763</th>\n",
              "      <td>-0.442674</td>\n",
              "      <td>-0.525962</td>\n",
              "      <td>0.722678</td>\n",
              "      <td>76.0</td>\n",
              "      <td>0.0</td>\n",
              "    </tr>\n",
              "  </tbody>\n",
              "</table>\n",
              "<p>15764 rows × 5 columns</p>\n",
              "</div>\n",
              "      <button class=\"colab-df-convert\" onclick=\"convertToInteractive('df-b5077525-1178-4baf-9a4b-0763717b09b5')\"\n",
              "              title=\"Convert this dataframe to an interactive table.\"\n",
              "              style=\"display:none;\">\n",
              "        \n",
              "  <svg xmlns=\"http://www.w3.org/2000/svg\" height=\"24px\"viewBox=\"0 0 24 24\"\n",
              "       width=\"24px\">\n",
              "    <path d=\"M0 0h24v24H0V0z\" fill=\"none\"/>\n",
              "    <path d=\"M18.56 5.44l.94 2.06.94-2.06 2.06-.94-2.06-.94-.94-2.06-.94 2.06-2.06.94zm-11 1L8.5 8.5l.94-2.06 2.06-.94-2.06-.94L8.5 2.5l-.94 2.06-2.06.94zm10 10l.94 2.06.94-2.06 2.06-.94-2.06-.94-.94-2.06-.94 2.06-2.06.94z\"/><path d=\"M17.41 7.96l-1.37-1.37c-.4-.4-.92-.59-1.43-.59-.52 0-1.04.2-1.43.59L10.3 9.45l-7.72 7.72c-.78.78-.78 2.05 0 2.83L4 21.41c.39.39.9.59 1.41.59.51 0 1.02-.2 1.41-.59l7.78-7.78 2.81-2.81c.8-.78.8-2.07 0-2.86zM5.41 20L4 18.59l7.72-7.72 1.47 1.35L5.41 20z\"/>\n",
              "  </svg>\n",
              "      </button>\n",
              "      \n",
              "  <style>\n",
              "    .colab-df-container {\n",
              "      display:flex;\n",
              "      flex-wrap:wrap;\n",
              "      gap: 12px;\n",
              "    }\n",
              "\n",
              "    .colab-df-convert {\n",
              "      background-color: #E8F0FE;\n",
              "      border: none;\n",
              "      border-radius: 50%;\n",
              "      cursor: pointer;\n",
              "      display: none;\n",
              "      fill: #1967D2;\n",
              "      height: 32px;\n",
              "      padding: 0 0 0 0;\n",
              "      width: 32px;\n",
              "    }\n",
              "\n",
              "    .colab-df-convert:hover {\n",
              "      background-color: #E2EBFA;\n",
              "      box-shadow: 0px 1px 2px rgba(60, 64, 67, 0.3), 0px 1px 3px 1px rgba(60, 64, 67, 0.15);\n",
              "      fill: #174EA6;\n",
              "    }\n",
              "\n",
              "    [theme=dark] .colab-df-convert {\n",
              "      background-color: #3B4455;\n",
              "      fill: #D2E3FC;\n",
              "    }\n",
              "\n",
              "    [theme=dark] .colab-df-convert:hover {\n",
              "      background-color: #434B5C;\n",
              "      box-shadow: 0px 1px 3px 1px rgba(0, 0, 0, 0.15);\n",
              "      filter: drop-shadow(0px 1px 2px rgba(0, 0, 0, 0.3));\n",
              "      fill: #FFFFFF;\n",
              "    }\n",
              "  </style>\n",
              "\n",
              "      <script>\n",
              "        const buttonEl =\n",
              "          document.querySelector('#df-b5077525-1178-4baf-9a4b-0763717b09b5 button.colab-df-convert');\n",
              "        buttonEl.style.display =\n",
              "          google.colab.kernel.accessAllowed ? 'block' : 'none';\n",
              "\n",
              "        async function convertToInteractive(key) {\n",
              "          const element = document.querySelector('#df-b5077525-1178-4baf-9a4b-0763717b09b5');\n",
              "          const dataTable =\n",
              "            await google.colab.kernel.invokeFunction('convertToInteractive',\n",
              "                                                     [key], {});\n",
              "          if (!dataTable) return;\n",
              "\n",
              "          const docLinkHtml = 'Like what you see? Visit the ' +\n",
              "            '<a target=\"_blank\" href=https://colab.research.google.com/notebooks/data_table.ipynb>data table notebook</a>'\n",
              "            + ' to learn more about interactive tables.';\n",
              "          element.innerHTML = '';\n",
              "          dataTable['output_type'] = 'display_data';\n",
              "          await google.colab.output.renderOutput(dataTable, element);\n",
              "          const docLink = document.createElement('div');\n",
              "          docLink.innerHTML = docLinkHtml;\n",
              "          element.appendChild(docLink);\n",
              "        }\n",
              "      </script>\n",
              "    </div>\n",
              "  </div>\n",
              "  "
            ]
          },
          "metadata": {},
          "execution_count": 75
        }
      ]
    },
    {
      "cell_type": "code",
      "source": [
        "feature_columns = ['accX','accY','accZ','heartrate']\n",
        "label_columns = ['sleep']\n",
        "\n",
        "df_feature = df[feature_columns]\n",
        "df_label = df[label_columns]\n",
        "#standardized\n",
        "standard_scaler = StandardScaler()\n",
        "afterScaler = standard_scaler.fit_transform(df_feature)\n",
        "\n",
        "afterScaler"
      ],
      "metadata": {
        "colab": {
          "base_uri": "https://localhost:8080/"
        },
        "id": "m8ENbsBf6zwH",
        "outputId": "ac104a55-0337-475a-c262-cb6925a565e8"
      },
      "execution_count": 76,
      "outputs": [
        {
          "output_type": "execute_result",
          "data": {
            "text/plain": [
              "array([[ 2.20608726,  0.10679683,  0.14514424,  0.46065692],\n",
              "       [-0.6599218 , -0.42288241,  1.45326813,  0.58966149],\n",
              "       [-0.65960312, -0.42202237,  1.45298498,  0.58966149],\n",
              "       ...,\n",
              "       [-1.11373226, -1.10978677,  1.21696745, -0.57137957],\n",
              "       [-1.11545123, -1.11205754,  1.21604355, -0.57137957],\n",
              "       [-1.11640897, -1.1124061 ,  1.2153084 , -0.57137957]])"
            ]
          },
          "metadata": {},
          "execution_count": 76
        }
      ]
    },
    {
      "cell_type": "code",
      "source": [
        "df_feature = pd.DataFrame(data = afterScaler, index = df_feature.index, columns = feature_columns)\n",
        "\n",
        "df_feature.plot(), df_label.plot()"
      ],
      "metadata": {
        "colab": {
          "base_uri": "https://localhost:8080/",
          "height": 190
        },
        "id": "2DP2cEoa680j",
        "outputId": "00a2ddd7-a203-4d65-e6be-39c24f394b55"
      },
      "execution_count": 77,
      "outputs": [
        {
          "output_type": "execute_result",
          "data": {
            "text/plain": [
              "(<matplotlib.axes._subplots.AxesSubplot at 0x7ff8ee809210>,\n",
              " <matplotlib.axes._subplots.AxesSubplot at 0x7ff8ee7d67d0>)"
            ]
          },
          "metadata": {},
          "execution_count": 77
        },
        {
          "output_type": "display_data",
          "data": {
            "text/plain": [
              "<Figure size 432x288 with 1 Axes>"
            ],
            "image/png": "[encoded data removed]"
          },
          "metadata": {
            "needs_background": "light"
          }
        },
        {
          "output_type": "display_data",
          "data": {
            "text/plain": [
              "<Figure size 432x288 with 1 Axes>"
            ],
            "image/png": "[encoded data removed]"
          },
          "metadata": {
            "needs_background": "light"
          }
        }
      ]
    },
    {
      "cell_type": "markdown",
      "source": [
        "#8.2"
      ],
      "metadata": {
        "id": "-obN47kg7Hvi"
      }
    },
    {
      "cell_type": "markdown",
      "source": [
        "##8.2 (a) SVM Model Training and Testing"
      ],
      "metadata": {
        "id": "IQqywcDZ7BbA"
      }
    },
    {
      "cell_type": "code",
      "source": [
        "Rseed = 42\n",
        "x_train_set, x_test, y_train_set, y_test = train_test_split(df_feature, df_label, test_size = 0.3, random_state = Rseed)\n",
        "x_train, x_validate, y_train, y_validate = train_test_split(x_train_set, y_train_set, test_size = 0.3, random_state = Rseed)"
      ],
      "metadata": {
        "id": "tQ5O65uS7J2R"
      },
      "execution_count": 78,
      "outputs": []
    },
    {
      "cell_type": "code",
      "source": [
        "c_val = 100 \n",
        "gmm =0.1\n",
        "d = 2\n",
        "\n",
        "svc_lin = SVC(kernel='linear', C=c_val)\n",
        "svc_rbf = SVC(kernel='rbf', C=c_val, gamma=gmm)\n",
        "svc_poly = SVC(kernel='poly', C=c_val, degree=d)\n",
        "\n",
        "# Model Training\n",
        "svc_rbf_pred = svc_rbf.fit(x_train, y_train)\n",
        "svc_poly = svc_poly.fit(x_train, y_train)\n",
        "# Model Testing\n",
        "svc_rbf_pred = svc_rbf.predict(x_test)\n",
        "svc_poly_pred = svc_poly.predict(x_test)"
      ],
      "metadata": {
        "colab": {
          "base_uri": "https://localhost:8080/"
        },
        "id": "Iw95NQxT7OnE",
        "outputId": "617ca2c9-8192-48da-c009-0fd0ee23229c"
      },
      "execution_count": 79,
      "outputs": [
        {
          "output_type": "stream",
          "name": "stderr",
          "text": [
            "/usr/local/lib/python3.7/dist-packages/sklearn/utils/validation.py:993: DataConversionWarning: A column-vector y was passed when a 1d array was expected. Please change the shape of y to (n_samples, ), for example using ravel().\n",
            "  y = column_or_1d(y, warn=True)\n",
            "/usr/local/lib/python3.7/dist-packages/sklearn/utils/validation.py:993: DataConversionWarning: A column-vector y was passed when a 1d array was expected. Please change the shape of y to (n_samples, ), for example using ravel().\n",
            "  y = column_or_1d(y, warn=True)\n"
          ]
        }
      ]
    },
    {
      "cell_type": "markdown",
      "source": [
        "##8.2(b) SVM Prediction Report"
      ],
      "metadata": {
        "id": "mUZmfOfq7TEf"
      }
    },
    {
      "cell_type": "code",
      "source": [
        "# Model Confusion Matrix of SVC_rbf, SVC_poly\n",
        "print('Confusion RBF')\n",
        "confusion_matrix(y_test,svc_rbf_pred)"
      ],
      "metadata": {
        "colab": {
          "base_uri": "https://localhost:8080/"
        },
        "id": "Z0mR3c2q7P9B",
        "outputId": "185c2b30-96ad-4eeb-ae68-ad0ba22b4d91"
      },
      "execution_count": 80,
      "outputs": [
        {
          "output_type": "stream",
          "name": "stdout",
          "text": [
            "Confusion RBF\n"
          ]
        },
        {
          "output_type": "execute_result",
          "data": {
            "text/plain": [
              "array([[   0,    1,    0,    0,    0,    0],\n",
              "       [   0,  285,   29,  164,   23,    3],\n",
              "       [   0,   28,   85,  145,    6,    9],\n",
              "       [   0,   18,   24, 1345,  102,   27],\n",
              "       [   0,    4,    0,   60, 1336,    0],\n",
              "       [   0,    0,    1,  198,    2,  835]])"
            ]
          },
          "metadata": {},
          "execution_count": 80
        }
      ]
    },
    {
      "cell_type": "code",
      "source": [
        "print('Confusion Poly')\n",
        "confusion_matrix(y_test,svc_poly_pred)"
      ],
      "metadata": {
        "colab": {
          "base_uri": "https://localhost:8080/"
        },
        "id": "fpK2Sn0i7WEu",
        "outputId": "3a1a1372-316e-436b-aed3-fc3e967cf8fe"
      },
      "execution_count": 81,
      "outputs": [
        {
          "output_type": "stream",
          "name": "stdout",
          "text": [
            "Confusion Poly\n"
          ]
        },
        {
          "output_type": "execute_result",
          "data": {
            "text/plain": [
              "array([[   0,    1,    0,    0,    0,    0],\n",
              "       [   0,  265,    0,  206,   25,    8],\n",
              "       [   0,   26,    0,  224,   11,   12],\n",
              "       [   0,    4,    0, 1276,  197,   39],\n",
              "       [   0,    2,    0,  153, 1245,    0],\n",
              "       [   0,    1,    0,  147,   32,  856]])"
            ]
          },
          "metadata": {},
          "execution_count": 81
        }
      ]
    },
    {
      "cell_type": "code",
      "source": [
        "# Model Classification Report of SVC_rbf, SVC_poly\n",
        "print('Classification RBF')\n",
        "print(classification_report(y_test,svc_rbf_pred))"
      ],
      "metadata": {
        "colab": {
          "base_uri": "https://localhost:8080/"
        },
        "id": "uGjit8IL7bGV",
        "outputId": "ed71c9e2-f4cf-4be7-8174-55baddc08e99"
      },
      "execution_count": 82,
      "outputs": [
        {
          "output_type": "stream",
          "name": "stdout",
          "text": [
            "Classification RBF\n",
            "              precision    recall  f1-score   support\n",
            "\n",
            "        -1.0       0.00      0.00      0.00         1\n",
            "         0.0       0.85      0.57      0.68       504\n",
            "         1.0       0.61      0.31      0.41       273\n",
            "         2.0       0.70      0.89      0.78      1516\n",
            "         3.0       0.91      0.95      0.93      1400\n",
            "         5.0       0.96      0.81      0.87      1036\n",
            "\n",
            "    accuracy                           0.82      4730\n",
            "   macro avg       0.67      0.59      0.61      4730\n",
            "weighted avg       0.83      0.82      0.81      4730\n",
            "\n"
          ]
        },
        {
          "output_type": "stream",
          "name": "stderr",
          "text": [
            "/usr/local/lib/python3.7/dist-packages/sklearn/metrics/_classification.py:1318: UndefinedMetricWarning: Precision and F-score are ill-defined and being set to 0.0 in labels with no predicted samples. Use `zero_division` parameter to control this behavior.\n",
            "  _warn_prf(average, modifier, msg_start, len(result))\n",
            "/usr/local/lib/python3.7/dist-packages/sklearn/metrics/_classification.py:1318: UndefinedMetricWarning: Precision and F-score are ill-defined and being set to 0.0 in labels with no predicted samples. Use `zero_division` parameter to control this behavior.\n",
            "  _warn_prf(average, modifier, msg_start, len(result))\n",
            "/usr/local/lib/python3.7/dist-packages/sklearn/metrics/_classification.py:1318: UndefinedMetricWarning: Precision and F-score are ill-defined and being set to 0.0 in labels with no predicted samples. Use `zero_division` parameter to control this behavior.\n",
            "  _warn_prf(average, modifier, msg_start, len(result))\n"
          ]
        }
      ]
    },
    {
      "cell_type": "code",
      "source": [
        "print('Classification Poly')\n",
        "print(classification_report(y_test,svc_poly_pred))"
      ],
      "metadata": {
        "colab": {
          "base_uri": "https://localhost:8080/"
        },
        "id": "cs1m-pHl7dqc",
        "outputId": "880122d2-0599-4be4-a221-d625957c119f"
      },
      "execution_count": 83,
      "outputs": [
        {
          "output_type": "stream",
          "name": "stdout",
          "text": [
            "Classification Poly\n",
            "              precision    recall  f1-score   support\n",
            "\n",
            "        -1.0       0.00      0.00      0.00         1\n",
            "         0.0       0.89      0.53      0.66       504\n",
            "         1.0       0.00      0.00      0.00       273\n",
            "         2.0       0.64      0.84      0.72      1516\n",
            "         3.0       0.82      0.89      0.86      1400\n",
            "         5.0       0.94      0.83      0.88      1036\n",
            "\n",
            "    accuracy                           0.77      4730\n",
            "   macro avg       0.55      0.51      0.52      4730\n",
            "weighted avg       0.75      0.77      0.75      4730\n",
            "\n"
          ]
        },
        {
          "output_type": "stream",
          "name": "stderr",
          "text": [
            "/usr/local/lib/python3.7/dist-packages/sklearn/metrics/_classification.py:1318: UndefinedMetricWarning: Precision and F-score are ill-defined and being set to 0.0 in labels with no predicted samples. Use `zero_division` parameter to control this behavior.\n",
            "  _warn_prf(average, modifier, msg_start, len(result))\n",
            "/usr/local/lib/python3.7/dist-packages/sklearn/metrics/_classification.py:1318: UndefinedMetricWarning: Precision and F-score are ill-defined and being set to 0.0 in labels with no predicted samples. Use `zero_division` parameter to control this behavior.\n",
            "  _warn_prf(average, modifier, msg_start, len(result))\n",
            "/usr/local/lib/python3.7/dist-packages/sklearn/metrics/_classification.py:1318: UndefinedMetricWarning: Precision and F-score are ill-defined and being set to 0.0 in labels with no predicted samples. Use `zero_division` parameter to control this behavior.\n",
            "  _warn_prf(average, modifier, msg_start, len(result))\n"
          ]
        }
      ]
    },
    {
      "cell_type": "markdown",
      "source": [
        "#8.3Hyperparameter Tuning (GridsearchCV)"
      ],
      "metadata": {
        "id": "RJBQwfAI7qMw"
      }
    },
    {
      "cell_type": "code",
      "source": [
        "C_list = [0.1, 1.0, 10.0, 100.0, 200.0, 500.0]\n",
        "Gamma_list = [0.01, 0.1, 1.0, 10]\n",
        "d_list = [2, 3]\n",
        "\n",
        "param_grid = {'C':C_list, 'kernel':('rbf','poly'),'gamma':Gamma_list, 'degree':d_list}\n",
        "\n",
        "# Perform GridsearchCV() for each classification model\n",
        "\n",
        "grid = GridSearchCV( SVC(), n_jobs = -1, scoring = 'accuracy', cv = 2, param_grid=param_grid)\n",
        "grid_result = grid.fit(x_train, y_train)"
      ],
      "metadata": {
        "id": "2b-nVxCU7hE6"
      },
      "execution_count": null,
      "outputs": []
    },
    {
      "cell_type": "code",
      "source": [
        "# Show best search results\n",
        "print('Best params: ',grid_result.best_params_)\n",
        "print('Best score: ', grid_result.best_score_)"
      ],
      "metadata": {
        "id": "cI_rOBku9wWz"
      },
      "execution_count": null,
      "outputs": []
    },
    {
      "cell_type": "code",
      "source": [
        "grid_result.cv_results_['params']"
      ],
      "metadata": {
        "id": "CQ2LDMd9_n-h"
      },
      "execution_count": null,
      "outputs": []
    },
    {
      "cell_type": "code",
      "source": [
        "mean = grid_result.cv_results_['mean_test_score']\n",
        "std = grid_result.cv_results_['std_test_score']\n",
        "param = grid_result.cv_results_['params']\n",
        "bar_mean_rbf = []\n",
        "bar_mean_poly = []\n",
        "\n",
        "bar_std_rbf = []\n",
        "bar_std_poly = []\n",
        "\n",
        "bar_param_rbf = []\n",
        "bar_param_poly = []\n",
        "\n",
        "\n",
        "for mean, stdev, param in zip(mean, std, param):\n",
        "  print(\"Mean: %f Std: %f Model: %r\" % (mean, stdev, param))\n",
        "  if param['kernel'] == 'rbf':\n",
        "    bar_mean_rbf.append(mean)\n",
        "    bar_std_rbf.append(stdev)\n",
        "    bar_param_rbf.appen(param)\n",
        "  else:\n",
        "    bar_mean_poly.append(mean)\n",
        "    bar_std_poly.append(stdev)\n",
        "    bar_param_poly.append(param)"
      ],
      "metadata": {
        "id": "iMKa6WtZ_uLw"
      },
      "execution_count": null,
      "outputs": []
    },
    {
      "cell_type": "code",
      "source": [
        "x = np.arange(len(bar_param_rbf))\n",
        "w = 0.5\n",
        "fig, ax = plt.subplots()\n",
        "fig = plt.title('Criterion : RBF')\n",
        "rect1 = plt.bar(x-w/2,bar_mean_rbf,w,color = 'b')\n",
        "rect2 = plt.bar(x+w/2,bar_std_rbf,w,color = 'r')\n",
        "ax.set_xticks(x, labels = bar_param_rbf,rotation = 90)\n",
        "plt.subplots_adjust(bottom=0.50)\n",
        "plt.show()"
      ],
      "metadata": {
        "id": "SQModejO_yFP"
      },
      "execution_count": null,
      "outputs": []
    },
    {
      "cell_type": "code",
      "source": [
        "fig = plt.title('Criterion : Poly')\n",
        "rect1 = plt.bar(x-w/2,bar_mean_poly,w,color = 'b')\n",
        "rect2 = plt.bar(x+w/2,bar_std_poly,w,color = 'r')\n",
        "ax.set_xticks(x, labels = bar_param_poly,rotation = 90)\n",
        "plt.subplots_adjust(bottom=0.50)\n",
        "plt.show()"
      ],
      "metadata": {
        "id": "uInCwrl5LP1V"
      },
      "execution_count": null,
      "outputs": []
    }
  ]
}