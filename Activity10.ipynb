{
  "cells": [
    {
      "cell_type": "markdown",
      "metadata": {
        "id": "view-in-github",
        "colab_type": "text"
      },
      "source": [
        "<a href=\"https://colab.research.google.com/github/keedjk7/Machine-Learning/blob/main/Activity10.ipynb\" target=\"_parent\"><img src=\"https://colab.research.google.com/assets/colab-badge.svg\" alt=\"Open In Colab\"/></a>"
      ]
    },
    {
      "cell_type": "code",
      "execution_count": null,
      "metadata": {
        "id": "CLRVWeTThUf6"
      },
      "outputs": [],
      "source": [
        "import numpy as np\n",
        "import pandas as pd\n",
        "import matplotlib.pyplot as plt\n",
        "import plotly.express as px\n",
        "import seaborn as sns\n",
        "from sklearn.preprocessing import StandardScaler\n",
        "from sklearn.model_selection import train_test_split, cross_val_score, StratifiedKFold\n",
        "from sklearn.svm import SVC\n",
        "from sklearn import metrics\n",
        "from sklearn import preprocessing\n",
        "from sklearn.model_selection import train_test_split, GridSearchCV, RandomizedSearchCV\n",
        "from sklearn.metrics import accuracy_score, classification_report, confusion_matrix\n",
        "import glob\n",
        "from scipy import stats\n",
        "import datetime as dt\n",
        "from sklearn import model_selection\n",
        "from sklearn.neural_network import MLPClassifier\n",
        "import tensorflow as tf\n",
        "from tensorflow import keras\n",
        "from keras import datasets, layers, models\n",
        "from keras.layers import Conv2D, MaxPooling2D,Dropout,Flatten,Dense,LSTM"
      ]
    },
    {
      "cell_type": "markdown",
      "source": [
        "#10.1 Data Preparation"
      ],
      "metadata": {
        "id": "MRk6Nj1AC4GH"
      }
    },
    {
      "cell_type": "markdown",
      "metadata": {
        "id": "7SCLPARLhUf-"
      },
      "source": [
        "## 10.1.1 Load and Prepare Data"
      ]
    },
    {
      "cell_type": "code",
      "execution_count": null,
      "metadata": {
        "id": "OnKPW4GjhUf-"
      },
      "outputs": [],
      "source": [
        "ACC = pd.read_csv('/content/drive/MyDrive/Colab Data/acceleration.txt', sep = ' ',names=['timedelta', 'accX', 'accY', 'accZ'])\n",
        "HeartR = pd.read_csv('/content/drive/MyDrive/Colab Data/heartrate.txt', sep = ',',names=['timedelta', 'heartrate'])\n",
        "SleepL = pd.read_csv('/content/drive/MyDrive/Colab Data/labeled_sleep.txt', sep = ' ',names=['timedelta', 'sleep'])"
      ]
    },
    {
      "cell_type": "code",
      "execution_count": null,
      "metadata": {
        "colab": {
          "base_uri": "https://localhost:8080/"
        },
        "id": "VXRsABR6hUgB",
        "outputId": "cf106b6f-e874-436d-e5e1-f3b3c5b6ee06"
      },
      "outputs": [
        {
          "output_type": "stream",
          "name": "stdout",
          "text": [
            "ACC start:  -124489.16105 ACC end:  17643.046417\n",
            "HeartR start:  -556410.36066 HeartR end:  16980.47229\n",
            "SleepL start:  0 SleepL end:  16980\n"
          ]
        }
      ],
      "source": [
        "# Check ‘timedelta’ max(), min() of ACC, HeartR, SleepL (ช่วงเวลาที่มีข้อมูลใกล้กัน)\n",
        "ACC_max_date = ACC['timedelta'].max()\n",
        "ACC_min_date = ACC['timedelta'].min()\n",
        "\n",
        "HeartR_max_date = HeartR['timedelta'].max()\n",
        "HeartR_min_date = HeartR['timedelta'].min()\n",
        "\n",
        "SleepL_max_date = SleepL['timedelta'].max()\n",
        "SleepL_min_date = SleepL['timedelta'].min()\n",
        "\n",
        "\n",
        "print('ACC start: ',ACC_min_date ,'ACC end: ',ACC_max_date)\n",
        "print('HeartR start: ',HeartR_min_date ,'HeartR end: ',HeartR_max_date)\n",
        "print('SleepL start: ',SleepL_min_date ,'SleepL end: ',SleepL_max_date)"
      ]
    },
    {
      "cell_type": "code",
      "execution_count": null,
      "metadata": {
        "id": "WuXO6x3-hUgB"
      },
      "outputs": [],
      "source": [
        "#set start timedelta\n",
        "start_timedelta = 0\n",
        "#set end timedelta\n",
        "end_timedelta = 16980\n",
        "\n",
        "ACC_new = ACC[(ACC['timedelta'] >= start_timedelta) &(ACC['timedelta'] <= end_timedelta) ]\n",
        "HeartR_new = HeartR[(HeartR['timedelta'] >= start_timedelta) &(HeartR['timedelta'] <= end_timedelta) ]\n",
        "SleepL_new = SleepL[(SleepL['timedelta'] >= start_timedelta) &(SleepL['timedelta'] <= end_timedelta) ]"
      ]
    },
    {
      "cell_type": "code",
      "execution_count": null,
      "metadata": {
        "colab": {
          "base_uri": "https://localhost:8080/",
          "height": 541
        },
        "id": "0gAiJ3b0hUgC",
        "outputId": "65ba43fd-1ce7-4cd1-8868-92b79d12ad70"
      },
      "outputs": [
        {
          "output_type": "stream",
          "name": "stderr",
          "text": [
            "/usr/local/lib/python3.7/dist-packages/ipykernel_launcher.py:3: SettingWithCopyWarning: \n",
            "A value is trying to be set on a copy of a slice from a DataFrame.\n",
            "Try using .loc[row_indexer,col_indexer] = value instead\n",
            "\n",
            "See the caveats in the documentation: https://pandas.pydata.org/pandas-docs/stable/user_guide/indexing.html#returning-a-view-versus-a-copy\n",
            "  This is separate from the ipykernel package so we can avoid doing imports until\n"
          ]
        },
        {
          "output_type": "execute_result",
          "data": {
            "text/plain": [
              "            timedelta      accX      accY      accZ\n",
              "0     0 days 00:00:00 -0.243203  0.895372  0.367591\n",
              "1     0 days 00:00:01 -0.240757  0.873826  0.415446\n",
              "2     0 days 00:00:02 -0.244620  0.883943  0.387026\n",
              "3     0 days 00:00:03 -0.248036  0.902427  0.347812\n",
              "4     0 days 00:00:04 -0.241778  0.912946  0.321502\n",
              "...               ...       ...       ...       ...\n",
              "16976 0 days 04:42:56 -0.442763 -0.525892  0.722950\n",
              "16977 0 days 04:42:57 -0.441990 -0.525476  0.723410\n",
              "16978 0 days 04:42:58 -0.441581 -0.525116  0.724003\n",
              "16979 0 days 04:42:59 -0.442283 -0.525849  0.723265\n",
              "16980 0 days 04:43:00 -0.442674 -0.525962  0.722678\n",
              "\n",
              "[16981 rows x 4 columns]"
            ],
            "text/html": [
              "\n",
              "  <div id=\"df-2703189a-1e2b-4876-8e21-e184cc9ab6e9\">\n",
              "    <div class=\"colab-df-container\">\n",
              "      <div>\n",
              "<style scoped>\n",
              "    .dataframe tbody tr th:only-of-type {\n",
              "        vertical-align: middle;\n",
              "    }\n",
              "\n",
              "    .dataframe tbody tr th {\n",
              "        vertical-align: top;\n",
              "    }\n",
              "\n",
              "    .dataframe thead th {\n",
              "        text-align: right;\n",
              "    }\n",
              "</style>\n",
              "<table border=\"1\" class=\"dataframe\">\n",
              "  <thead>\n",
              "    <tr style=\"text-align: right;\">\n",
              "      <th></th>\n",
              "      <th>timedelta</th>\n",
              "      <th>accX</th>\n",
              "      <th>accY</th>\n",
              "      <th>accZ</th>\n",
              "    </tr>\n",
              "  </thead>\n",
              "  <tbody>\n",
              "    <tr>\n",
              "      <th>0</th>\n",
              "      <td>0 days 00:00:00</td>\n",
              "      <td>-0.243203</td>\n",
              "      <td>0.895372</td>\n",
              "      <td>0.367591</td>\n",
              "    </tr>\n",
              "    <tr>\n",
              "      <th>1</th>\n",
              "      <td>0 days 00:00:01</td>\n",
              "      <td>-0.240757</td>\n",
              "      <td>0.873826</td>\n",
              "      <td>0.415446</td>\n",
              "    </tr>\n",
              "    <tr>\n",
              "      <th>2</th>\n",
              "      <td>0 days 00:00:02</td>\n",
              "      <td>-0.244620</td>\n",
              "      <td>0.883943</td>\n",
              "      <td>0.387026</td>\n",
              "    </tr>\n",
              "    <tr>\n",
              "      <th>3</th>\n",
              "      <td>0 days 00:00:03</td>\n",
              "      <td>-0.248036</td>\n",
              "      <td>0.902427</td>\n",
              "      <td>0.347812</td>\n",
              "    </tr>\n",
              "    <tr>\n",
              "      <th>4</th>\n",
              "      <td>0 days 00:00:04</td>\n",
              "      <td>-0.241778</td>\n",
              "      <td>0.912946</td>\n",
              "      <td>0.321502</td>\n",
              "    </tr>\n",
              "    <tr>\n",
              "      <th>...</th>\n",
              "      <td>...</td>\n",
              "      <td>...</td>\n",
              "      <td>...</td>\n",
              "      <td>...</td>\n",
              "    </tr>\n",
              "    <tr>\n",
              "      <th>16976</th>\n",
              "      <td>0 days 04:42:56</td>\n",
              "      <td>-0.442763</td>\n",
              "      <td>-0.525892</td>\n",
              "      <td>0.722950</td>\n",
              "    </tr>\n",
              "    <tr>\n",
              "      <th>16977</th>\n",
              "      <td>0 days 04:42:57</td>\n",
              "      <td>-0.441990</td>\n",
              "      <td>-0.525476</td>\n",
              "      <td>0.723410</td>\n",
              "    </tr>\n",
              "    <tr>\n",
              "      <th>16978</th>\n",
              "      <td>0 days 04:42:58</td>\n",
              "      <td>-0.441581</td>\n",
              "      <td>-0.525116</td>\n",
              "      <td>0.724003</td>\n",
              "    </tr>\n",
              "    <tr>\n",
              "      <th>16979</th>\n",
              "      <td>0 days 04:42:59</td>\n",
              "      <td>-0.442283</td>\n",
              "      <td>-0.525849</td>\n",
              "      <td>0.723265</td>\n",
              "    </tr>\n",
              "    <tr>\n",
              "      <th>16980</th>\n",
              "      <td>0 days 04:43:00</td>\n",
              "      <td>-0.442674</td>\n",
              "      <td>-0.525962</td>\n",
              "      <td>0.722678</td>\n",
              "    </tr>\n",
              "  </tbody>\n",
              "</table>\n",
              "<p>16981 rows × 4 columns</p>\n",
              "</div>\n",
              "      <button class=\"colab-df-convert\" onclick=\"convertToInteractive('df-2703189a-1e2b-4876-8e21-e184cc9ab6e9')\"\n",
              "              title=\"Convert this dataframe to an interactive table.\"\n",
              "              style=\"display:none;\">\n",
              "        \n",
              "  <svg xmlns=\"http://www.w3.org/2000/svg\" height=\"24px\"viewBox=\"0 0 24 24\"\n",
              "       width=\"24px\">\n",
              "    <path d=\"M0 0h24v24H0V0z\" fill=\"none\"/>\n",
              "    <path d=\"M18.56 5.44l.94 2.06.94-2.06 2.06-.94-2.06-.94-.94-2.06-.94 2.06-2.06.94zm-11 1L8.5 8.5l.94-2.06 2.06-.94-2.06-.94L8.5 2.5l-.94 2.06-2.06.94zm10 10l.94 2.06.94-2.06 2.06-.94-2.06-.94-.94-2.06-.94 2.06-2.06.94z\"/><path d=\"M17.41 7.96l-1.37-1.37c-.4-.4-.92-.59-1.43-.59-.52 0-1.04.2-1.43.59L10.3 9.45l-7.72 7.72c-.78.78-.78 2.05 0 2.83L4 21.41c.39.39.9.59 1.41.59.51 0 1.02-.2 1.41-.59l7.78-7.78 2.81-2.81c.8-.78.8-2.07 0-2.86zM5.41 20L4 18.59l7.72-7.72 1.47 1.35L5.41 20z\"/>\n",
              "  </svg>\n",
              "      </button>\n",
              "      \n",
              "  <style>\n",
              "    .colab-df-container {\n",
              "      display:flex;\n",
              "      flex-wrap:wrap;\n",
              "      gap: 12px;\n",
              "    }\n",
              "\n",
              "    .colab-df-convert {\n",
              "      background-color: #E8F0FE;\n",
              "      border: none;\n",
              "      border-radius: 50%;\n",
              "      cursor: pointer;\n",
              "      display: none;\n",
              "      fill: #1967D2;\n",
              "      height: 32px;\n",
              "      padding: 0 0 0 0;\n",
              "      width: 32px;\n",
              "    }\n",
              "\n",
              "    .colab-df-convert:hover {\n",
              "      background-color: #E2EBFA;\n",
              "      box-shadow: 0px 1px 2px rgba(60, 64, 67, 0.3), 0px 1px 3px 1px rgba(60, 64, 67, 0.15);\n",
              "      fill: #174EA6;\n",
              "    }\n",
              "\n",
              "    [theme=dark] .colab-df-convert {\n",
              "      background-color: #3B4455;\n",
              "      fill: #D2E3FC;\n",
              "    }\n",
              "\n",
              "    [theme=dark] .colab-df-convert:hover {\n",
              "      background-color: #434B5C;\n",
              "      box-shadow: 0px 1px 3px 1px rgba(0, 0, 0, 0.15);\n",
              "      filter: drop-shadow(0px 1px 2px rgba(0, 0, 0, 0.3));\n",
              "      fill: #FFFFFF;\n",
              "    }\n",
              "  </style>\n",
              "\n",
              "      <script>\n",
              "        const buttonEl =\n",
              "          document.querySelector('#df-2703189a-1e2b-4876-8e21-e184cc9ab6e9 button.colab-df-convert');\n",
              "        buttonEl.style.display =\n",
              "          google.colab.kernel.accessAllowed ? 'block' : 'none';\n",
              "\n",
              "        async function convertToInteractive(key) {\n",
              "          const element = document.querySelector('#df-2703189a-1e2b-4876-8e21-e184cc9ab6e9');\n",
              "          const dataTable =\n",
              "            await google.colab.kernel.invokeFunction('convertToInteractive',\n",
              "                                                     [key], {});\n",
              "          if (!dataTable) return;\n",
              "\n",
              "          const docLinkHtml = 'Like what you see? Visit the ' +\n",
              "            '<a target=\"_blank\" href=https://colab.research.google.com/notebooks/data_table.ipynb>data table notebook</a>'\n",
              "            + ' to learn more about interactive tables.';\n",
              "          element.innerHTML = '';\n",
              "          dataTable['output_type'] = 'display_data';\n",
              "          await google.colab.output.renderOutput(dataTable, element);\n",
              "          const docLink = document.createElement('div');\n",
              "          docLink.innerHTML = docLinkHtml;\n",
              "          element.appendChild(docLink);\n",
              "        }\n",
              "      </script>\n",
              "    </div>\n",
              "  </div>\n",
              "  "
            ]
          },
          "metadata": {},
          "execution_count": 82
        }
      ],
      "source": [
        "# ------------ Rounding ACC (Rounding to 1 sec) -------------------------------\n",
        "# Convert to datetime and round to second,\n",
        "ACC_new['timedelta'] = pd.DataFrame(pd.to_timedelta(ACC_new['timedelta'], unit='s').round('1s'))\n",
        "\n",
        "#เวลาที่ duplicate ให้ปัดเป็น mean \n",
        "df_acc_X = ACC_new.groupby('timedelta')['accX'].mean().reset_index()\n",
        "df_acc_Y = ACC_new.groupby('timedelta')['accY'].mean().reset_index()\n",
        "df_acc_Z = ACC_new.groupby('timedelta')['accZ'].mean().reset_index()\n",
        "\n",
        "ACC_new2 = pd.concat([df_acc_X, df_acc_Y['accY'], df_acc_Z['accZ']], axis=1)\n",
        "ACC_new2"
      ]
    },
    {
      "cell_type": "code",
      "execution_count": null,
      "metadata": {
        "colab": {
          "base_uri": "https://localhost:8080/",
          "height": 572
        },
        "id": "5DTOWjYehUgD",
        "outputId": "f31ca0ff-f2ea-486a-f665-ab69256c95b6"
      },
      "outputs": [
        {
          "output_type": "stream",
          "name": "stderr",
          "text": [
            "/usr/local/lib/python3.7/dist-packages/ipykernel_launcher.py:1: SettingWithCopyWarning: \n",
            "A value is trying to be set on a copy of a slice from a DataFrame.\n",
            "Try using .loc[row_indexer,col_indexer] = value instead\n",
            "\n",
            "See the caveats in the documentation: https://pandas.pydata.org/pandas-docs/stable/user_guide/indexing.html#returning-a-view-versus-a-copy\n",
            "  \"\"\"Entry point for launching an IPython kernel.\n"
          ]
        },
        {
          "output_type": "execute_result",
          "data": {
            "text/plain": [
              "                 heartrate\n",
              "timedelta                 \n",
              "0 days 00:00:08       97.0\n",
              "0 days 00:00:09       97.0\n",
              "0 days 00:00:10       97.0\n",
              "0 days 00:00:11       97.0\n",
              "0 days 00:00:12       97.0\n",
              "...                    ...\n",
              "0 days 04:42:51       75.0\n",
              "0 days 04:42:52       75.0\n",
              "0 days 04:42:53       75.0\n",
              "0 days 04:42:54       75.0\n",
              "0 days 04:42:55       76.0\n",
              "\n",
              "[16968 rows x 1 columns]"
            ],
            "text/html": [
              "\n",
              "  <div id=\"df-bc3a1055-e1ee-4777-974f-3118e052a08b\">\n",
              "    <div class=\"colab-df-container\">\n",
              "      <div>\n",
              "<style scoped>\n",
              "    .dataframe tbody tr th:only-of-type {\n",
              "        vertical-align: middle;\n",
              "    }\n",
              "\n",
              "    .dataframe tbody tr th {\n",
              "        vertical-align: top;\n",
              "    }\n",
              "\n",
              "    .dataframe thead th {\n",
              "        text-align: right;\n",
              "    }\n",
              "</style>\n",
              "<table border=\"1\" class=\"dataframe\">\n",
              "  <thead>\n",
              "    <tr style=\"text-align: right;\">\n",
              "      <th></th>\n",
              "      <th>heartrate</th>\n",
              "    </tr>\n",
              "    <tr>\n",
              "      <th>timedelta</th>\n",
              "      <th></th>\n",
              "    </tr>\n",
              "  </thead>\n",
              "  <tbody>\n",
              "    <tr>\n",
              "      <th>0 days 00:00:08</th>\n",
              "      <td>97.0</td>\n",
              "    </tr>\n",
              "    <tr>\n",
              "      <th>0 days 00:00:09</th>\n",
              "      <td>97.0</td>\n",
              "    </tr>\n",
              "    <tr>\n",
              "      <th>0 days 00:00:10</th>\n",
              "      <td>97.0</td>\n",
              "    </tr>\n",
              "    <tr>\n",
              "      <th>0 days 00:00:11</th>\n",
              "      <td>97.0</td>\n",
              "    </tr>\n",
              "    <tr>\n",
              "      <th>0 days 00:00:12</th>\n",
              "      <td>97.0</td>\n",
              "    </tr>\n",
              "    <tr>\n",
              "      <th>...</th>\n",
              "      <td>...</td>\n",
              "    </tr>\n",
              "    <tr>\n",
              "      <th>0 days 04:42:51</th>\n",
              "      <td>75.0</td>\n",
              "    </tr>\n",
              "    <tr>\n",
              "      <th>0 days 04:42:52</th>\n",
              "      <td>75.0</td>\n",
              "    </tr>\n",
              "    <tr>\n",
              "      <th>0 days 04:42:53</th>\n",
              "      <td>75.0</td>\n",
              "    </tr>\n",
              "    <tr>\n",
              "      <th>0 days 04:42:54</th>\n",
              "      <td>75.0</td>\n",
              "    </tr>\n",
              "    <tr>\n",
              "      <th>0 days 04:42:55</th>\n",
              "      <td>76.0</td>\n",
              "    </tr>\n",
              "  </tbody>\n",
              "</table>\n",
              "<p>16968 rows × 1 columns</p>\n",
              "</div>\n",
              "      <button class=\"colab-df-convert\" onclick=\"convertToInteractive('df-bc3a1055-e1ee-4777-974f-3118e052a08b')\"\n",
              "              title=\"Convert this dataframe to an interactive table.\"\n",
              "              style=\"display:none;\">\n",
              "        \n",
              "  <svg xmlns=\"http://www.w3.org/2000/svg\" height=\"24px\"viewBox=\"0 0 24 24\"\n",
              "       width=\"24px\">\n",
              "    <path d=\"M0 0h24v24H0V0z\" fill=\"none\"/>\n",
              "    <path d=\"M18.56 5.44l.94 2.06.94-2.06 2.06-.94-2.06-.94-.94-2.06-.94 2.06-2.06.94zm-11 1L8.5 8.5l.94-2.06 2.06-.94-2.06-.94L8.5 2.5l-.94 2.06-2.06.94zm10 10l.94 2.06.94-2.06 2.06-.94-2.06-.94-.94-2.06-.94 2.06-2.06.94z\"/><path d=\"M17.41 7.96l-1.37-1.37c-.4-.4-.92-.59-1.43-.59-.52 0-1.04.2-1.43.59L10.3 9.45l-7.72 7.72c-.78.78-.78 2.05 0 2.83L4 21.41c.39.39.9.59 1.41.59.51 0 1.02-.2 1.41-.59l7.78-7.78 2.81-2.81c.8-.78.8-2.07 0-2.86zM5.41 20L4 18.59l7.72-7.72 1.47 1.35L5.41 20z\"/>\n",
              "  </svg>\n",
              "      </button>\n",
              "      \n",
              "  <style>\n",
              "    .colab-df-container {\n",
              "      display:flex;\n",
              "      flex-wrap:wrap;\n",
              "      gap: 12px;\n",
              "    }\n",
              "\n",
              "    .colab-df-convert {\n",
              "      background-color: #E8F0FE;\n",
              "      border: none;\n",
              "      border-radius: 50%;\n",
              "      cursor: pointer;\n",
              "      display: none;\n",
              "      fill: #1967D2;\n",
              "      height: 32px;\n",
              "      padding: 0 0 0 0;\n",
              "      width: 32px;\n",
              "    }\n",
              "\n",
              "    .colab-df-convert:hover {\n",
              "      background-color: #E2EBFA;\n",
              "      box-shadow: 0px 1px 2px rgba(60, 64, 67, 0.3), 0px 1px 3px 1px rgba(60, 64, 67, 0.15);\n",
              "      fill: #174EA6;\n",
              "    }\n",
              "\n",
              "    [theme=dark] .colab-df-convert {\n",
              "      background-color: #3B4455;\n",
              "      fill: #D2E3FC;\n",
              "    }\n",
              "\n",
              "    [theme=dark] .colab-df-convert:hover {\n",
              "      background-color: #434B5C;\n",
              "      box-shadow: 0px 1px 3px 1px rgba(0, 0, 0, 0.15);\n",
              "      filter: drop-shadow(0px 1px 2px rgba(0, 0, 0, 0.3));\n",
              "      fill: #FFFFFF;\n",
              "    }\n",
              "  </style>\n",
              "\n",
              "      <script>\n",
              "        const buttonEl =\n",
              "          document.querySelector('#df-bc3a1055-e1ee-4777-974f-3118e052a08b button.colab-df-convert');\n",
              "        buttonEl.style.display =\n",
              "          google.colab.kernel.accessAllowed ? 'block' : 'none';\n",
              "\n",
              "        async function convertToInteractive(key) {\n",
              "          const element = document.querySelector('#df-bc3a1055-e1ee-4777-974f-3118e052a08b');\n",
              "          const dataTable =\n",
              "            await google.colab.kernel.invokeFunction('convertToInteractive',\n",
              "                                                     [key], {});\n",
              "          if (!dataTable) return;\n",
              "\n",
              "          const docLinkHtml = 'Like what you see? Visit the ' +\n",
              "            '<a target=\"_blank\" href=https://colab.research.google.com/notebooks/data_table.ipynb>data table notebook</a>'\n",
              "            + ' to learn more about interactive tables.';\n",
              "          element.innerHTML = '';\n",
              "          dataTable['output_type'] = 'display_data';\n",
              "          await google.colab.output.renderOutput(dataTable, element);\n",
              "          const docLink = document.createElement('div');\n",
              "          docLink.innerHTML = docLinkHtml;\n",
              "          element.appendChild(docLink);\n",
              "        }\n",
              "      </script>\n",
              "    </div>\n",
              "  </div>\n",
              "  "
            ]
          },
          "metadata": {},
          "execution_count": 83
        }
      ],
      "source": [
        "HeartR_new['timedelta'] = pd.DataFrame(pd.to_timedelta(HeartR_new['timedelta'],unit='s').round('1s'))\n",
        "\n",
        "resample_rule = '1s'\n",
        "HeartR_new2 = HeartR_new.set_index('timedelta').resample(resample_rule,).median().ffill()\n",
        "HeartR_new2"
      ]
    },
    {
      "cell_type": "code",
      "source": [
        "SleepL_new['timedelta'] = pd.DataFrame(pd.to_timedelta(SleepL_new['timedelta'],unit='s').round('1s'))\n",
        "\n",
        "# Resampling every 1s with median with ffill\n",
        "resample_rule = '1s'\n",
        "SleepL_new2 = SleepL_new.set_index('timedelta').resample(resample_rule,).median().ffill()\n",
        "SleepL_new2"
      ],
      "metadata": {
        "colab": {
          "base_uri": "https://localhost:8080/",
          "height": 450
        },
        "id": "i6jFTU1wDOev",
        "outputId": "5ce1ecc0-9555-401e-f3a3-8b04f43764f3"
      },
      "execution_count": null,
      "outputs": [
        {
          "output_type": "execute_result",
          "data": {
            "text/plain": [
              "                 sleep\n",
              "timedelta             \n",
              "0 days 00:00:00   -1.0\n",
              "0 days 00:00:01   -1.0\n",
              "0 days 00:00:02   -1.0\n",
              "0 days 00:00:03   -1.0\n",
              "0 days 00:00:04   -1.0\n",
              "...                ...\n",
              "0 days 04:42:56    0.0\n",
              "0 days 04:42:57    0.0\n",
              "0 days 04:42:58    0.0\n",
              "0 days 04:42:59    0.0\n",
              "0 days 04:43:00    0.0\n",
              "\n",
              "[16981 rows x 1 columns]"
            ],
            "text/html": [
              "\n",
              "  <div id=\"df-678e5102-ad0f-4e44-9cd0-097ebbf2eb93\">\n",
              "    <div class=\"colab-df-container\">\n",
              "      <div>\n",
              "<style scoped>\n",
              "    .dataframe tbody tr th:only-of-type {\n",
              "        vertical-align: middle;\n",
              "    }\n",
              "\n",
              "    .dataframe tbody tr th {\n",
              "        vertical-align: top;\n",
              "    }\n",
              "\n",
              "    .dataframe thead th {\n",
              "        text-align: right;\n",
              "    }\n",
              "</style>\n",
              "<table border=\"1\" class=\"dataframe\">\n",
              "  <thead>\n",
              "    <tr style=\"text-align: right;\">\n",
              "      <th></th>\n",
              "      <th>sleep</th>\n",
              "    </tr>\n",
              "    <tr>\n",
              "      <th>timedelta</th>\n",
              "      <th></th>\n",
              "    </tr>\n",
              "  </thead>\n",
              "  <tbody>\n",
              "    <tr>\n",
              "      <th>0 days 00:00:00</th>\n",
              "      <td>-1.0</td>\n",
              "    </tr>\n",
              "    <tr>\n",
              "      <th>0 days 00:00:01</th>\n",
              "      <td>-1.0</td>\n",
              "    </tr>\n",
              "    <tr>\n",
              "      <th>0 days 00:00:02</th>\n",
              "      <td>-1.0</td>\n",
              "    </tr>\n",
              "    <tr>\n",
              "      <th>0 days 00:00:03</th>\n",
              "      <td>-1.0</td>\n",
              "    </tr>\n",
              "    <tr>\n",
              "      <th>0 days 00:00:04</th>\n",
              "      <td>-1.0</td>\n",
              "    </tr>\n",
              "    <tr>\n",
              "      <th>...</th>\n",
              "      <td>...</td>\n",
              "    </tr>\n",
              "    <tr>\n",
              "      <th>0 days 04:42:56</th>\n",
              "      <td>0.0</td>\n",
              "    </tr>\n",
              "    <tr>\n",
              "      <th>0 days 04:42:57</th>\n",
              "      <td>0.0</td>\n",
              "    </tr>\n",
              "    <tr>\n",
              "      <th>0 days 04:42:58</th>\n",
              "      <td>0.0</td>\n",
              "    </tr>\n",
              "    <tr>\n",
              "      <th>0 days 04:42:59</th>\n",
              "      <td>0.0</td>\n",
              "    </tr>\n",
              "    <tr>\n",
              "      <th>0 days 04:43:00</th>\n",
              "      <td>0.0</td>\n",
              "    </tr>\n",
              "  </tbody>\n",
              "</table>\n",
              "<p>16981 rows × 1 columns</p>\n",
              "</div>\n",
              "      <button class=\"colab-df-convert\" onclick=\"convertToInteractive('df-678e5102-ad0f-4e44-9cd0-097ebbf2eb93')\"\n",
              "              title=\"Convert this dataframe to an interactive table.\"\n",
              "              style=\"display:none;\">\n",
              "        \n",
              "  <svg xmlns=\"http://www.w3.org/2000/svg\" height=\"24px\"viewBox=\"0 0 24 24\"\n",
              "       width=\"24px\">\n",
              "    <path d=\"M0 0h24v24H0V0z\" fill=\"none\"/>\n",
              "    <path d=\"M18.56 5.44l.94 2.06.94-2.06 2.06-.94-2.06-.94-.94-2.06-.94 2.06-2.06.94zm-11 1L8.5 8.5l.94-2.06 2.06-.94-2.06-.94L8.5 2.5l-.94 2.06-2.06.94zm10 10l.94 2.06.94-2.06 2.06-.94-2.06-.94-.94-2.06-.94 2.06-2.06.94z\"/><path d=\"M17.41 7.96l-1.37-1.37c-.4-.4-.92-.59-1.43-.59-.52 0-1.04.2-1.43.59L10.3 9.45l-7.72 7.72c-.78.78-.78 2.05 0 2.83L4 21.41c.39.39.9.59 1.41.59.51 0 1.02-.2 1.41-.59l7.78-7.78 2.81-2.81c.8-.78.8-2.07 0-2.86zM5.41 20L4 18.59l7.72-7.72 1.47 1.35L5.41 20z\"/>\n",
              "  </svg>\n",
              "      </button>\n",
              "      \n",
              "  <style>\n",
              "    .colab-df-container {\n",
              "      display:flex;\n",
              "      flex-wrap:wrap;\n",
              "      gap: 12px;\n",
              "    }\n",
              "\n",
              "    .colab-df-convert {\n",
              "      background-color: #E8F0FE;\n",
              "      border: none;\n",
              "      border-radius: 50%;\n",
              "      cursor: pointer;\n",
              "      display: none;\n",
              "      fill: #1967D2;\n",
              "      height: 32px;\n",
              "      padding: 0 0 0 0;\n",
              "      width: 32px;\n",
              "    }\n",
              "\n",
              "    .colab-df-convert:hover {\n",
              "      background-color: #E2EBFA;\n",
              "      box-shadow: 0px 1px 2px rgba(60, 64, 67, 0.3), 0px 1px 3px 1px rgba(60, 64, 67, 0.15);\n",
              "      fill: #174EA6;\n",
              "    }\n",
              "\n",
              "    [theme=dark] .colab-df-convert {\n",
              "      background-color: #3B4455;\n",
              "      fill: #D2E3FC;\n",
              "    }\n",
              "\n",
              "    [theme=dark] .colab-df-convert:hover {\n",
              "      background-color: #434B5C;\n",
              "      box-shadow: 0px 1px 3px 1px rgba(0, 0, 0, 0.15);\n",
              "      filter: drop-shadow(0px 1px 2px rgba(0, 0, 0, 0.3));\n",
              "      fill: #FFFFFF;\n",
              "    }\n",
              "  </style>\n",
              "\n",
              "      <script>\n",
              "        const buttonEl =\n",
              "          document.querySelector('#df-678e5102-ad0f-4e44-9cd0-097ebbf2eb93 button.colab-df-convert');\n",
              "        buttonEl.style.display =\n",
              "          google.colab.kernel.accessAllowed ? 'block' : 'none';\n",
              "\n",
              "        async function convertToInteractive(key) {\n",
              "          const element = document.querySelector('#df-678e5102-ad0f-4e44-9cd0-097ebbf2eb93');\n",
              "          const dataTable =\n",
              "            await google.colab.kernel.invokeFunction('convertToInteractive',\n",
              "                                                     [key], {});\n",
              "          if (!dataTable) return;\n",
              "\n",
              "          const docLinkHtml = 'Like what you see? Visit the ' +\n",
              "            '<a target=\"_blank\" href=https://colab.research.google.com/notebooks/data_table.ipynb>data table notebook</a>'\n",
              "            + ' to learn more about interactive tables.';\n",
              "          element.innerHTML = '';\n",
              "          dataTable['output_type'] = 'display_data';\n",
              "          await google.colab.output.renderOutput(dataTable, element);\n",
              "          const docLink = document.createElement('div');\n",
              "          docLink.innerHTML = docLinkHtml;\n",
              "          element.appendChild(docLink);\n",
              "        }\n",
              "      </script>\n",
              "    </div>\n",
              "  </div>\n",
              "  "
            ]
          },
          "metadata": {},
          "execution_count": 84
        }
      ]
    },
    {
      "cell_type": "code",
      "source": [
        "df = []\n",
        "df = pd.merge_asof(ACC_new2, HeartR_new2, on='timedelta')\n",
        "df = pd.merge_asof(df, SleepL_new2, on = 'timedelta')"
      ],
      "metadata": {
        "id": "M1x4Ft4qDQhq"
      },
      "execution_count": null,
      "outputs": []
    },
    {
      "cell_type": "code",
      "source": [
        "count_check =df.isnull().sum()\n",
        "count_check"
      ],
      "metadata": {
        "colab": {
          "base_uri": "https://localhost:8080/"
        },
        "id": "KVj4Fqh1DSal",
        "outputId": "e1203419-c938-47bf-f1a8-ade1c252c729"
      },
      "execution_count": null,
      "outputs": [
        {
          "output_type": "execute_result",
          "data": {
            "text/plain": [
              "timedelta    0\n",
              "accX         0\n",
              "accY         0\n",
              "accZ         0\n",
              "heartrate    8\n",
              "sleep        0\n",
              "dtype: int64"
            ]
          },
          "metadata": {},
          "execution_count": 86
        }
      ]
    },
    {
      "cell_type": "code",
      "source": [
        "fillHeartRate = df['heartrate'].median()\n",
        "df['heartrate']=df['heartrate'].fillna(fillHeartRate)"
      ],
      "metadata": {
        "id": "oWv_fpM0DUFV"
      },
      "execution_count": null,
      "outputs": []
    },
    {
      "cell_type": "code",
      "source": [
        "re_check =df.isnull().sum()\n",
        "re_check"
      ],
      "metadata": {
        "colab": {
          "base_uri": "https://localhost:8080/"
        },
        "id": "KnHdtHc9DV2_",
        "outputId": "49846d22-3fe4-449c-feaa-022076d1aab3"
      },
      "execution_count": null,
      "outputs": [
        {
          "output_type": "execute_result",
          "data": {
            "text/plain": [
              "timedelta    0\n",
              "accX         0\n",
              "accY         0\n",
              "accZ         0\n",
              "heartrate    0\n",
              "sleep        0\n",
              "dtype: int64"
            ]
          },
          "metadata": {},
          "execution_count": 88
        }
      ]
    },
    {
      "cell_type": "code",
      "source": [
        "df = df.drop(columns = ['timedelta'])\n",
        "df"
      ],
      "metadata": {
        "colab": {
          "base_uri": "https://localhost:8080/",
          "height": 419
        },
        "id": "3r7QM4sADXxt",
        "outputId": "beadeb96-116d-4b67-aae0-e32aecc074f3"
      },
      "execution_count": null,
      "outputs": [
        {
          "output_type": "execute_result",
          "data": {
            "text/plain": [
              "           accX      accY      accZ  heartrate  sleep\n",
              "0     -0.243203  0.895372  0.367591       82.0   -1.0\n",
              "1     -0.240757  0.873826  0.415446       82.0   -1.0\n",
              "2     -0.244620  0.883943  0.387026       82.0   -1.0\n",
              "3     -0.248036  0.902427  0.347812       82.0   -1.0\n",
              "4     -0.241778  0.912946  0.321502       82.0   -1.0\n",
              "...         ...       ...       ...        ...    ...\n",
              "16976 -0.442763 -0.525892  0.722950       76.0    0.0\n",
              "16977 -0.441990 -0.525476  0.723410       76.0    0.0\n",
              "16978 -0.441581 -0.525116  0.724003       76.0    0.0\n",
              "16979 -0.442283 -0.525849  0.723265       76.0    0.0\n",
              "16980 -0.442674 -0.525962  0.722678       76.0    0.0\n",
              "\n",
              "[16981 rows x 5 columns]"
            ],
            "text/html": [
              "\n",
              "  <div id=\"df-d182072b-a1eb-4428-a7c4-d23f69dc5042\">\n",
              "    <div class=\"colab-df-container\">\n",
              "      <div>\n",
              "<style scoped>\n",
              "    .dataframe tbody tr th:only-of-type {\n",
              "        vertical-align: middle;\n",
              "    }\n",
              "\n",
              "    .dataframe tbody tr th {\n",
              "        vertical-align: top;\n",
              "    }\n",
              "\n",
              "    .dataframe thead th {\n",
              "        text-align: right;\n",
              "    }\n",
              "</style>\n",
              "<table border=\"1\" class=\"dataframe\">\n",
              "  <thead>\n",
              "    <tr style=\"text-align: right;\">\n",
              "      <th></th>\n",
              "      <th>accX</th>\n",
              "      <th>accY</th>\n",
              "      <th>accZ</th>\n",
              "      <th>heartrate</th>\n",
              "      <th>sleep</th>\n",
              "    </tr>\n",
              "  </thead>\n",
              "  <tbody>\n",
              "    <tr>\n",
              "      <th>0</th>\n",
              "      <td>-0.243203</td>\n",
              "      <td>0.895372</td>\n",
              "      <td>0.367591</td>\n",
              "      <td>82.0</td>\n",
              "      <td>-1.0</td>\n",
              "    </tr>\n",
              "    <tr>\n",
              "      <th>1</th>\n",
              "      <td>-0.240757</td>\n",
              "      <td>0.873826</td>\n",
              "      <td>0.415446</td>\n",
              "      <td>82.0</td>\n",
              "      <td>-1.0</td>\n",
              "    </tr>\n",
              "    <tr>\n",
              "      <th>2</th>\n",
              "      <td>-0.244620</td>\n",
              "      <td>0.883943</td>\n",
              "      <td>0.387026</td>\n",
              "      <td>82.0</td>\n",
              "      <td>-1.0</td>\n",
              "    </tr>\n",
              "    <tr>\n",
              "      <th>3</th>\n",
              "      <td>-0.248036</td>\n",
              "      <td>0.902427</td>\n",
              "      <td>0.347812</td>\n",
              "      <td>82.0</td>\n",
              "      <td>-1.0</td>\n",
              "    </tr>\n",
              "    <tr>\n",
              "      <th>4</th>\n",
              "      <td>-0.241778</td>\n",
              "      <td>0.912946</td>\n",
              "      <td>0.321502</td>\n",
              "      <td>82.0</td>\n",
              "      <td>-1.0</td>\n",
              "    </tr>\n",
              "    <tr>\n",
              "      <th>...</th>\n",
              "      <td>...</td>\n",
              "      <td>...</td>\n",
              "      <td>...</td>\n",
              "      <td>...</td>\n",
              "      <td>...</td>\n",
              "    </tr>\n",
              "    <tr>\n",
              "      <th>16976</th>\n",
              "      <td>-0.442763</td>\n",
              "      <td>-0.525892</td>\n",
              "      <td>0.722950</td>\n",
              "      <td>76.0</td>\n",
              "      <td>0.0</td>\n",
              "    </tr>\n",
              "    <tr>\n",
              "      <th>16977</th>\n",
              "      <td>-0.441990</td>\n",
              "      <td>-0.525476</td>\n",
              "      <td>0.723410</td>\n",
              "      <td>76.0</td>\n",
              "      <td>0.0</td>\n",
              "    </tr>\n",
              "    <tr>\n",
              "      <th>16978</th>\n",
              "      <td>-0.441581</td>\n",
              "      <td>-0.525116</td>\n",
              "      <td>0.724003</td>\n",
              "      <td>76.0</td>\n",
              "      <td>0.0</td>\n",
              "    </tr>\n",
              "    <tr>\n",
              "      <th>16979</th>\n",
              "      <td>-0.442283</td>\n",
              "      <td>-0.525849</td>\n",
              "      <td>0.723265</td>\n",
              "      <td>76.0</td>\n",
              "      <td>0.0</td>\n",
              "    </tr>\n",
              "    <tr>\n",
              "      <th>16980</th>\n",
              "      <td>-0.442674</td>\n",
              "      <td>-0.525962</td>\n",
              "      <td>0.722678</td>\n",
              "      <td>76.0</td>\n",
              "      <td>0.0</td>\n",
              "    </tr>\n",
              "  </tbody>\n",
              "</table>\n",
              "<p>16981 rows × 5 columns</p>\n",
              "</div>\n",
              "      <button class=\"colab-df-convert\" onclick=\"convertToInteractive('df-d182072b-a1eb-4428-a7c4-d23f69dc5042')\"\n",
              "              title=\"Convert this dataframe to an interactive table.\"\n",
              "              style=\"display:none;\">\n",
              "        \n",
              "  <svg xmlns=\"http://www.w3.org/2000/svg\" height=\"24px\"viewBox=\"0 0 24 24\"\n",
              "       width=\"24px\">\n",
              "    <path d=\"M0 0h24v24H0V0z\" fill=\"none\"/>\n",
              "    <path d=\"M18.56 5.44l.94 2.06.94-2.06 2.06-.94-2.06-.94-.94-2.06-.94 2.06-2.06.94zm-11 1L8.5 8.5l.94-2.06 2.06-.94-2.06-.94L8.5 2.5l-.94 2.06-2.06.94zm10 10l.94 2.06.94-2.06 2.06-.94-2.06-.94-.94-2.06-.94 2.06-2.06.94z\"/><path d=\"M17.41 7.96l-1.37-1.37c-.4-.4-.92-.59-1.43-.59-.52 0-1.04.2-1.43.59L10.3 9.45l-7.72 7.72c-.78.78-.78 2.05 0 2.83L4 21.41c.39.39.9.59 1.41.59.51 0 1.02-.2 1.41-.59l7.78-7.78 2.81-2.81c.8-.78.8-2.07 0-2.86zM5.41 20L4 18.59l7.72-7.72 1.47 1.35L5.41 20z\"/>\n",
              "  </svg>\n",
              "      </button>\n",
              "      \n",
              "  <style>\n",
              "    .colab-df-container {\n",
              "      display:flex;\n",
              "      flex-wrap:wrap;\n",
              "      gap: 12px;\n",
              "    }\n",
              "\n",
              "    .colab-df-convert {\n",
              "      background-color: #E8F0FE;\n",
              "      border: none;\n",
              "      border-radius: 50%;\n",
              "      cursor: pointer;\n",
              "      display: none;\n",
              "      fill: #1967D2;\n",
              "      height: 32px;\n",
              "      padding: 0 0 0 0;\n",
              "      width: 32px;\n",
              "    }\n",
              "\n",
              "    .colab-df-convert:hover {\n",
              "      background-color: #E2EBFA;\n",
              "      box-shadow: 0px 1px 2px rgba(60, 64, 67, 0.3), 0px 1px 3px 1px rgba(60, 64, 67, 0.15);\n",
              "      fill: #174EA6;\n",
              "    }\n",
              "\n",
              "    [theme=dark] .colab-df-convert {\n",
              "      background-color: #3B4455;\n",
              "      fill: #D2E3FC;\n",
              "    }\n",
              "\n",
              "    [theme=dark] .colab-df-convert:hover {\n",
              "      background-color: #434B5C;\n",
              "      box-shadow: 0px 1px 3px 1px rgba(0, 0, 0, 0.15);\n",
              "      filter: drop-shadow(0px 1px 2px rgba(0, 0, 0, 0.3));\n",
              "      fill: #FFFFFF;\n",
              "    }\n",
              "  </style>\n",
              "\n",
              "      <script>\n",
              "        const buttonEl =\n",
              "          document.querySelector('#df-d182072b-a1eb-4428-a7c4-d23f69dc5042 button.colab-df-convert');\n",
              "        buttonEl.style.display =\n",
              "          google.colab.kernel.accessAllowed ? 'block' : 'none';\n",
              "\n",
              "        async function convertToInteractive(key) {\n",
              "          const element = document.querySelector('#df-d182072b-a1eb-4428-a7c4-d23f69dc5042');\n",
              "          const dataTable =\n",
              "            await google.colab.kernel.invokeFunction('convertToInteractive',\n",
              "                                                     [key], {});\n",
              "          if (!dataTable) return;\n",
              "\n",
              "          const docLinkHtml = 'Like what you see? Visit the ' +\n",
              "            '<a target=\"_blank\" href=https://colab.research.google.com/notebooks/data_table.ipynb>data table notebook</a>'\n",
              "            + ' to learn more about interactive tables.';\n",
              "          element.innerHTML = '';\n",
              "          dataTable['output_type'] = 'display_data';\n",
              "          await google.colab.output.renderOutput(dataTable, element);\n",
              "          const docLink = document.createElement('div');\n",
              "          docLink.innerHTML = docLinkHtml;\n",
              "          element.appendChild(docLink);\n",
              "        }\n",
              "      </script>\n",
              "    </div>\n",
              "  </div>\n",
              "  "
            ]
          },
          "metadata": {},
          "execution_count": 89
        }
      ]
    },
    {
      "cell_type": "code",
      "source": [
        "feature_columns = ['accX','accY','accZ','heartrate']\n",
        "label_columns = ['sleep']\n",
        "\n",
        "df_feature = df[feature_columns]\n",
        "df_label = df[label_columns]\n",
        "#standardized\n",
        "standard_scaler = StandardScaler()\n",
        "afterScaler = standard_scaler.fit_transform(df_feature)\n",
        "\n",
        "afterScaler"
      ],
      "metadata": {
        "colab": {
          "base_uri": "https://localhost:8080/"
        },
        "id": "3mjjL2QODZm8",
        "outputId": "f632b40c-df47-4df4-eb20-8a9cff86d9f6"
      },
      "execution_count": null,
      "outputs": [
        {
          "output_type": "execute_result",
          "data": {
            "text/plain": [
              "array([[-0.58754699,  3.05807519,  0.69872824,  0.14353909],\n",
              "       [-0.58145574,  2.99509378,  0.75774575,  0.14353909],\n",
              "       [-0.59107524,  3.02466836,  0.72269623,  0.14353909],\n",
              "       ...,\n",
              "       [-1.08151136, -1.0942955 ,  1.13827323, -0.63045529],\n",
              "       [-1.08325986, -1.09644011,  1.13736319, -0.63045529],\n",
              "       [-1.08423404, -1.09676929,  1.13663908, -0.63045529]])"
            ]
          },
          "metadata": {},
          "execution_count": 90
        }
      ]
    },
    {
      "cell_type": "code",
      "source": [
        "df_feature = pd.DataFrame(data = afterScaler, index = df_feature.index, columns = feature_columns)\n",
        "df_feature"
      ],
      "metadata": {
        "colab": {
          "base_uri": "https://localhost:8080/",
          "height": 419
        },
        "id": "GAngA4m8DcK7",
        "outputId": "d110e24b-b4a4-4cae-eef4-9fcec81453ac"
      },
      "execution_count": null,
      "outputs": [
        {
          "output_type": "execute_result",
          "data": {
            "text/plain": [
              "           accX      accY      accZ  heartrate\n",
              "0     -0.587547  3.058075  0.698728   0.143539\n",
              "1     -0.581456  2.995094  0.757746   0.143539\n",
              "2     -0.591075  3.024668  0.722696   0.143539\n",
              "3     -0.599581  3.078699  0.674335   0.143539\n",
              "4     -0.583998  3.109450  0.641889   0.143539\n",
              "...         ...       ...       ...        ...\n",
              "16976 -1.084456 -1.096565  1.136974  -0.630455\n",
              "16977 -1.082531 -1.095348  1.137542  -0.630455\n",
              "16978 -1.081511 -1.094296  1.138273  -0.630455\n",
              "16979 -1.083260 -1.096440  1.137363  -0.630455\n",
              "16980 -1.084234 -1.096769  1.136639  -0.630455\n",
              "\n",
              "[16981 rows x 4 columns]"
            ],
            "text/html": [
              "\n",
              "  <div id=\"df-6cd253cd-287a-4b6f-87a8-3ea1d9dbfe84\">\n",
              "    <div class=\"colab-df-container\">\n",
              "      <div>\n",
              "<style scoped>\n",
              "    .dataframe tbody tr th:only-of-type {\n",
              "        vertical-align: middle;\n",
              "    }\n",
              "\n",
              "    .dataframe tbody tr th {\n",
              "        vertical-align: top;\n",
              "    }\n",
              "\n",
              "    .dataframe thead th {\n",
              "        text-align: right;\n",
              "    }\n",
              "</style>\n",
              "<table border=\"1\" class=\"dataframe\">\n",
              "  <thead>\n",
              "    <tr style=\"text-align: right;\">\n",
              "      <th></th>\n",
              "      <th>accX</th>\n",
              "      <th>accY</th>\n",
              "      <th>accZ</th>\n",
              "      <th>heartrate</th>\n",
              "    </tr>\n",
              "  </thead>\n",
              "  <tbody>\n",
              "    <tr>\n",
              "      <th>0</th>\n",
              "      <td>-0.587547</td>\n",
              "      <td>3.058075</td>\n",
              "      <td>0.698728</td>\n",
              "      <td>0.143539</td>\n",
              "    </tr>\n",
              "    <tr>\n",
              "      <th>1</th>\n",
              "      <td>-0.581456</td>\n",
              "      <td>2.995094</td>\n",
              "      <td>0.757746</td>\n",
              "      <td>0.143539</td>\n",
              "    </tr>\n",
              "    <tr>\n",
              "      <th>2</th>\n",
              "      <td>-0.591075</td>\n",
              "      <td>3.024668</td>\n",
              "      <td>0.722696</td>\n",
              "      <td>0.143539</td>\n",
              "    </tr>\n",
              "    <tr>\n",
              "      <th>3</th>\n",
              "      <td>-0.599581</td>\n",
              "      <td>3.078699</td>\n",
              "      <td>0.674335</td>\n",
              "      <td>0.143539</td>\n",
              "    </tr>\n",
              "    <tr>\n",
              "      <th>4</th>\n",
              "      <td>-0.583998</td>\n",
              "      <td>3.109450</td>\n",
              "      <td>0.641889</td>\n",
              "      <td>0.143539</td>\n",
              "    </tr>\n",
              "    <tr>\n",
              "      <th>...</th>\n",
              "      <td>...</td>\n",
              "      <td>...</td>\n",
              "      <td>...</td>\n",
              "      <td>...</td>\n",
              "    </tr>\n",
              "    <tr>\n",
              "      <th>16976</th>\n",
              "      <td>-1.084456</td>\n",
              "      <td>-1.096565</td>\n",
              "      <td>1.136974</td>\n",
              "      <td>-0.630455</td>\n",
              "    </tr>\n",
              "    <tr>\n",
              "      <th>16977</th>\n",
              "      <td>-1.082531</td>\n",
              "      <td>-1.095348</td>\n",
              "      <td>1.137542</td>\n",
              "      <td>-0.630455</td>\n",
              "    </tr>\n",
              "    <tr>\n",
              "      <th>16978</th>\n",
              "      <td>-1.081511</td>\n",
              "      <td>-1.094296</td>\n",
              "      <td>1.138273</td>\n",
              "      <td>-0.630455</td>\n",
              "    </tr>\n",
              "    <tr>\n",
              "      <th>16979</th>\n",
              "      <td>-1.083260</td>\n",
              "      <td>-1.096440</td>\n",
              "      <td>1.137363</td>\n",
              "      <td>-0.630455</td>\n",
              "    </tr>\n",
              "    <tr>\n",
              "      <th>16980</th>\n",
              "      <td>-1.084234</td>\n",
              "      <td>-1.096769</td>\n",
              "      <td>1.136639</td>\n",
              "      <td>-0.630455</td>\n",
              "    </tr>\n",
              "  </tbody>\n",
              "</table>\n",
              "<p>16981 rows × 4 columns</p>\n",
              "</div>\n",
              "      <button class=\"colab-df-convert\" onclick=\"convertToInteractive('df-6cd253cd-287a-4b6f-87a8-3ea1d9dbfe84')\"\n",
              "              title=\"Convert this dataframe to an interactive table.\"\n",
              "              style=\"display:none;\">\n",
              "        \n",
              "  <svg xmlns=\"http://www.w3.org/2000/svg\" height=\"24px\"viewBox=\"0 0 24 24\"\n",
              "       width=\"24px\">\n",
              "    <path d=\"M0 0h24v24H0V0z\" fill=\"none\"/>\n",
              "    <path d=\"M18.56 5.44l.94 2.06.94-2.06 2.06-.94-2.06-.94-.94-2.06-.94 2.06-2.06.94zm-11 1L8.5 8.5l.94-2.06 2.06-.94-2.06-.94L8.5 2.5l-.94 2.06-2.06.94zm10 10l.94 2.06.94-2.06 2.06-.94-2.06-.94-.94-2.06-.94 2.06-2.06.94z\"/><path d=\"M17.41 7.96l-1.37-1.37c-.4-.4-.92-.59-1.43-.59-.52 0-1.04.2-1.43.59L10.3 9.45l-7.72 7.72c-.78.78-.78 2.05 0 2.83L4 21.41c.39.39.9.59 1.41.59.51 0 1.02-.2 1.41-.59l7.78-7.78 2.81-2.81c.8-.78.8-2.07 0-2.86zM5.41 20L4 18.59l7.72-7.72 1.47 1.35L5.41 20z\"/>\n",
              "  </svg>\n",
              "      </button>\n",
              "      \n",
              "  <style>\n",
              "    .colab-df-container {\n",
              "      display:flex;\n",
              "      flex-wrap:wrap;\n",
              "      gap: 12px;\n",
              "    }\n",
              "\n",
              "    .colab-df-convert {\n",
              "      background-color: #E8F0FE;\n",
              "      border: none;\n",
              "      border-radius: 50%;\n",
              "      cursor: pointer;\n",
              "      display: none;\n",
              "      fill: #1967D2;\n",
              "      height: 32px;\n",
              "      padding: 0 0 0 0;\n",
              "      width: 32px;\n",
              "    }\n",
              "\n",
              "    .colab-df-convert:hover {\n",
              "      background-color: #E2EBFA;\n",
              "      box-shadow: 0px 1px 2px rgba(60, 64, 67, 0.3), 0px 1px 3px 1px rgba(60, 64, 67, 0.15);\n",
              "      fill: #174EA6;\n",
              "    }\n",
              "\n",
              "    [theme=dark] .colab-df-convert {\n",
              "      background-color: #3B4455;\n",
              "      fill: #D2E3FC;\n",
              "    }\n",
              "\n",
              "    [theme=dark] .colab-df-convert:hover {\n",
              "      background-color: #434B5C;\n",
              "      box-shadow: 0px 1px 3px 1px rgba(0, 0, 0, 0.15);\n",
              "      filter: drop-shadow(0px 1px 2px rgba(0, 0, 0, 0.3));\n",
              "      fill: #FFFFFF;\n",
              "    }\n",
              "  </style>\n",
              "\n",
              "      <script>\n",
              "        const buttonEl =\n",
              "          document.querySelector('#df-6cd253cd-287a-4b6f-87a8-3ea1d9dbfe84 button.colab-df-convert');\n",
              "        buttonEl.style.display =\n",
              "          google.colab.kernel.accessAllowed ? 'block' : 'none';\n",
              "\n",
              "        async function convertToInteractive(key) {\n",
              "          const element = document.querySelector('#df-6cd253cd-287a-4b6f-87a8-3ea1d9dbfe84');\n",
              "          const dataTable =\n",
              "            await google.colab.kernel.invokeFunction('convertToInteractive',\n",
              "                                                     [key], {});\n",
              "          if (!dataTable) return;\n",
              "\n",
              "          const docLinkHtml = 'Like what you see? Visit the ' +\n",
              "            '<a target=\"_blank\" href=https://colab.research.google.com/notebooks/data_table.ipynb>data table notebook</a>'\n",
              "            + ' to learn more about interactive tables.';\n",
              "          element.innerHTML = '';\n",
              "          dataTable['output_type'] = 'display_data';\n",
              "          await google.colab.output.renderOutput(dataTable, element);\n",
              "          const docLink = document.createElement('div');\n",
              "          docLink.innerHTML = docLinkHtml;\n",
              "          element.appendChild(docLink);\n",
              "        }\n",
              "      </script>\n",
              "    </div>\n",
              "  </div>\n",
              "  "
            ]
          },
          "metadata": {},
          "execution_count": 91
        }
      ]
    },
    {
      "cell_type": "code",
      "source": [
        "df_label.replace(-1,0,inplace=True)"
      ],
      "metadata": {
        "colab": {
          "base_uri": "https://localhost:8080/"
        },
        "id": "asOheBySDvFh",
        "outputId": "c816d93d-1c97-4173-8950-feaf0050cbd0"
      },
      "execution_count": null,
      "outputs": [
        {
          "output_type": "stream",
          "name": "stderr",
          "text": [
            "/usr/local/lib/python3.7/dist-packages/pandas/core/frame.py:5244: SettingWithCopyWarning: \n",
            "A value is trying to be set on a copy of a slice from a DataFrame\n",
            "\n",
            "See the caveats in the documentation: https://pandas.pydata.org/pandas-docs/stable/user_guide/indexing.html#returning-a-view-versus-a-copy\n",
            "  method=method,\n"
          ]
        }
      ]
    },
    {
      "cell_type": "code",
      "source": [
        "df_feature.plot(), df_label.plot()\n",
        "plt.show()"
      ],
      "metadata": {
        "colab": {
          "base_uri": "https://localhost:8080/",
          "height": 513
        },
        "id": "nGRhC_LuDpqP",
        "outputId": "73dbc561-c32d-48e6-e697-9bb85fb9afdb"
      },
      "execution_count": null,
      "outputs": [
        {
          "output_type": "display_data",
          "data": {
            "text/plain": [
              "<Figure size 432x288 with 1 Axes>"
            ],
            "image/png": "[encoded data removed]"
          },
          "metadata": {
            "needs_background": "light"
          }
        },
        {
          "output_type": "display_data",
          "data": {
            "text/plain": [
              "<Figure size 432x288 with 1 Axes>"
            ],
            "image/png": "[encoded data removed]"
          },
          "metadata": {
            "needs_background": "light"
          }
        }
      ]
    },
    {
      "cell_type": "markdown",
      "source": [
        "##10.1.2 Simple Moving Average (SMA) and Create 2D feature"
      ],
      "metadata": {
        "id": "tnNd2BFDD4km"
      }
    },
    {
      "cell_type": "code",
      "source": [
        "# ------------Simple Moving Average (SMA) ------------------------------\n",
        "#columns=['accX', 'accY', 'accZ', 'heartrate']\n",
        "df_feature_SMA = pd.DataFrame(columns=['accX','accY','accZ','heartrate'])\n",
        "df_feature_SMA['accX'] = df_feature['accX'].rolling(5, min_periods=1).mean()\n",
        "df_feature_SMA['accY'] = df_feature['accY'].rolling(5, min_periods=1).mean()\n",
        "df_feature_SMA['accZ'] = df_feature['accZ'].rolling(5, min_periods=1).mean()\n",
        "df_feature_SMA['heartrate'] = df_feature['heartrate'].rolling(5, min_periods=1).mean()"
      ],
      "metadata": {
        "id": "_x25kqVmEh5w"
      },
      "execution_count": null,
      "outputs": []
    },
    {
      "cell_type": "code",
      "source": [
        "# ------------ Train-Test-Split 2D features -------------------------------\n",
        "# set sliding window parameter\n",
        "slidingW = 100 #จำนวน row\n",
        "stride_step = 5\n",
        "n_features = 4 \n",
        "df_feature2D = np.array([],ndmin=1)\n",
        "df_feature2D_T = np.array([])\n",
        "df_label_new = np.array([])\n",
        "\n",
        "for t in range(0 , len(df_feature), stride_step ):\n",
        "    F2d = np.array(df_feature[t:t+slidingW],ndmin=1)\n",
        "    if len(F2d) <slidingW:\n",
        "        break\n",
        "    # F2d.reshape(slidingW, n_features,1)\n",
        "    F2d_T = F2d.transpose()\n",
        "    # print(df_feature3D.shape)\n",
        "    # print(F3d.shape)\n",
        "    if df_feature2D.size == 0 :\n",
        "        df_feature2D = F2d\n",
        "        df_feature2D_T =F2d_T\n",
        "    else:\n",
        "        df_feature2D = np.dstack((df_feature2D,F2d))\n",
        "        df_feature2D_T = np.dstack((df_feature2D_T,F2d_T))\n",
        "    Labels = stats.mode(df_label[t : t+slidingW])\n",
        "    df_label_new = np.append(df_label_new,Labels[0])\n",
        "\n",
        "df_feature2D = df_feature2D.transpose()\n",
        "df_feature2D = df_feature2D[..., np.newaxis]\n",
        "df_feature2D_T = df_feature2D_T.transpose()\n",
        "df_feature2D_T = df_feature2D_T[..., np.newaxis]"
      ],
      "metadata": {
        "id": "rwC_m_WGEl9E"
      },
      "execution_count": null,
      "outputs": []
    },
    {
      "cell_type": "code",
      "source": [
        "df_feature2D.shape,df_feature2D_T.shape,df_label_new.shape"
      ],
      "metadata": {
        "colab": {
          "base_uri": "https://localhost:8080/"
        },
        "id": "5m3wpmMfErnh",
        "outputId": "8d4d1435-a780-443a-a9af-2d4fe36438fe"
      },
      "execution_count": null,
      "outputs": [
        {
          "output_type": "execute_result",
          "data": {
            "text/plain": [
              "((3377, 4, 100, 1), (3377, 100, 4, 1), (3377,))"
            ]
          },
          "metadata": {},
          "execution_count": 96
        }
      ]
    },
    {
      "cell_type": "markdown",
      "metadata": {
        "id": "3UQCC-xuhUgU"
      },
      "source": [
        "## 10.1.3Train Test Split"
      ]
    },
    {
      "cell_type": "code",
      "execution_count": null,
      "metadata": {
        "id": "cEHEBU5DhUgV"
      },
      "outputs": [],
      "source": [
        "# ------------ Train-Test-Split 2D features -------------------------------\n",
        "seed = 77\n",
        "X_train_1, X_test_1, Y_train_1, Y_test_1 = model_selection.train_test_split(df_feature2D,df_label_new,test_size = 0.3, random_state=seed)"
      ]
    },
    {
      "cell_type": "code",
      "execution_count": null,
      "metadata": {
        "id": "8IH2jn8hhUgW"
      },
      "outputs": [],
      "source": [
        "# ------------ Train-Test-Split 2D features -------------------------------\n",
        "seed = 77\n",
        "X_train_2, X_test_2, Y_train_2, Y_test_2 = model_selection.train_test_split(df_feature2D_T,df_label_new,test_size = 0.3, random_state=seed)"
      ]
    },
    {
      "cell_type": "markdown",
      "source": [
        "#10.2 LSTM Model Training and Testing"
      ],
      "metadata": {
        "id": "VIGhTpi9RcvW"
      }
    },
    {
      "cell_type": "markdown",
      "source": [
        "##10.2.1 LSTM Model Parameters"
      ],
      "metadata": {
        "id": "9GJt_lcdRfYN"
      }
    },
    {
      "cell_type": "code",
      "execution_count": null,
      "metadata": {
        "id": "9Ze-02Q4hUgW"
      },
      "outputs": [],
      "source": [
        "# ------------ LSTM Architecture parameter -------------------------------\n",
        "LSTM_L1 = 100 # try 200, 300, 400, 500, 1000\n",
        "LSTM_L2 = 50 # try 50, 100, 150, 200, 250, 300\n",
        "dropRate_L1 = 0.25\n",
        "dropRate_L2 = 0.5\n",
        "D_out = 5\n",
        "Activation = \"softmax\"\n",
        "n_classes = 6\n",
        "Input_shape1 = (n_features, slidingW)\n",
        "Input_shape2 = (slidingW, n_features)\n",
        "# Nlayer(LSTM_L1, Dense), Nnode, Activation\n",
        "\n",
        "# try\n",
        "#Option #1:\n",
        "inRow = n_features\n",
        "inCol = slidingW\n",
        "# Option #2\n",
        "inRow = slidingW\n",
        "inCol = slidingW"
      ]
    },
    {
      "cell_type": "markdown",
      "source": [
        "##10.2.2 LSTM Model Train Test"
      ],
      "metadata": {
        "id": "fsUpCLEHRnDN"
      }
    },
    {
      "cell_type": "code",
      "execution_count": null,
      "metadata": {
        "colab": {
          "base_uri": "https://localhost:8080/"
        },
        "id": "EB_r-rP0hUgX",
        "outputId": "e2da9e4c-e307-49fb-cda7-acd3a4709dc6"
      },
      "outputs": [
        {
          "output_type": "stream",
          "name": "stdout",
          "text": [
            "Model: \"sequential_4\"\n",
            "_________________________________________________________________\n",
            " Layer (type)                Output Shape              Param #   \n",
            "=================================================================\n",
            " lstm_8 (LSTM)               (None, 4, 100)            80400     \n",
            "                                                                 \n",
            " dropout_8 (Dropout)         (None, 4, 100)            0         \n",
            "                                                                 \n",
            " lstm_9 (LSTM)               (None, 50)                30200     \n",
            "                                                                 \n",
            " dropout_9 (Dropout)         (None, 50)                0         \n",
            "                                                                 \n",
            " dense_4 (Dense)             (None, 6)                 306       \n",
            "                                                                 \n",
            "=================================================================\n",
            "Total params: 110,906\n",
            "Trainable params: 110,906\n",
            "Non-trainable params: 0\n",
            "_________________________________________________________________\n"
          ]
        }
      ],
      "source": [
        "# ------------ Create LSTM Model -------------------------------\n",
        "model =  tf.keras.Sequential()\n",
        "model.add( LSTM( LSTM_L1, return_sequences=True,\n",
        "input_shape=Input_shape1))\n",
        "model.add(Dropout(dropRate_L1 ))\n",
        "model.add(LSTM(LSTM_L2))\n",
        "model.add(Dropout(dropRate_L2))\n",
        "model.add(Dense(n_classes, activation='softmax'))\n",
        "model.summary()"
      ]
    },
    {
      "cell_type": "code",
      "execution_count": null,
      "metadata": {
        "colab": {
          "base_uri": "https://localhost:8080/"
        },
        "id": "GwnKxdBGhUgY",
        "outputId": "eff816ef-ca38-416d-fed3-03253d3fd008"
      },
      "outputs": [
        {
          "output_type": "stream",
          "name": "stdout",
          "text": [
            "Model: \"sequential_5\"\n",
            "_________________________________________________________________\n",
            " Layer (type)                Output Shape              Param #   \n",
            "=================================================================\n",
            " lstm_10 (LSTM)              (None, 100, 100)          42000     \n",
            "                                                                 \n",
            " dropout_10 (Dropout)        (None, 100, 100)          0         \n",
            "                                                                 \n",
            " lstm_11 (LSTM)              (None, 50)                30200     \n",
            "                                                                 \n",
            " dropout_11 (Dropout)        (None, 50)                0         \n",
            "                                                                 \n",
            " dense_5 (Dense)             (None, 6)                 306       \n",
            "                                                                 \n",
            "=================================================================\n",
            "Total params: 72,506\n",
            "Trainable params: 72,506\n",
            "Non-trainable params: 0\n",
            "_________________________________________________________________\n"
          ]
        }
      ],
      "source": [
        "# ------------ Create LSTM Model -------------------------------\n",
        "model2 =  tf.keras.Sequential()\n",
        "model2.add( LSTM( LSTM_L1, return_sequences=True,\n",
        "input_shape=Input_shape2))\n",
        "model2.add(Dropout(dropRate_L1 ))\n",
        "model2.add(LSTM(LSTM_L2))\n",
        "model2.add(Dropout(dropRate_L2))\n",
        "model2.add(Dense(n_classes, activation='softmax'))\n",
        "model2.summary()"
      ]
    },
    {
      "cell_type": "code",
      "execution_count": null,
      "metadata": {
        "id": "KHshcFa5hUgZ"
      },
      "outputs": [],
      "source": [
        "# ------------ Create Optimizer -------------------------------\n",
        "model.compile(optimizer='adam',\n",
        "loss= \"sparse_categorical_crossentropy\",metrics=[\"acc\"])"
      ]
    },
    {
      "cell_type": "code",
      "execution_count": null,
      "metadata": {
        "colab": {
          "base_uri": "https://localhost:8080/"
        },
        "id": "gBTRahf5hUgZ",
        "outputId": "ef46e4b6-3770-4af8-d9ee-2b78ead92277"
      },
      "outputs": [
        {
          "output_type": "stream",
          "name": "stdout",
          "text": [
            "(2363, 4, 100, 1)\n",
            "(1014, 4, 100, 1)\n",
            "(2363,)\n",
            "(1014,)\n"
          ]
        }
      ],
      "source": [
        "print(X_train_1.shape)\n",
        "print(X_test_1.shape)\n",
        "print(Y_train_1.shape)\n",
        "print(Y_test_1.shape)"
      ]
    },
    {
      "cell_type": "code",
      "execution_count": null,
      "metadata": {
        "colab": {
          "base_uri": "https://localhost:8080/"
        },
        "id": "PJICizfahUga",
        "outputId": "834d556b-9daf-4c5c-870d-c33daffd9191"
      },
      "outputs": [
        {
          "output_type": "stream",
          "name": "stdout",
          "text": [
            "Epoch 1/50\n",
            "24/24 [==============================] - 7s 73ms/step - loss: 1.4457 - acc: 0.4287 - val_loss: 1.1529 - val_acc: 0.5276\n",
            "Epoch 2/50\n",
            "24/24 [==============================] - 1s 26ms/step - loss: 1.1520 - acc: 0.5167 - val_loss: 1.0038 - val_acc: 0.5552\n",
            "Epoch 3/50\n",
            "24/24 [==============================] - 1s 26ms/step - loss: 1.0134 - acc: 0.5933 - val_loss: 0.8769 - val_acc: 0.6657\n",
            "Epoch 4/50\n",
            "24/24 [==============================] - 1s 29ms/step - loss: 0.8918 - acc: 0.6475 - val_loss: 0.7471 - val_acc: 0.7199\n",
            "Epoch 5/50\n",
            "24/24 [==============================] - 1s 27ms/step - loss: 0.7720 - acc: 0.6923 - val_loss: 0.6630 - val_acc: 0.7564\n",
            "Epoch 6/50\n",
            "24/24 [==============================] - 1s 27ms/step - loss: 0.7038 - acc: 0.7325 - val_loss: 0.5834 - val_acc: 0.7801\n",
            "Epoch 7/50\n",
            "24/24 [==============================] - 1s 27ms/step - loss: 0.6430 - acc: 0.7545 - val_loss: 0.5283 - val_acc: 0.7899\n",
            "Epoch 8/50\n",
            "24/24 [==============================] - 1s 27ms/step - loss: 0.5869 - acc: 0.7778 - val_loss: 0.4858 - val_acc: 0.8215\n",
            "Epoch 9/50\n",
            "24/24 [==============================] - 1s 28ms/step - loss: 0.5661 - acc: 0.7846 - val_loss: 0.4765 - val_acc: 0.8087\n",
            "Epoch 10/50\n",
            "24/24 [==============================] - 1s 26ms/step - loss: 0.5131 - acc: 0.8019 - val_loss: 0.4002 - val_acc: 0.8511\n",
            "Epoch 11/50\n",
            "24/24 [==============================] - 1s 27ms/step - loss: 0.4601 - acc: 0.8248 - val_loss: 0.3704 - val_acc: 0.8649\n",
            "Epoch 12/50\n",
            "24/24 [==============================] - 1s 28ms/step - loss: 0.4274 - acc: 0.8392 - val_loss: 0.3437 - val_acc: 0.8688\n",
            "Epoch 13/50\n",
            "24/24 [==============================] - 1s 29ms/step - loss: 0.3946 - acc: 0.8502 - val_loss: 0.3095 - val_acc: 0.8797\n",
            "Epoch 14/50\n",
            "24/24 [==============================] - 1s 27ms/step - loss: 0.3679 - acc: 0.8675 - val_loss: 0.3212 - val_acc: 0.8728\n",
            "Epoch 15/50\n",
            "24/24 [==============================] - 1s 27ms/step - loss: 0.3580 - acc: 0.8629 - val_loss: 0.2834 - val_acc: 0.8836\n",
            "Epoch 16/50\n",
            "24/24 [==============================] - 1s 27ms/step - loss: 0.3470 - acc: 0.8603 - val_loss: 0.2786 - val_acc: 0.8846\n",
            "Epoch 17/50\n",
            "24/24 [==============================] - 1s 27ms/step - loss: 0.3121 - acc: 0.8807 - val_loss: 0.2466 - val_acc: 0.8945\n",
            "Epoch 18/50\n",
            "24/24 [==============================] - 1s 27ms/step - loss: 0.3033 - acc: 0.8781 - val_loss: 0.2469 - val_acc: 0.8955\n",
            "Epoch 19/50\n",
            "24/24 [==============================] - 1s 28ms/step - loss: 0.2866 - acc: 0.8862 - val_loss: 0.2209 - val_acc: 0.9142\n",
            "Epoch 20/50\n",
            "24/24 [==============================] - 1s 26ms/step - loss: 0.2745 - acc: 0.8963 - val_loss: 0.2162 - val_acc: 0.9231\n",
            "Epoch 21/50\n",
            "24/24 [==============================] - 1s 26ms/step - loss: 0.2736 - acc: 0.8879 - val_loss: 0.2177 - val_acc: 0.9043\n",
            "Epoch 22/50\n",
            "24/24 [==============================] - 1s 27ms/step - loss: 0.2771 - acc: 0.8908 - val_loss: 0.2049 - val_acc: 0.9211\n",
            "Epoch 23/50\n",
            "24/24 [==============================] - 1s 26ms/step - loss: 0.2458 - acc: 0.9061 - val_loss: 0.1996 - val_acc: 0.9162\n",
            "Epoch 24/50\n",
            "24/24 [==============================] - 1s 25ms/step - loss: 0.2458 - acc: 0.9001 - val_loss: 0.1889 - val_acc: 0.9280\n",
            "Epoch 25/50\n",
            "24/24 [==============================] - 1s 26ms/step - loss: 0.2425 - acc: 0.9061 - val_loss: 0.1879 - val_acc: 0.9201\n",
            "Epoch 26/50\n",
            "24/24 [==============================] - 1s 26ms/step - loss: 0.2321 - acc: 0.9048 - val_loss: 0.1932 - val_acc: 0.9152\n",
            "Epoch 27/50\n",
            "24/24 [==============================] - 1s 26ms/step - loss: 0.2541 - acc: 0.9018 - val_loss: 0.2273 - val_acc: 0.9043\n",
            "Epoch 28/50\n",
            "24/24 [==============================] - 1s 26ms/step - loss: 0.2199 - acc: 0.9128 - val_loss: 0.1910 - val_acc: 0.9152\n",
            "Epoch 29/50\n",
            "24/24 [==============================] - 1s 28ms/step - loss: 0.2304 - acc: 0.9069 - val_loss: 0.1969 - val_acc: 0.9093\n",
            "Epoch 30/50\n",
            "24/24 [==============================] - 1s 27ms/step - loss: 0.2074 - acc: 0.9217 - val_loss: 0.1830 - val_acc: 0.9152\n",
            "Epoch 31/50\n",
            "24/24 [==============================] - 1s 27ms/step - loss: 0.2080 - acc: 0.9149 - val_loss: 0.2472 - val_acc: 0.9024\n",
            "Epoch 32/50\n",
            "24/24 [==============================] - 1s 26ms/step - loss: 0.2212 - acc: 0.9065 - val_loss: 0.1513 - val_acc: 0.9458\n",
            "Epoch 33/50\n",
            "24/24 [==============================] - 1s 26ms/step - loss: 0.2054 - acc: 0.9217 - val_loss: 0.1588 - val_acc: 0.9398\n",
            "Epoch 34/50\n",
            "24/24 [==============================] - 1s 26ms/step - loss: 0.1952 - acc: 0.9234 - val_loss: 0.1501 - val_acc: 0.9408\n",
            "Epoch 35/50\n",
            "24/24 [==============================] - 1s 26ms/step - loss: 0.1780 - acc: 0.9281 - val_loss: 0.1466 - val_acc: 0.9398\n",
            "Epoch 36/50\n",
            "24/24 [==============================] - 1s 29ms/step - loss: 0.1758 - acc: 0.9272 - val_loss: 0.1405 - val_acc: 0.9408\n",
            "Epoch 37/50\n",
            "24/24 [==============================] - 1s 25ms/step - loss: 0.1691 - acc: 0.9327 - val_loss: 0.1464 - val_acc: 0.9379\n",
            "Epoch 38/50\n",
            "24/24 [==============================] - 1s 30ms/step - loss: 0.1760 - acc: 0.9268 - val_loss: 0.1584 - val_acc: 0.9231\n",
            "Epoch 39/50\n",
            "24/24 [==============================] - 1s 26ms/step - loss: 0.1668 - acc: 0.9302 - val_loss: 0.1524 - val_acc: 0.9379\n",
            "Epoch 40/50\n",
            "24/24 [==============================] - 1s 26ms/step - loss: 0.1830 - acc: 0.9298 - val_loss: 0.1370 - val_acc: 0.9438\n",
            "Epoch 41/50\n",
            "24/24 [==============================] - 1s 26ms/step - loss: 0.1703 - acc: 0.9336 - val_loss: 0.1374 - val_acc: 0.9438\n",
            "Epoch 42/50\n",
            "24/24 [==============================] - 1s 25ms/step - loss: 0.1800 - acc: 0.9238 - val_loss: 0.1318 - val_acc: 0.9438\n",
            "Epoch 43/50\n",
            "24/24 [==============================] - 1s 26ms/step - loss: 0.1534 - acc: 0.9467 - val_loss: 0.1522 - val_acc: 0.9339\n",
            "Epoch 44/50\n",
            "24/24 [==============================] - 1s 26ms/step - loss: 0.1587 - acc: 0.9357 - val_loss: 0.1565 - val_acc: 0.9320\n",
            "Epoch 45/50\n",
            "24/24 [==============================] - 1s 26ms/step - loss: 0.1605 - acc: 0.9361 - val_loss: 0.1360 - val_acc: 0.9408\n",
            "Epoch 46/50\n",
            "24/24 [==============================] - 1s 28ms/step - loss: 0.1517 - acc: 0.9391 - val_loss: 0.1325 - val_acc: 0.9497\n",
            "Epoch 47/50\n",
            "24/24 [==============================] - 1s 27ms/step - loss: 0.1581 - acc: 0.9353 - val_loss: 0.1474 - val_acc: 0.9359\n",
            "Epoch 48/50\n",
            "24/24 [==============================] - 1s 26ms/step - loss: 0.1521 - acc: 0.9361 - val_loss: 0.1467 - val_acc: 0.9359\n",
            "Epoch 49/50\n",
            "24/24 [==============================] - 1s 26ms/step - loss: 0.1600 - acc: 0.9323 - val_loss: 0.1366 - val_acc: 0.9369\n",
            "Epoch 50/50\n",
            "24/24 [==============================] - 1s 25ms/step - loss: 0.1520 - acc: 0.9416 - val_loss: 0.1425 - val_acc: 0.9418\n"
          ]
        }
      ],
      "source": [
        "# ------ Train CNN using 2D feature--------------------------------------------\n",
        "# Training the model\n",
        "EP = 50\n",
        "batch_size = 100 # try 20, 40, 60, 80, 100\n",
        "history = model.fit( X_train_1, Y_train_1, # try Option #1 และ Option #2\n",
        "batch_size = batch_size,\n",
        "validation_data=(X_test_1, Y_test_1), epochs=EP)"
      ]
    },
    {
      "cell_type": "code",
      "execution_count": null,
      "metadata": {
        "colab": {
          "base_uri": "https://localhost:8080/"
        },
        "id": "s30hy9UihUga",
        "outputId": "e330a21b-52a5-44c4-d8e5-fc6e1942f989"
      },
      "outputs": [
        {
          "output_type": "stream",
          "name": "stdout",
          "text": [
            "(2363, 100, 4, 1)\n",
            "(1014, 100, 4, 1)\n",
            "(2363,)\n",
            "(1014,)\n"
          ]
        }
      ],
      "source": [
        "print(X_train_2.shape)\n",
        "print(X_test_2.shape)\n",
        "print(Y_train_2.shape)\n",
        "print(Y_test_2.shape)"
      ]
    },
    {
      "cell_type": "code",
      "execution_count": null,
      "metadata": {
        "id": "HiJLqnPIhUgb"
      },
      "outputs": [],
      "source": [
        "# ------------ Create Optimizer -------------------------------\n",
        "model2.compile(optimizer='adam',\n",
        "loss= \"sparse_categorical_crossentropy\",metrics=[\"acc\"])"
      ]
    },
    {
      "cell_type": "code",
      "execution_count": null,
      "metadata": {
        "colab": {
          "base_uri": "https://localhost:8080/"
        },
        "id": "RNFBm_GVhUgb",
        "outputId": "e809ac71-ff34-4615-e827-68b6417cb8a4"
      },
      "outputs": [
        {
          "output_type": "stream",
          "name": "stdout",
          "text": [
            "Epoch 1/50\n",
            "237/237 [==============================] - 32s 116ms/step - loss: 1.0999 - acc: 0.5442 - val_loss: 0.8416 - val_acc: 0.6617\n",
            "Epoch 2/50\n",
            "237/237 [==============================] - 25s 104ms/step - loss: 0.9407 - acc: 0.6030 - val_loss: 0.9651 - val_acc: 0.5799\n",
            "Epoch 3/50\n",
            "237/237 [==============================] - 25s 105ms/step - loss: 0.8008 - acc: 0.6682 - val_loss: 0.8378 - val_acc: 0.6716\n",
            "Epoch 4/50\n",
            "237/237 [==============================] - 25s 104ms/step - loss: 0.7610 - acc: 0.6813 - val_loss: 0.7687 - val_acc: 0.6972\n",
            "Epoch 5/50\n",
            "237/237 [==============================] - 25s 104ms/step - loss: 0.7201 - acc: 0.6890 - val_loss: 0.6148 - val_acc: 0.7426\n",
            "Epoch 6/50\n",
            "237/237 [==============================] - 25s 106ms/step - loss: 0.7479 - acc: 0.7127 - val_loss: 0.6187 - val_acc: 0.7456\n",
            "Epoch 7/50\n",
            "237/237 [==============================] - 25s 105ms/step - loss: 0.7904 - acc: 0.7063 - val_loss: 0.6302 - val_acc: 0.7051\n",
            "Epoch 8/50\n",
            "237/237 [==============================] - 25s 105ms/step - loss: 0.6297 - acc: 0.7296 - val_loss: 0.5406 - val_acc: 0.7890\n",
            "Epoch 9/50\n",
            "237/237 [==============================] - 25s 104ms/step - loss: 0.6397 - acc: 0.7338 - val_loss: 0.5968 - val_acc: 0.7742\n",
            "Epoch 10/50\n",
            "237/237 [==============================] - 25s 106ms/step - loss: 0.6061 - acc: 0.7554 - val_loss: 0.6398 - val_acc: 0.7239\n",
            "Epoch 11/50\n",
            "237/237 [==============================] - 25s 105ms/step - loss: 0.6164 - acc: 0.7419 - val_loss: 0.4661 - val_acc: 0.8008\n",
            "Epoch 12/50\n",
            "237/237 [==============================] - 25s 105ms/step - loss: 0.5793 - acc: 0.7702 - val_loss: 0.5829 - val_acc: 0.7554\n",
            "Epoch 13/50\n",
            "237/237 [==============================] - 25s 105ms/step - loss: 0.6464 - acc: 0.7359 - val_loss: 0.5747 - val_acc: 0.7160\n",
            "Epoch 14/50\n",
            "237/237 [==============================] - 25s 105ms/step - loss: 0.5690 - acc: 0.7787 - val_loss: 0.4311 - val_acc: 0.8294\n",
            "Epoch 15/50\n",
            "237/237 [==============================] - 25s 104ms/step - loss: 0.5272 - acc: 0.7981 - val_loss: 0.4920 - val_acc: 0.8097\n",
            "Epoch 16/50\n",
            "237/237 [==============================] - 25s 104ms/step - loss: 0.5910 - acc: 0.7558 - val_loss: 0.5726 - val_acc: 0.7801\n",
            "Epoch 17/50\n",
            "237/237 [==============================] - 25s 104ms/step - loss: 0.5712 - acc: 0.7871 - val_loss: 0.5109 - val_acc: 0.7988\n",
            "Epoch 18/50\n",
            "237/237 [==============================] - 25s 105ms/step - loss: 0.4643 - acc: 0.8248 - val_loss: 0.3695 - val_acc: 0.8550\n",
            "Epoch 19/50\n",
            "237/237 [==============================] - 25s 106ms/step - loss: 0.5264 - acc: 0.8003 - val_loss: 0.3993 - val_acc: 0.8452\n",
            "Epoch 20/50\n",
            "237/237 [==============================] - 25s 106ms/step - loss: 0.4564 - acc: 0.8138 - val_loss: 0.5030 - val_acc: 0.8057\n",
            "Epoch 21/50\n",
            "237/237 [==============================] - 25s 105ms/step - loss: 0.4183 - acc: 0.8405 - val_loss: 0.4793 - val_acc: 0.7880\n",
            "Epoch 22/50\n",
            "237/237 [==============================] - 25s 105ms/step - loss: 0.4396 - acc: 0.8295 - val_loss: 0.3594 - val_acc: 0.8639\n",
            "Epoch 23/50\n",
            "237/237 [==============================] - 25s 105ms/step - loss: 0.4498 - acc: 0.8328 - val_loss: 0.4247 - val_acc: 0.8176\n",
            "Epoch 24/50\n",
            "237/237 [==============================] - 25s 105ms/step - loss: 0.4432 - acc: 0.8333 - val_loss: 0.3617 - val_acc: 0.8402\n",
            "Epoch 25/50\n",
            "237/237 [==============================] - 25s 105ms/step - loss: 0.4128 - acc: 0.8405 - val_loss: 0.3911 - val_acc: 0.8521\n",
            "Epoch 26/50\n",
            "237/237 [==============================] - 25s 105ms/step - loss: 0.3958 - acc: 0.8523 - val_loss: 0.3598 - val_acc: 0.8550\n",
            "Epoch 27/50\n",
            "237/237 [==============================] - 25s 107ms/step - loss: 0.3955 - acc: 0.8468 - val_loss: 0.3706 - val_acc: 0.8629\n",
            "Epoch 28/50\n",
            "237/237 [==============================] - 25s 107ms/step - loss: 0.3892 - acc: 0.8553 - val_loss: 0.3072 - val_acc: 0.8787\n",
            "Epoch 29/50\n",
            "237/237 [==============================] - 25s 106ms/step - loss: 0.3691 - acc: 0.8620 - val_loss: 0.3184 - val_acc: 0.8718\n",
            "Epoch 30/50\n",
            "237/237 [==============================] - 25s 105ms/step - loss: 0.3360 - acc: 0.8709 - val_loss: 0.2770 - val_acc: 0.8905\n",
            "Epoch 31/50\n",
            "237/237 [==============================] - 25s 105ms/step - loss: 0.3046 - acc: 0.8790 - val_loss: 0.2790 - val_acc: 0.8935\n",
            "Epoch 32/50\n",
            "237/237 [==============================] - 25s 105ms/step - loss: 0.2975 - acc: 0.8862 - val_loss: 0.2547 - val_acc: 0.9004\n",
            "Epoch 33/50\n",
            "237/237 [==============================] - 25s 105ms/step - loss: 0.3333 - acc: 0.8688 - val_loss: 0.2623 - val_acc: 0.8925\n",
            "Epoch 34/50\n",
            "237/237 [==============================] - 25s 105ms/step - loss: 0.3015 - acc: 0.8807 - val_loss: 0.2542 - val_acc: 0.8925\n",
            "Epoch 35/50\n",
            "237/237 [==============================] - 25s 106ms/step - loss: 0.3601 - acc: 0.8650 - val_loss: 0.3713 - val_acc: 0.8481\n",
            "Epoch 36/50\n",
            "237/237 [==============================] - 25s 105ms/step - loss: 0.5974 - acc: 0.8003 - val_loss: 0.3075 - val_acc: 0.8757\n",
            "Epoch 37/50\n",
            "237/237 [==============================] - 25s 105ms/step - loss: 0.3322 - acc: 0.8713 - val_loss: 0.3025 - val_acc: 0.8856\n",
            "Epoch 38/50\n",
            "237/237 [==============================] - 25s 106ms/step - loss: 0.3566 - acc: 0.8743 - val_loss: 0.4150 - val_acc: 0.8550\n",
            "Epoch 39/50\n",
            "237/237 [==============================] - 25s 106ms/step - loss: 0.4023 - acc: 0.8565 - val_loss: 0.3012 - val_acc: 0.8866\n",
            "Epoch 40/50\n",
            "237/237 [==============================] - 25s 106ms/step - loss: 0.3390 - acc: 0.8832 - val_loss: 0.3880 - val_acc: 0.8688\n",
            "Epoch 41/50\n",
            "237/237 [==============================] - 25s 106ms/step - loss: 0.3769 - acc: 0.8705 - val_loss: 0.3199 - val_acc: 0.8748\n",
            "Epoch 42/50\n",
            "237/237 [==============================] - 25s 105ms/step - loss: 0.2932 - acc: 0.8883 - val_loss: 0.2385 - val_acc: 0.8964\n",
            "Epoch 43/50\n",
            "237/237 [==============================] - 25s 106ms/step - loss: 0.2956 - acc: 0.8836 - val_loss: 0.2941 - val_acc: 0.8886\n",
            "Epoch 44/50\n",
            "237/237 [==============================] - 25s 106ms/step - loss: 0.3239 - acc: 0.8819 - val_loss: 0.3144 - val_acc: 0.8767\n",
            "Epoch 45/50\n",
            "237/237 [==============================] - 25s 105ms/step - loss: 0.3272 - acc: 0.8870 - val_loss: 0.2407 - val_acc: 0.8964\n",
            "Epoch 46/50\n",
            "237/237 [==============================] - 25s 106ms/step - loss: 0.2631 - acc: 0.8989 - val_loss: 0.2497 - val_acc: 0.9053\n",
            "Epoch 47/50\n",
            "237/237 [==============================] - 25s 106ms/step - loss: 0.3494 - acc: 0.8680 - val_loss: 0.2516 - val_acc: 0.8895\n",
            "Epoch 48/50\n",
            "237/237 [==============================] - 25s 107ms/step - loss: 0.3185 - acc: 0.8870 - val_loss: 0.2652 - val_acc: 0.9034\n",
            "Epoch 49/50\n",
            "237/237 [==============================] - 26s 109ms/step - loss: 0.3585 - acc: 0.8599 - val_loss: 0.3566 - val_acc: 0.8570\n",
            "Epoch 50/50\n",
            "237/237 [==============================] - 25s 105ms/step - loss: 0.3207 - acc: 0.8697 - val_loss: 0.3000 - val_acc: 0.8550\n"
          ]
        }
      ],
      "source": [
        "# ------ Train CNN using 2D feature--------------------------------------------\n",
        "# Training the model\n",
        "EP = 50\n",
        "batch_size = 10 # try 20, 40, 60, 80, 100\n",
        "history2 = model2.fit( X_train_2, Y_train_2, # try Option #1 และ Option #2\n",
        "batch_size = batch_size,\n",
        "validation_data=(X_test_2, Y_test_2), epochs=EP)"
      ]
    },
    {
      "cell_type": "markdown",
      "source": [
        "#10.3 LSTM Performance Measurement"
      ],
      "metadata": {
        "id": "XOnDYj0dR_qC"
      }
    },
    {
      "cell_type": "code",
      "source": [
        "from sklearn import utils"
      ],
      "metadata": {
        "id": "i2_oWyReSHNV"
      },
      "execution_count": null,
      "outputs": []
    },
    {
      "cell_type": "code",
      "execution_count": null,
      "metadata": {
        "colab": {
          "base_uri": "https://localhost:8080/"
        },
        "id": "5NMBsLUDhUgc",
        "outputId": "c547374f-a19c-4ea1-c722-0c2d33b6e627"
      },
      "outputs": [
        {
          "output_type": "stream",
          "name": "stdout",
          "text": [
            "32/32 [==============================] - 1s 5ms/step\n"
          ]
        }
      ],
      "source": [
        "LSTM_pred = model.predict(X_test_1)"
      ]
    },
    {
      "cell_type": "code",
      "execution_count": null,
      "metadata": {
        "colab": {
          "base_uri": "https://localhost:8080/"
        },
        "id": "O9lVKwKVhUge",
        "outputId": "29dc30dd-9dad-4c30-aa0c-44b01f282aed"
      },
      "outputs": [
        {
          "output_type": "stream",
          "name": "stdout",
          "text": [
            "continuous-multioutput\n"
          ]
        }
      ],
      "source": [
        "# ------------ View Confusion Matrix, Classification Report -------------------------------\n",
        "print(utils.multiclass.type_of_target(LSTM_pred))"
      ]
    },
    {
      "cell_type": "code",
      "execution_count": null,
      "metadata": {
        "colab": {
          "base_uri": "https://localhost:8080/"
        },
        "id": "GbOlRP22hUge",
        "outputId": "c7b8295e-e079-4433-ccea-b4de6e1377d6"
      },
      "outputs": [
        {
          "output_type": "stream",
          "name": "stdout",
          "text": [
            "32/32 [==============================] - 0s 5ms/step\n",
            "32/32 [==============================] - 2s 39ms/step\n",
            "multiclass\n",
            "multiclass\n"
          ]
        }
      ],
      "source": [
        "LSTM_pred1 = np.argmax(model.predict(X_test_1),axis=1)\n",
        "LSTM_pred2 = np.argmax(model2.predict(X_test_2),axis=1)\n",
        "print(utils.multiclass.type_of_target(LSTM_pred1))\n",
        "print(utils.multiclass.type_of_target(LSTM_pred2))"
      ]
    },
    {
      "cell_type": "code",
      "execution_count": null,
      "metadata": {
        "colab": {
          "base_uri": "https://localhost:8080/"
        },
        "id": "_45sIzBHhUgf",
        "outputId": "80b42290-eaf9-4911-932b-f70bf687e8e2"
      },
      "outputs": [
        {
          "output_type": "stream",
          "name": "stdout",
          "text": [
            "Confusion Matrix of LSTM 1 model: \n",
            "[[158   0   5   0   0]\n",
            " [ 10  24  11   0   0]\n",
            " [  9   1 273   5  11]\n",
            " [  0   0   7 264   0]\n",
            " [  0   0   0   0 236]]\n",
            "Classification Report of LSTM 1 model: \n",
            "              precision    recall  f1-score   support\n",
            "\n",
            "         0.0       0.89      0.97      0.93       163\n",
            "         1.0       0.96      0.53      0.69        45\n",
            "         2.0       0.92      0.91      0.92       299\n",
            "         3.0       0.98      0.97      0.98       271\n",
            "         5.0       0.96      1.00      0.98       236\n",
            "\n",
            "    accuracy                           0.94      1014\n",
            "   macro avg       0.94      0.88      0.90      1014\n",
            "weighted avg       0.94      0.94      0.94      1014\n",
            "\n"
          ]
        }
      ],
      "source": [
        "######## Option 1\n",
        "# ------------ View Confusion Matrix, Classification Report -------------------------------\n",
        "print('Confusion Matrix of LSTM 1 model: ')\n",
        "print(confusion_matrix(Y_test_1,LSTM_pred1))\n",
        "print('Classification Report of LSTM 1 model: ')\n",
        "print(classification_report(Y_test_1,LSTM_pred1))"
      ]
    },
    {
      "cell_type": "code",
      "execution_count": null,
      "metadata": {
        "colab": {
          "base_uri": "https://localhost:8080/"
        },
        "id": "bOVETmrshUgf",
        "outputId": "aaf599ba-5a47-42fb-fce3-c7e8efb46a38"
      },
      "outputs": [
        {
          "output_type": "stream",
          "name": "stdout",
          "text": [
            "Confusion Matrix of LSTM 2 model: \n",
            "[[147   2  14   0   0]\n",
            " [ 10  20  15   0   0]\n",
            " [  2   9 282   6   0]\n",
            " [  0   0  83 187   1]\n",
            " [  0   0   5   0 231]]\n",
            "Classification Report of LSTM 2 model: \n",
            "              precision    recall  f1-score   support\n",
            "\n",
            "         0.0       0.92      0.90      0.91       163\n",
            "         1.0       0.65      0.44      0.53        45\n",
            "         2.0       0.71      0.94      0.81       299\n",
            "         3.0       0.97      0.69      0.81       271\n",
            "         5.0       1.00      0.98      0.99       236\n",
            "\n",
            "    accuracy                           0.86      1014\n",
            "   macro avg       0.85      0.79      0.81      1014\n",
            "weighted avg       0.88      0.86      0.85      1014\n",
            "\n"
          ]
        }
      ],
      "source": [
        "######## Option 2\n",
        "# ------------ View Confusion Matrix, Classification Report -------------------------------\n",
        "print('Confusion Matrix of LSTM 2 model: ')\n",
        "print(confusion_matrix(Y_test_2,LSTM_pred2))\n",
        "print('Classification Report of LSTM 2 model: ')\n",
        "print(classification_report(Y_test_2,LSTM_pred2))"
      ]
    },
    {
      "cell_type": "code",
      "execution_count": null,
      "metadata": {
        "colab": {
          "base_uri": "https://localhost:8080/",
          "height": 513
        },
        "id": "AqTBtHkVhUgg",
        "outputId": "f304e77a-93d4-4e4f-e472-43ae16934e60"
      },
      "outputs": [
        {
          "output_type": "display_data",
          "data": {
            "text/plain": [
              "<Figure size 432x288 with 1 Axes>"
            ],
            "image/png": "[encoded data removed]"
          },
          "metadata": {
            "needs_background": "light"
          }
        },
        {
          "output_type": "display_data",
          "data": {
            "text/plain": [
              "<Figure size 432x288 with 1 Axes>"
            ],
            "image/png": "[encoded data removed]"
          },
          "metadata": {
            "needs_background": "light"
          }
        }
      ],
      "source": [
        "######## Option 1\n",
        "# ------ View History Graph -------------------------------------------\n",
        "# View Accuracy Graph\n",
        "# summarize history for accuracy\n",
        "plt.plot(history.history['acc'])\n",
        "plt.plot(history.history['val_acc'])\n",
        "plt.show()\n",
        "# View Loss Graph\n",
        "# summarize history for loss\n",
        "plt.plot(history.history['loss'])\n",
        "plt.plot(history.history['val_loss'])\n",
        "plt.show()"
      ]
    },
    {
      "cell_type": "code",
      "execution_count": null,
      "metadata": {
        "colab": {
          "base_uri": "https://localhost:8080/",
          "height": 513
        },
        "id": "UV-9no6bhUgh",
        "outputId": "8b2a8411-deaa-4190-d045-62c79d8dfe7d"
      },
      "outputs": [
        {
          "output_type": "display_data",
          "data": {
            "text/plain": [
              "<Figure size 432x288 with 1 Axes>"
            ],
            "image/png": "[encoded data removed]"
          },
          "metadata": {
            "needs_background": "light"
          }
        },
        {
          "output_type": "display_data",
          "data": {
            "text/plain": [
              "<Figure size 432x288 with 1 Axes>"
            ],
            "image/png": "[encoded data removed]"
          },
          "metadata": {
            "needs_background": "light"
          }
        }
      ],
      "source": [
        "######## Option 2\n",
        "# ------ View History Graph -------------------------------------------\n",
        "# View Accuracy Graph\n",
        "# summarize history for accuracy\n",
        "plt.plot(history2.history['acc'])\n",
        "plt.plot(history2.history['val_acc'])\n",
        "plt.show()\n",
        "# View Loss Graph\n",
        "# summarize history for loss\n",
        "plt.plot(history2.history['loss'])\n",
        "plt.plot(history2.history['val_loss'])\n",
        "plt.show()"
      ]
    }
  ],
  "metadata": {
    "kernelspec": {
      "display_name": "Python 3.9.6 64-bit",
      "language": "python",
      "name": "python3"
    },
    "language_info": {
      "codemirror_mode": {
        "name": "ipython",
        "version": 3
      },
      "file_extension": ".py",
      "mimetype": "text/x-python",
      "name": "python",
      "nbconvert_exporter": "python",
      "pygments_lexer": "ipython3",
      "version": "3.9.6"
    },
    "orig_nbformat": 4,
    "vscode": {
      "interpreter": {
        "hash": "d207591e6ff77a7c5fb4cef0dd9fd3703274637a9d0902d2045beb3a65bf572a"
      }
    },
    "colab": {
      "provenance": [],
      "include_colab_link": true
    }
  },
  "nbformat": 4,
  "nbformat_minor": 0
}